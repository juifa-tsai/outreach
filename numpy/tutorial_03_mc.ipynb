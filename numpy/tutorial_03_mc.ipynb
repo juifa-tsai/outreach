{
 "cells": [
  {
   "cell_type": "markdown",
   "metadata": {},
   "source": [
    "# Tutorial 3. Pseudo Data"
   ]
  },
  {
   "cell_type": "code",
   "execution_count": null,
   "metadata": {},
   "outputs": [],
   "source": [
    "import numpy as NP\n",
    "import matplotlib.pylab as PLT"
   ]
  },
  {
   "cell_type": "markdown",
   "metadata": {},
   "source": [
    "## 1. Defince the functions "
   ]
  },
  {
   "cell_type": "markdown",
   "metadata": {},
   "source": [
    "Let's make a fake data with pseudo-signal and background noice. The signal is used *Gaussian* distribution function as\n",
    "\n",
    "$$\n",
    "y_{\\text{signal}}(x) = ae^{-(\\frac{x-\\mu}{\\sigma})^2}+c\\ ,\n",
    "$$\n",
    "\n",
    "where $a$ is the amplitude; $\\mu$ is the mean value; $\\sigma$ is the uncertainty; and $c$ is the constant. The background noice is used *exponential* distribution function as \n",
    "\n",
    "$$\n",
    "y_{\\text{noice}}(x) = ae^{bx}+c\\ ,\n",
    "$$\n",
    "\n",
    "where $a$ is the amplitude; $b$ is the decay rate; and $c$ is the constant. The functions are bellow"
   ]
  },
  {
   "cell_type": "code",
   "execution_count": null,
   "metadata": {},
   "outputs": [],
   "source": [
    "def exponential(x, a, b, c):\n",
    "    return a*NP.exp(b*x) + c\n",
    "\n",
    "def gaussian(x, a, mean, sigma, c):\n",
    "    return a * NP.exp( - ((x - mean) / sigma) ** 2) + c"
   ]
  },
  {
   "cell_type": "markdown",
   "metadata": {},
   "source": [
    "### 1.1. First namespace class"
   ]
  },
  {
   "cell_type": "markdown",
   "metadata": {},
   "source": [
    "Different from usual function defination, sometime we prefer to collect the functions in a ***\"namespace\"*** for classifing your functions well. "
   ]
  },
  {
   "cell_type": "code",
   "execution_count": null,
   "metadata": {},
   "outputs": [],
   "source": [
    "# namespace class\n",
    "class NoisySignal:\n",
    "    \n",
    "    latex = {'signal':r'$y(x) = ae^{-(\\frac{x-\\mu}{\\sigma})^2}+c$',\n",
    "             'noise':r'$y(x) = ae^{bx}+c$'} \n",
    "    \n",
    "    def signal(x, a, mean, sigma, c):\n",
    "        \"\"\"\n",
    "        Signal distribution with Gaussian distribution function\n",
    "        \"\"\"\n",
    "        return gaussian(x, a, mean, sigma, c)\n",
    "    \n",
    "    def noise(x, a, b, c):\n",
    "        \"\"\"\n",
    "        Background noice with Exponential distribution function\n",
    "        \"\"\"\n",
    "        return exponential(x, a, b, c)\n",
    "    \n",
    "    def y(x, s_a, s_mean, s_sigma, s_c, n_a, n_b, n_c):\n",
    "        \"\"\"\n",
    "        Signal and background noince mixed distribution function\n",
    "        \"\"\"\n",
    "        return NoisySignal.noise(x, n_a, n_b, n_c) + \\\n",
    "               NoisySignal.signal(x, s_a, s_mean, s_sigma, s_c)\n",
    "    \n",
    "    def pdf(x, s_a, s_mean, s_sigma, s_c, n_a, n_b, n_c):\n",
    "        \"\"\"\n",
    "        Nomalized signal and background noince mixed distribution function\n",
    "        \"\"\"\n",
    "        y = NoisySignal.y(x, s_a, s_mean, s_sigma, s_c, n_a, n_b, n_c)\n",
    "        y = y/NP.sum(y)\n",
    "        return y"
   ]
  },
  {
   "cell_type": "markdown",
   "metadata": {},
   "source": [
    "### 1.2. Make noisy signal distribution"
   ]
  },
  {
   "cell_type": "code",
   "execution_count": null,
   "metadata": {},
   "outputs": [],
   "source": [
    "xs = NP.linspace(0,20,100)\n",
    "# gaussian signal parameters\n",
    "s_a = 0.5\n",
    "s_mean = 10 \n",
    "s_sigma = 1.5\n",
    "s_c = 0\n",
    "# exponential noise parameters\n",
    "n_a = 2 \n",
    "n_b = -0.1 \n",
    "n_c = 0\n",
    "# noisy signal\n",
    "ys = NoisySignal.y(xs, s_a, s_mean, s_sigma, s_c, n_a, n_b, n_c)\n",
    "ys_signal = NoisySignal.signal(xs, s_a, s_mean, s_sigma, s_c)\n",
    "ys_noice = NoisySignal.noise(xs, n_a, n_b, n_c)"
   ]
  },
  {
   "cell_type": "code",
   "execution_count": null,
   "metadata": {},
   "outputs": [],
   "source": [
    "PLT.figure(figsize=[10,5])\n",
    "PLT.plot(xs, ys, label='Mixed')\n",
    "PLT.plot(xs, ys_signal, '--', label=NoisySignal.latex['signal'])\n",
    "PLT.plot(xs, ys_noice, '--', label=NoisySignal.latex['noise'])\n",
    "PLT.legend()"
   ]
  },
  {
   "cell_type": "markdown",
   "metadata": {},
   "source": [
    "## 3. Generate pseudo data with Monte Carlo method\n",
    "The noisy signal distriubtion is combined by decay exponential distribution and gaussian distribution."
   ]
  },
  {
   "cell_type": "code",
   "execution_count": null,
   "metadata": {},
   "outputs": [],
   "source": [
    "# object class\n",
    "class MC(object):\n",
    "    \n",
    "    def __init__(self, xs, s_a, s_mean, s_sigma, s_c, n_a, n_b, n_c, seed=0):\n",
    "        \"\"\"\n",
    "        Constructor of object class\n",
    "        \"\"\"\n",
    "        # random seed\n",
    "        self.seed = seed\n",
    "        # x-axis values\n",
    "        self.xs = xs\n",
    "        # noisy-singal parameters\n",
    "        self.p0 = [s_a, s_mean, s_sigma, s_c, n_a, n_b, n_c]\n",
    "        # noisy-signal pdf\n",
    "        self.pdf = NoisySignal.pdf(xs, s_a, s_mean, s_sigma, s_c, n_a, n_b, n_c) \n",
    "        \n",
    "    def generate(self, n):\n",
    "        \"\"\"\n",
    "        Generate pseudo-data with the random number obeying the given PDF (Monte Carlo method)\n",
    "        \"\"\"\n",
    "        # set the seed (the begin of the sequence pseudo-random numbers)\n",
    "        NP.random.seed = self.seed\n",
    "        # generate random number with given x-axis possible value, number of generated data, and given PDF  \n",
    "        data = NP.random.choice(self.xs, n, p=self.pdf)\n",
    "        return data"
   ]
  },
  {
   "cell_type": "code",
   "execution_count": null,
   "metadata": {},
   "outputs": [],
   "source": [
    "# Call the MC class\n",
    "mc = MC(xs, s_a, s_mean, s_sigma, s_c, n_a, n_b, n_c)\n",
    "# Draw the normalized distriubtion function (PDF)\n",
    "PLT.figure(figsize=[10,5])\n",
    "PLT.plot(mc.xs, mc.pdf)"
   ]
  },
  {
   "cell_type": "code",
   "execution_count": null,
   "metadata": {},
   "outputs": [],
   "source": [
    "# generate psuedo data with random function\n",
    "data = mc.generate(1000)\n",
    "print('Data size : ', len(data))"
   ]
  },
  {
   "cell_type": "code",
   "execution_count": null,
   "metadata": {},
   "outputs": [],
   "source": [
    "# Make histogram\n",
    "PLT.figure(figsize=[10,5])\n",
    "PLT.hist(data, bins=50, range=[0,20])"
   ]
  },
  {
   "cell_type": "code",
   "execution_count": null,
   "metadata": {},
   "outputs": [],
   "source": [
    "# generate psuedo data with random function and different size of data\n",
    "data = []\n",
    "for n in [100, 500, 1000, 5000, 10000, 50000]:\n",
    "    data.append(mc.generate(n))"
   ]
  },
  {
   "cell_type": "code",
   "execution_count": null,
   "metadata": {},
   "outputs": [],
   "source": [
    "fig, axes = PLT.subplots(nrows=2, ncols=3, figsize=[20,10])\n",
    "# 2nd order linear\n",
    "y1, x1, img = axes[0][0].hist(data[0], bins=100, range=[0,20])\n",
    "y2, x2, img = axes[0][1].hist(data[1], bins=100, range=[0,20])\n",
    "y3, x3, img = axes[0][2].hist(data[2], bins=100, range=[0,20])\n",
    "y4, x4, img = axes[1][0].hist(data[3], bins=100, range=[0,20])\n",
    "y5, x5, img = axes[1][1].hist(data[4], bins=100, range=[0,20])\n",
    "y6, x6, img = axes[1][2].hist(data[5], bins=100, range=[0,20])"
   ]
  },
  {
   "cell_type": "markdown",
   "metadata": {},
   "source": [
    "## Fitting"
   ]
  },
  {
   "cell_type": "code",
   "execution_count": null,
   "metadata": {},
   "outputs": [],
   "source": [
    "from scipy.optimize import curve_fit"
   ]
  },
  {
   "cell_type": "code",
   "execution_count": null,
   "metadata": {},
   "outputs": [],
   "source": [
    "fit_p, fit_v = curve_fit(NoisySignal.y, x6[:-1], y6, p0=mc.p0)"
   ]
  },
  {
   "cell_type": "code",
   "execution_count": null,
   "metadata": {},
   "outputs": [],
   "source": [
    "PLT.hist(data[5], bins=100, range=[0,20])\n",
    "PLT.plot(mc.xs, NoisySignal.y(xs, fit_p[0], fit_p[1], fit_p[2], fit_p[3], fit_p[4], fit_p[5], fit_p[6] ), 'r-')"
   ]
  },
  {
   "cell_type": "code",
   "execution_count": null,
   "metadata": {},
   "outputs": [],
   "source": [
    "print(mc.p0)\n",
    "print(fit_p)"
   ]
  },
  {
   "cell_type": "markdown",
   "metadata": {},
   "source": [
    "# Evaluation"
   ]
  },
  {
   "cell_type": "code",
   "execution_count": null,
   "metadata": {},
   "outputs": [],
   "source": [
    "class metric:\n",
    "    def r2( obs, exp ):\n",
    "        \"\"\"\n",
    "        R-square matric\n",
    "        https://en.wikipedia.org/wiki/Coefficient_of_determination\n",
    "        \"\"\"\n",
    "        if len(obs) != len(exp):\n",
    "            print(\">> [ERROR] different size (%d, %d)\"%(len(obs), len(exp)))\n",
    "            return\n",
    "    \n",
    "        obs = NP.atleast_1d(obs)\n",
    "        exp = NP.atleast_1d(exp)\n",
    "        sobs = sum((obs - obs.mean())**2)\n",
    "        sexp = sum((exp - obs)**2)\n",
    "        return 1 - sexp/sobs\n",
    "    \n",
    "    def chi2( obs, exp, error=None):\n",
    "        \"\"\"\n",
    "        Calculate chi2\n",
    "        https://en.wikipedia.org/wiki/Chi-squared_test\n",
    "        \"\"\"\n",
    "        obs = NP.atleast_1d(obs)\n",
    "        exp = NP.atleast_1d(exp)\n",
    "        if error is None:\n",
    "            error = NP.sqrt(obs)\n",
    "        else:\n",
    "            error = NP.atleast_1d(error)\n",
    "        if len(obs) != len(exp) or len(exp) != len(error):\n",
    "            print(\"ERROR : different size (%d, %d)\"%(len(obs), len(exp)))\n",
    "        msk = error != 0\n",
    "        print((obs[msk] - exp[msk])/error[msk])\n",
    "        return sum(((obs[msk] - exp[msk])/error[msk])**2)\n",
    "\n",
    "    def chi2ndf( obs, exp, error=None, n_pars=1 ):\n",
    "        \"\"\"\n",
    "        https://mail.python.org/pipermail/scipy-user/2013-February/034196.html\n",
    "        \"\"\"\n",
    "        chi2 = metric.chi2(obs, exp, error)\n",
    "        ndf = len(obs) - n_pars\n",
    "        return chi2/ndf"
   ]
  },
  {
   "cell_type": "code",
   "execution_count": null,
   "metadata": {},
   "outputs": [],
   "source": [
    "fitted_y = NoisySignal.y(x6[:-1], fit_p[0], fit_p[1], fit_p[2], fit_p[3], fit_p[4], fit_p[5], fit_p[6] )\n",
    "#print('R2 : %f'%(metric.r2(y6, fitted_y)))\n",
    "#print('Chi2 : %f'%(metric.chi2ndf(x6[:-1], fitted_y, n_pars=7)))"
   ]
  },
  {
   "cell_type": "markdown",
   "metadata": {},
   "source": [
    "## Appandix - Make Animation"
   ]
  },
  {
   "cell_type": "code",
   "execution_count": null,
   "metadata": {},
   "outputs": [],
   "source": [
    "from matplotlib import animation"
   ]
  },
  {
   "cell_type": "code",
   "execution_count": null,
   "metadata": {},
   "outputs": [],
   "source": [
    "data = []\n",
    "for n in range(100, 50000, 100):\n",
    "    data.append(mc.generate(n))"
   ]
  },
  {
   "cell_type": "code",
   "execution_count": null,
   "metadata": {},
   "outputs": [],
   "source": [
    "fig, ax = PLT.subplots(figsize=[10,8])\n",
    "\n",
    "def animate(i):\n",
    "    ax.clear()\n",
    "    ax.set_ylim([0,1500])\n",
    "    ax.hist(data[i], bins=100, range=[0,20])\n",
    "def init():\n",
    "    ax.hist(data[0])\n",
    "\n",
    "ani = animation.FuncAnimation(fig=fig,\n",
    "                              func=animate,\n",
    "                              frames=len(data),\n",
    "                              init_func=init,\n",
    "                              interval=20000,\n",
    "                              blit=False)"
   ]
  },
  {
   "cell_type": "code",
   "execution_count": null,
   "metadata": {},
   "outputs": [],
   "source": [
    "# may take a while to save\n",
    "ani.save('basic_animation.mp4', fps=30, extra_args=['-vcodec', 'libx264'])"
   ]
  },
  {
   "cell_type": "code",
   "execution_count": null,
   "metadata": {},
   "outputs": [],
   "source": []
  }
 ],
 "metadata": {
  "kernelspec": {
   "display_name": "Python 3",
   "language": "python",
   "name": "python3"
  },
  "language_info": {
   "codemirror_mode": {
    "name": "ipython",
    "version": 3
   },
   "file_extension": ".py",
   "mimetype": "text/x-python",
   "name": "python",
   "nbconvert_exporter": "python",
   "pygments_lexer": "ipython3",
   "version": "3.6.5"
  }
 },
 "nbformat": 4,
 "nbformat_minor": 2
}
