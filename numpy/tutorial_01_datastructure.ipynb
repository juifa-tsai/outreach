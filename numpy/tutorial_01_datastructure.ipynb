{
 "cells": [
  {
   "cell_type": "markdown",
   "metadata": {},
   "source": [
    "# Tutorial 1. Make PDF with Numpy"
   ]
  },
  {
   "cell_type": "markdown",
   "metadata": {},
   "source": [
    "## 1. Basic Data structure in Python\n",
    "There are 4 basic data structure in Python which you must know them in the first class of Python : ***tuple***, ***list***, ***set*** and ***dict***."
   ]
  },
  {
   "cell_type": "markdown",
   "metadata": {},
   "source": [
    "## 1.1. What's is tuple\n",
    "* Mutable : False\n",
    "* Index : True\n",
    "* Duplicate : True\n",
    "* Multitype : True\n",
    "* Multidimension : True\n",
    "* Sizable sub-dimension : True\n",
    "* Logical operater : False\n",
    "* Common usage : To store any group of data which are constants."
   ]
  },
  {
   "cell_type": "code",
   "execution_count": 1,
   "metadata": {},
   "outputs": [
    {
     "name": "stdout",
     "output_type": "stream",
     "text": [
      "<class 'tuple'>\n",
      "(1, 1, 2.1, 'hello')\n",
      "1\n",
      "hello\n",
      "2.1\n",
      "(1, 2.1)\n"
     ]
    }
   ],
   "source": [
    "a = (1, 1, 2.1, 'hello')\n",
    "print(type(a))\n",
    "print(a)\n",
    "print(a[0])\n",
    "print(a[-1])\n",
    "print(a[-2])\n",
    "print(a[1:3])"
   ]
  },
  {
   "cell_type": "code",
   "execution_count": 22,
   "metadata": {},
   "outputs": [
    {
     "name": "stdout",
     "output_type": "stream",
     "text": [
      "(2, 3, '4')\n"
     ]
    }
   ],
   "source": [
    "b = ((1,1), (2,3,'4'), (5))\n",
    "print(b[1][:])"
   ]
  },
  {
   "cell_type": "markdown",
   "metadata": {},
   "source": [
    "### 1.2. What's is list\n",
    "* Mutable : True\n",
    "* Index : True\n",
    "* Duplicate : True\n",
    "* Multitype : True\n",
    "* Multidimension : True\n",
    "* Sizable sub-dimension : True\n",
    "* Logical operater : False\n",
    "* Common usage : To store any group of data, and the elements may be replaced or appended."
   ]
  },
  {
   "cell_type": "code",
   "execution_count": 2,
   "metadata": {},
   "outputs": [
    {
     "name": "stdout",
     "output_type": "stream",
     "text": [
      "<class 'list'>\n",
      "[1, 1, 2.1, 'hello']\n",
      "1\n",
      "hello\n",
      "2.1\n",
      "[1, 2.1]\n"
     ]
    }
   ],
   "source": [
    "a = [1, 1, 2.1, 'hello']\n",
    "print(type(a))\n",
    "print(a)\n",
    "print(a[0])\n",
    "print(a[-1])\n",
    "print(a[-2])\n",
    "print(a[1:3])"
   ]
  },
  {
   "cell_type": "code",
   "execution_count": 3,
   "metadata": {},
   "outputs": [
    {
     "name": "stdout",
     "output_type": "stream",
     "text": [
      "[2, 1, 2.1, 'hello']\n",
      "[2, 1, 2.1, 'hello', 'world']\n"
     ]
    }
   ],
   "source": [
    "a[0] = 2\n",
    "print(a)\n",
    "a.append('world')\n",
    "print(a)"
   ]
  },
  {
   "cell_type": "code",
   "execution_count": 4,
   "metadata": {},
   "outputs": [
    {
     "name": "stdout",
     "output_type": "stream",
     "text": [
      "2 [1, 2.1, 'hello', 'world']\n",
      "world [1, 2.1, 'hello']\n"
     ]
    }
   ],
   "source": [
    "# Data structure - Queue (first-in-first-out)\n",
    "out = a.pop(0)\n",
    "print(out, a)\n",
    "# Data structure - Stack (first-in-last-out)\n",
    "out = a.pop(-1)\n",
    "print(out, a)"
   ]
  },
  {
   "cell_type": "code",
   "execution_count": 26,
   "metadata": {},
   "outputs": [
    {
     "name": "stdout",
     "output_type": "stream",
     "text": [
      "[1, 1]\n"
     ]
    }
   ],
   "source": [
    "b = [[1,1], [2,3,'4'], 5]\n",
    "print(b[1][:])"
   ]
  },
  {
   "cell_type": "markdown",
   "metadata": {},
   "source": [
    "### 1.3. What's is set\n",
    "* Mutable : True\n",
    "* Index : False\n",
    "* Duplicate : False\n",
    "* Multitype : True\n",
    "* Multidimension : False\n",
    "* Sizable sub-dimension : False\n",
    "* Logical operater : True\n",
    "* Common usage : To compare the difference of two dataset, i.e. intersection, union or difference"
   ]
  },
  {
   "cell_type": "code",
   "execution_count": 5,
   "metadata": {},
   "outputs": [
    {
     "name": "stdout",
     "output_type": "stream",
     "text": [
      "<class 'set'>\n",
      "{'hello', 1, 2.1, 2}\n",
      "{'hello', 1, 3, 'world'}\n"
     ]
    }
   ],
   "source": [
    "a = {1, 1, 2.1, 'hello', 2}\n",
    "b = {1, 3, 'hello', 'world'}\n",
    "print(type(a))\n",
    "print(a)\n",
    "print(b)"
   ]
  },
  {
   "cell_type": "code",
   "execution_count": 6,
   "metadata": {},
   "outputs": [
    {
     "name": "stdout",
     "output_type": "stream",
     "text": [
      "Difference a - b : {2.1, 2}\n",
      "Difference b - a : {3, 'world'}\n",
      "Intersection b & a : {'hello', 1}\n",
      "Union a | b : {1, 2.1, 2, 3, 'hello', 'world'}\n"
     ]
    }
   ],
   "source": [
    "print(\"Difference a - b :\", a.difference(b))\n",
    "print(\"Difference b - a :\", b.difference(a))\n",
    "print(\"Intersection b & a :\", a.intersection(b))\n",
    "print(\"Union a | b :\", a.union(b))"
   ]
  },
  {
   "cell_type": "markdown",
   "metadata": {},
   "source": [
    "### 1.4. What's is dict\n",
    "* Mutable : True\n",
    "* Index : False\n",
    "* Duplicate : False\n",
    "* Multitype : True\n",
    "* Multidimension : True\n",
    "* Sizable sub-dimension : True\n",
    "* Logical operater : False\n",
    "* Common usage : The hashmap data structure base. The indexing is made with keys."
   ]
  },
  {
   "cell_type": "code",
   "execution_count": 7,
   "metadata": {},
   "outputs": [
    {
     "name": "stdout",
     "output_type": "stream",
     "text": [
      "{1: 2, 'b': 3, 2: 'a'}\n",
      "keys :  dict_keys([1, 'b', 2])\n",
      "values :  dict_values([2, 3, 'a'])\n"
     ]
    }
   ],
   "source": [
    "a = {1:2, 'b':3, 2:'a'}\n",
    "print(a)\n",
    "print('keys : ', a.keys())\n",
    "print('values : ', a.values())"
   ]
  },
  {
   "cell_type": "code",
   "execution_count": 8,
   "metadata": {},
   "outputs": [
    {
     "name": "stdout",
     "output_type": "stream",
     "text": [
      "{1: 3, 'b': 3, 2: 'a', 'c': 'd'}\n"
     ]
    }
   ],
   "source": [
    "a['c'] = 'd'\n",
    "a[1] = 3\n",
    "print(a)"
   ]
  },
  {
   "cell_type": "code",
   "execution_count": 27,
   "metadata": {},
   "outputs": [
    {
     "name": "stdout",
     "output_type": "stream",
     "text": [
      "kitty\n"
     ]
    }
   ],
   "source": [
    "b = {'hello':{1:'world', 2:'kitty'}, 3:4}\n",
    "print(b['hello'][2])"
   ]
  },
  {
   "cell_type": "markdown",
   "metadata": {},
   "source": [
    "### 1.5. Change type"
   ]
  },
  {
   "cell_type": "code",
   "execution_count": 9,
   "metadata": {},
   "outputs": [
    {
     "name": "stdout",
     "output_type": "stream",
     "text": [
      "[1, 1, 2.1, 'hello']\n",
      "{'hello', 1, 2.1}\n"
     ]
    }
   ],
   "source": [
    "a = (1, 1, 2.1, 'hello')\n",
    "print(list(a))\n",
    "print(set(a))"
   ]
  },
  {
   "cell_type": "markdown",
   "metadata": {},
   "source": [
    "## 2. The advance data structure in Python (Numpy.array)\n",
    "Numpy is the extra python package for numarical computation.\n",
    "* Mutable : True\n",
    "* Index : True\n",
    "* Duplicate : True\n",
    "* Multitype : False\n",
    "* Multidimension : True\n",
    "* Sizable sub-dimension : False\n",
    "* Logical operater : True"
   ]
  },
  {
   "cell_type": "code",
   "execution_count": 10,
   "metadata": {},
   "outputs": [],
   "source": [
    "import numpy as NP"
   ]
  },
  {
   "cell_type": "code",
   "execution_count": 32,
   "metadata": {},
   "outputs": [
    {
     "name": "stdout",
     "output_type": "stream",
     "text": [
      "[1 2 3 4] <class 'numpy.ndarray'> int64\n",
      "[1. 2. 3. 4.] <class 'numpy.ndarray'> float64\n"
     ]
    }
   ],
   "source": [
    "a = NP.array([1, 2, 3, 4])\n",
    "b = NP.array([1., 2., 3., 4.])\n",
    "print(a, type(a), a.dtype)\n",
    "print(b, type(b), b.dtype)"
   ]
  },
  {
   "cell_type": "code",
   "execution_count": 16,
   "metadata": {},
   "outputs": [
    {
     "name": "stdout",
     "output_type": "stream",
     "text": [
      "[2. 4. 6. 8.]\n",
      "[0. 0. 0. 0.]\n",
      "[ 1.  4.  9. 16.]\n",
      "[1. 1. 1. 1.]\n",
      "[0. 0. 0. 0.]\n",
      "[False False False False]\n",
      "[False False False False]\n",
      "[ True  True  True  True]\n",
      "[False False False False]\n",
      "[1.41421356 2.82842712 4.24264069 5.65685425]\n"
     ]
    }
   ],
   "source": [
    "# logic\n",
    "print(a + b)\n",
    "print(a - b)\n",
    "print(a * b)\n",
    "print(a / b)\n",
    "print(a % b)\n",
    "print(a > b)\n",
    "print(a < b)\n",
    "print(a == b)\n",
    "print(a != b)"
   ]
  },
  {
   "cell_type": "code",
   "execution_count": 17,
   "metadata": {},
   "outputs": [
    {
     "name": "stdout",
     "output_type": "stream",
     "text": [
      "2.5 2.5\n",
      "1.118033988749895 1.118033988749895\n",
      "[1.41421356 2.82842712 4.24264069 5.65685425]\n"
     ]
    }
   ],
   "source": [
    "# math\n",
    "print(NP.mean(a), NP.mean(b))\n",
    "print(NP.std(a), NP.std(b))\n",
    "print(NP.sqrt(a**2 + b**2))"
   ]
  },
  {
   "cell_type": "code",
   "execution_count": 38,
   "metadata": {},
   "outputs": [
    {
     "name": "stdout",
     "output_type": "stream",
     "text": [
      "[1 2 3 4]\n",
      "[ True  True False False]\n",
      "[1 2]\n",
      "[1 2]\n"
     ]
    }
   ],
   "source": [
    "# selection\n",
    "msk = a < 3\n",
    "print(a)\n",
    "print(msk) \n",
    "print(a[msk])\n",
    "print(a[a < 3])"
   ]
  },
  {
   "cell_type": "code",
   "execution_count": 47,
   "metadata": {},
   "outputs": [
    {
     "name": "stdout",
     "output_type": "stream",
     "text": [
      "[[0 1 2]\n",
      " [3 4 5]\n",
      " [6 7 8]]\n"
     ]
    }
   ],
   "source": [
    "# 2D\n",
    "b = NP.array([[0, 1,2], [3,4,5], [6,7,8]])\n",
    "print(b)"
   ]
  },
  {
   "cell_type": "code",
   "execution_count": 49,
   "metadata": {},
   "outputs": [
    {
     "name": "stdout",
     "output_type": "stream",
     "text": [
      "[[0 3 6]\n",
      " [1 4 7]\n",
      " [2 5 8]]\n",
      "[[0 0 0]\n",
      " [3 4 0]\n",
      " [6 7 8]]\n",
      "[[0 1 2]\n",
      " [0 4 5]\n",
      " [0 0 8]]\n",
      "[[-1 -2 -3]\n",
      " [-4 -5 -6]\n",
      " [-7 -8 -9]]\n"
     ]
    }
   ],
   "source": [
    "# math\n",
    "print(NP.transpose(b))\n",
    "print(NP.tril(b))\n",
    "print(NP.triu(b))\n",
    "print(NP.invert(b))"
   ]
  },
  {
   "cell_type": "code",
   "execution_count": 52,
   "metadata": {},
   "outputs": [
    {
     "name": "stdout",
     "output_type": "stream",
     "text": [
      "[-2 -2 -2]\n"
     ]
    }
   ],
   "source": [
    "c = NP.array([1,0,-1])\n",
    "print(b.dot(c))"
   ]
  },
  {
   "cell_type": "code",
   "execution_count": null,
   "metadata": {},
   "outputs": [],
   "source": []
  }
 ],
 "metadata": {
  "kernelspec": {
   "display_name": "Python 3",
   "language": "python",
   "name": "python3"
  },
  "language_info": {
   "codemirror_mode": {
    "name": "ipython",
    "version": 3
   },
   "file_extension": ".py",
   "mimetype": "text/x-python",
   "name": "python",
   "nbconvert_exporter": "python",
   "pygments_lexer": "ipython3",
   "version": "3.6.5"
  }
 },
 "nbformat": 4,
 "nbformat_minor": 2
}
