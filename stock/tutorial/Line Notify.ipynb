{
 "cells": [
  {
   "cell_type": "markdown",
   "metadata": {},
   "source": [
    "# Line Notify"
   ]
  },
  {
   "cell_type": "markdown",
   "metadata": {},
   "source": [
    "# 文字訊息發送"
   ]
  },
  {
   "cell_type": "code",
   "execution_count": null,
   "metadata": {},
   "outputs": [],
   "source": [
    "import requests\n",
    "\n",
    "def SendMessageToLineNotify(Token, Message):\n",
    "    url = 'https://notify-api.line.me/api/notify' \n",
    "    headers = {'Authorization': 'Bearer ' + Token}\n",
    "    payload = {'message': Message}\n",
    "    return requests.post(url, headers = headers, data = payload)\n",
    "\n",
    "def main():\n",
    "    Token = '你的Token'\n",
    "    Message = '中文測試~!@#$%^&*()123456789'\n",
    "    res = SendMessageToLineNotify(Token, Message)\n",
    "    print(res.text)\n",
    "    \n",
    "if __name__ == '__main__':\n",
    "    main()"
   ]
  },
  {
   "cell_type": "markdown",
   "metadata": {},
   "source": [
    "# 網路圖片發送"
   ]
  },
  {
   "cell_type": "code",
   "execution_count": null,
   "metadata": {},
   "outputs": [],
   "source": [
    "import requests\n",
    "\n",
    "def SendMessageToLineNotify(Token, Message, Picurl):   \n",
    "    url = \"https://notify-api.line.me/api/notify\"    \n",
    "    payload = {'message' : Message,\n",
    "               'imageThumbnail' : Picurl,\n",
    "               'imageFullsize' : Picurl,\n",
    "               'stickerPackageId' : 1,\n",
    "               'stickerId' : 106\n",
    "              }\n",
    "    header = {'Authorization' : 'Bearer ' + Token}\n",
    "    return requests.post(url, headers = header, data = payload)    \n",
    "\n",
    "def main():\n",
    "    Token = '你的Token'\n",
    "    Message = '家扶娃娃連結'\n",
    "    Picurl = 'https://www.ccf.org.tw/new/endpoverty/images/product/product-pic5.jpg'\n",
    "    res = SendMessageToLineNotify(Token, Message, Picurl)\n",
    "    print(res.text)\n",
    "    \n",
    "if __name__ == '__main__':\n",
    "    main()"
   ]
  },
  {
   "cell_type": "markdown",
   "metadata": {},
   "source": [
    "# 本機端圖片發送"
   ]
  },
  {
   "cell_type": "code",
   "execution_count": null,
   "metadata": {},
   "outputs": [],
   "source": [
    "import requests\n",
    "\n",
    "def SendMessageToLineNotify(Token, Message, Filepath):    \n",
    "    url = 'https://notify-api.line.me/api/notify'    \n",
    "    payload = {'message' : Message}\n",
    "    header = {'Authorization' : 'Bearer ' + Token}\n",
    "    files = {'imageFile' : open(Filepath, 'rb')}    \n",
    "    return requests.post(url, headers = header, data = payload, files=files)\n",
    "\n",
    "def main():\n",
    "    Token = '你的Token'\n",
    "    Message = '中文測試~!@#$%^&*()123456789'\n",
    "    Filepath = 'E:\\\\20170128\\\\123.jpg'\n",
    "    res = SendMessageToLineNotify(Token, Message, Filepath)\n",
    "    print(res.text)\n",
    "    \n",
    "if __name__ == '__main__':\n",
    "    main()"
   ]
  },
  {
   "cell_type": "code",
   "execution_count": null,
   "metadata": {
    "collapsed": true
   },
   "outputs": [],
   "source": []
  }
 ],
 "metadata": {
  "kernelspec": {
   "display_name": "Python 3",
   "language": "python",
   "name": "python3"
  },
  "language_info": {
   "codemirror_mode": {
    "name": "ipython",
    "version": 3
   },
   "file_extension": ".py",
   "mimetype": "text/x-python",
   "name": "python",
   "nbconvert_exporter": "python",
   "pygments_lexer": "ipython3",
   "version": "3.6.2"
  }
 },
 "nbformat": 4,
 "nbformat_minor": 2
}
