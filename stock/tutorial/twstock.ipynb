{
 "cells": [
  {
   "cell_type": "markdown",
   "metadata": {},
   "source": [
    "# twstock\n",
    "### [參考文件PDF](https://buildmedia.readthedocs.org/media/pdf/twstock/latest/twstock.pdf)\n",
    "### [Pypi](https://pypi.org/project/twstock/#files)\n",
    "### 安裝指令 pip install twstock"
   ]
  },
  {
   "cell_type": "code",
   "execution_count": 2,
   "metadata": {},
   "outputs": [
    {
     "name": "stdout",
     "output_type": "stream",
     "text": [
      "Collecting twstock\n",
      "  Downloading https://files.pythonhosted.org/packages/38/a0/61e6b65093a7564cb8e34aea54de28113bfe24409fb05e173360fbf5a35d/twstock-1.3.1-py3-none-any.whl (1.9MB)\n",
      "Requirement already satisfied: requests in c:\\users\\amin\\anaconda3\\lib\\site-packages (from twstock) (2.18.4)\n",
      "Requirement already satisfied: chardet<3.1.0,>=3.0.2 in c:\\users\\amin\\anaconda3\\lib\\site-packages (from requests->twstock) (3.0.4)\n",
      "Requirement already satisfied: idna<2.7,>=2.5 in c:\\users\\amin\\anaconda3\\lib\\site-packages (from requests->twstock) (2.6)\n",
      "Requirement already satisfied: urllib3<1.23,>=1.21.1 in c:\\users\\amin\\anaconda3\\lib\\site-packages (from requests->twstock) (1.22)\n",
      "Requirement already satisfied: certifi>=2017.4.17 in c:\\users\\amin\\anaconda3\\lib\\site-packages (from requests->twstock) (2017.7.27.1)\n",
      "Installing collected packages: twstock\n",
      "Successfully installed twstock-1.3.1\n"
     ]
    }
   ],
   "source": [
    "!pip install twstock"
   ]
  },
  {
   "cell_type": "code",
   "execution_count": 6,
   "metadata": {},
   "outputs": [
    {
     "name": "stdout",
     "output_type": "stream",
     "text": [
      "StockCodeInfo(type='股票', code='2330', name='台積電', ISIN='TW0002330008', start='1994/09/05', market='上市', group='半導體業', CFI='ESVUFR')\n"
     ]
    }
   ],
   "source": [
    "import twstock\n",
    "stockinfo = twstock.codes['2330']\n",
    "print(stockinfo)"
   ]
  },
  {
   "cell_type": "code",
   "execution_count": 8,
   "metadata": {},
   "outputs": [
    {
     "name": "stdout",
     "output_type": "stream",
     "text": [
      "[datetime.datetime(2019, 1, 2, 0, 0), datetime.datetime(2019, 1, 3, 0, 0), datetime.datetime(2019, 1, 4, 0, 0), datetime.datetime(2019, 1, 7, 0, 0), datetime.datetime(2019, 1, 8, 0, 0), datetime.datetime(2019, 1, 9, 0, 0), datetime.datetime(2019, 1, 10, 0, 0), datetime.datetime(2019, 1, 11, 0, 0), datetime.datetime(2019, 1, 14, 0, 0), datetime.datetime(2019, 1, 15, 0, 0), datetime.datetime(2019, 1, 16, 0, 0), datetime.datetime(2019, 1, 17, 0, 0), datetime.datetime(2019, 1, 18, 0, 0), datetime.datetime(2019, 1, 21, 0, 0), datetime.datetime(2019, 1, 22, 0, 0), datetime.datetime(2019, 1, 23, 0, 0), datetime.datetime(2019, 1, 24, 0, 0), datetime.datetime(2019, 1, 25, 0, 0), datetime.datetime(2019, 1, 28, 0, 0), datetime.datetime(2019, 1, 29, 0, 0), datetime.datetime(2019, 1, 30, 0, 0)] : [219.5, 215.5, 208.0, 213.0, 211.0, 215.5, 216.0, 220.5, 218.5, 221.0, 217.5, 220.5, 218.5, 221.0, 223.0, 220.5, 222.5, 226.0, 229.0, 222.5, 221.0]\n"
     ]
    }
   ],
   "source": [
    "stock = twstock.Stock('2330')\n",
    "stock.fetch(2019, 1) \n",
    "print('{} : {}'.format(stock.date, stock.price))"
   ]
  },
  {
   "cell_type": "code",
   "execution_count": 3,
   "metadata": {},
   "outputs": [
    {
     "data": {
      "text/html": [
       "<div>\n",
       "<style scoped>\n",
       "    .dataframe tbody tr th:only-of-type {\n",
       "        vertical-align: middle;\n",
       "    }\n",
       "\n",
       "    .dataframe tbody tr th {\n",
       "        vertical-align: top;\n",
       "    }\n",
       "\n",
       "    .dataframe thead th {\n",
       "        text-align: right;\n",
       "    }\n",
       "</style>\n",
       "<table border=\"1\" class=\"dataframe\">\n",
       "  <thead>\n",
       "    <tr style=\"text-align: right;\">\n",
       "      <th></th>\n",
       "      <th>date</th>\n",
       "      <th>capacity</th>\n",
       "      <th>turnover</th>\n",
       "      <th>open</th>\n",
       "      <th>high</th>\n",
       "      <th>low</th>\n",
       "      <th>close</th>\n",
       "      <th>change</th>\n",
       "      <th>transaction</th>\n",
       "    </tr>\n",
       "  </thead>\n",
       "  <tbody>\n",
       "    <tr>\n",
       "      <td>0</td>\n",
       "      <td>2019-10-01</td>\n",
       "      <td>75248890</td>\n",
       "      <td>20886838992</td>\n",
       "      <td>273.0</td>\n",
       "      <td>280.5</td>\n",
       "      <td>273.0</td>\n",
       "      <td>280.0</td>\n",
       "      <td>8.0</td>\n",
       "      <td>26648</td>\n",
       "    </tr>\n",
       "    <tr>\n",
       "      <td>1</td>\n",
       "      <td>2019-10-02</td>\n",
       "      <td>30572953</td>\n",
       "      <td>8553297334</td>\n",
       "      <td>280.0</td>\n",
       "      <td>281.0</td>\n",
       "      <td>279.0</td>\n",
       "      <td>279.5</td>\n",
       "      <td>-0.5</td>\n",
       "      <td>12294</td>\n",
       "    </tr>\n",
       "    <tr>\n",
       "      <td>2</td>\n",
       "      <td>2019-10-03</td>\n",
       "      <td>35874864</td>\n",
       "      <td>9891620358</td>\n",
       "      <td>274.0</td>\n",
       "      <td>277.5</td>\n",
       "      <td>274.0</td>\n",
       "      <td>276.5</td>\n",
       "      <td>-3.0</td>\n",
       "      <td>12853</td>\n",
       "    </tr>\n",
       "    <tr>\n",
       "      <td>3</td>\n",
       "      <td>2019-10-04</td>\n",
       "      <td>35814613</td>\n",
       "      <td>9924872301</td>\n",
       "      <td>279.5</td>\n",
       "      <td>280.0</td>\n",
       "      <td>275.0</td>\n",
       "      <td>276.5</td>\n",
       "      <td>0.0</td>\n",
       "      <td>13780</td>\n",
       "    </tr>\n",
       "    <tr>\n",
       "      <td>4</td>\n",
       "      <td>2019-10-07</td>\n",
       "      <td>17750230</td>\n",
       "      <td>4944376000</td>\n",
       "      <td>279.0</td>\n",
       "      <td>279.5</td>\n",
       "      <td>277.5</td>\n",
       "      <td>278.0</td>\n",
       "      <td>1.5</td>\n",
       "      <td>7757</td>\n",
       "    </tr>\n",
       "    <tr>\n",
       "      <td>...</td>\n",
       "      <td>...</td>\n",
       "      <td>...</td>\n",
       "      <td>...</td>\n",
       "      <td>...</td>\n",
       "      <td>...</td>\n",
       "      <td>...</td>\n",
       "      <td>...</td>\n",
       "      <td>...</td>\n",
       "      <td>...</td>\n",
       "    </tr>\n",
       "    <tr>\n",
       "      <td>57</td>\n",
       "      <td>2019-12-23</td>\n",
       "      <td>26911340</td>\n",
       "      <td>8923609754</td>\n",
       "      <td>329.5</td>\n",
       "      <td>334.0</td>\n",
       "      <td>329.5</td>\n",
       "      <td>334.0</td>\n",
       "      <td>5.0</td>\n",
       "      <td>12310</td>\n",
       "    </tr>\n",
       "    <tr>\n",
       "      <td>58</td>\n",
       "      <td>2019-12-24</td>\n",
       "      <td>13783907</td>\n",
       "      <td>4591661991</td>\n",
       "      <td>334.0</td>\n",
       "      <td>334.5</td>\n",
       "      <td>332.0</td>\n",
       "      <td>332.0</td>\n",
       "      <td>-2.0</td>\n",
       "      <td>7887</td>\n",
       "    </tr>\n",
       "    <tr>\n",
       "      <td>59</td>\n",
       "      <td>2019-12-25</td>\n",
       "      <td>12262954</td>\n",
       "      <td>4075131136</td>\n",
       "      <td>332.0</td>\n",
       "      <td>334.5</td>\n",
       "      <td>331.0</td>\n",
       "      <td>333.0</td>\n",
       "      <td>1.0</td>\n",
       "      <td>7597</td>\n",
       "    </tr>\n",
       "    <tr>\n",
       "      <td>60</td>\n",
       "      <td>2019-12-26</td>\n",
       "      <td>11427884</td>\n",
       "      <td>3803665702</td>\n",
       "      <td>333.0</td>\n",
       "      <td>334.0</td>\n",
       "      <td>331.5</td>\n",
       "      <td>333.0</td>\n",
       "      <td>0.0</td>\n",
       "      <td>6439</td>\n",
       "    </tr>\n",
       "    <tr>\n",
       "      <td>61</td>\n",
       "      <td>2019-12-27</td>\n",
       "      <td>16677806</td>\n",
       "      <td>5624251712</td>\n",
       "      <td>335.0</td>\n",
       "      <td>338.0</td>\n",
       "      <td>335.0</td>\n",
       "      <td>338.0</td>\n",
       "      <td>5.0</td>\n",
       "      <td>8660</td>\n",
       "    </tr>\n",
       "  </tbody>\n",
       "</table>\n",
       "<p>62 rows × 9 columns</p>\n",
       "</div>"
      ],
      "text/plain": [
       "         date  capacity     turnover   open   high    low  close  change  \\\n",
       "0  2019-10-01  75248890  20886838992  273.0  280.5  273.0  280.0     8.0   \n",
       "1  2019-10-02  30572953   8553297334  280.0  281.0  279.0  279.5    -0.5   \n",
       "2  2019-10-03  35874864   9891620358  274.0  277.5  274.0  276.5    -3.0   \n",
       "3  2019-10-04  35814613   9924872301  279.5  280.0  275.0  276.5     0.0   \n",
       "4  2019-10-07  17750230   4944376000  279.0  279.5  277.5  278.0     1.5   \n",
       "..        ...       ...          ...    ...    ...    ...    ...     ...   \n",
       "57 2019-12-23  26911340   8923609754  329.5  334.0  329.5  334.0     5.0   \n",
       "58 2019-12-24  13783907   4591661991  334.0  334.5  332.0  332.0    -2.0   \n",
       "59 2019-12-25  12262954   4075131136  332.0  334.5  331.0  333.0     1.0   \n",
       "60 2019-12-26  11427884   3803665702  333.0  334.0  331.5  333.0     0.0   \n",
       "61 2019-12-27  16677806   5624251712  335.0  338.0  335.0  338.0     5.0   \n",
       "\n",
       "    transaction  \n",
       "0         26648  \n",
       "1         12294  \n",
       "2         12853  \n",
       "3         13780  \n",
       "4          7757  \n",
       "..          ...  \n",
       "57        12310  \n",
       "58         7887  \n",
       "59         7597  \n",
       "60         6439  \n",
       "61         8660  \n",
       "\n",
       "[62 rows x 9 columns]"
      ]
     },
     "execution_count": 3,
     "metadata": {},
     "output_type": "execute_result"
    }
   ],
   "source": [
    "import twstock\n",
    "import pandas as pd\n",
    "import matplotlib.pyplot as plt\n",
    "\n",
    "stock = twstock.Stock('2330')\n",
    "stock = stock.fetch_from(2019, 10) \n",
    "df = pd.DataFrame(stock)\n",
    "df"
   ]
  },
  {
   "cell_type": "code",
   "execution_count": 4,
   "metadata": {},
   "outputs": [
    {
     "name": "stderr",
     "output_type": "stream",
     "text": [
      "C:\\Users\\Amin\\Anaconda3\\lib\\site-packages\\pandas\\plotting\\_matplotlib\\converter.py:103: FutureWarning: Using an implicitly registered datetime converter for a matplotlib plotting method. The converter was registered by pandas on import. Future versions of pandas will require you to explicitly register matplotlib converters.\n",
      "\n",
      "To register the converters:\n",
      "\t>>> from pandas.plotting import register_matplotlib_converters\n",
      "\t>>> register_matplotlib_converters()\n",
      "  warnings.warn(msg, FutureWarning)\n",
      "C:\\Users\\Amin\\Anaconda3\\lib\\site-packages\\matplotlib\\backends\\backend_agg.py:211: RuntimeWarning: Glyph 38283 missing from current font.\n",
      "  font.set_text(s, 0.0, flags=flags)\n",
      "C:\\Users\\Amin\\Anaconda3\\lib\\site-packages\\matplotlib\\backends\\backend_agg.py:211: RuntimeWarning: Glyph 30436 missing from current font.\n",
      "  font.set_text(s, 0.0, flags=flags)\n",
      "C:\\Users\\Amin\\Anaconda3\\lib\\site-packages\\matplotlib\\backends\\backend_agg.py:211: RuntimeWarning: Glyph 25910 missing from current font.\n",
      "  font.set_text(s, 0.0, flags=flags)\n",
      "C:\\Users\\Amin\\Anaconda3\\lib\\site-packages\\matplotlib\\backends\\backend_agg.py:211: RuntimeWarning: Glyph 20729 missing from current font.\n",
      "  font.set_text(s, 0.0, flags=flags)\n",
      "C:\\Users\\Amin\\Anaconda3\\lib\\site-packages\\matplotlib\\backends\\backend_agg.py:211: RuntimeWarning: Glyph 26354 missing from current font.\n",
      "  font.set_text(s, 0.0, flags=flags)\n",
      "C:\\Users\\Amin\\Anaconda3\\lib\\site-packages\\matplotlib\\backends\\backend_agg.py:211: RuntimeWarning: Glyph 32218 missing from current font.\n",
      "  font.set_text(s, 0.0, flags=flags)\n",
      "C:\\Users\\Amin\\Anaconda3\\lib\\site-packages\\matplotlib\\backends\\backend_agg.py:211: RuntimeWarning: Glyph 26085 missing from current font.\n",
      "  font.set_text(s, 0.0, flags=flags)\n",
      "C:\\Users\\Amin\\Anaconda3\\lib\\site-packages\\matplotlib\\backends\\backend_agg.py:211: RuntimeWarning: Glyph 26399 missing from current font.\n",
      "  font.set_text(s, 0.0, flags=flags)\n",
      "C:\\Users\\Amin\\Anaconda3\\lib\\site-packages\\matplotlib\\backends\\backend_agg.py:180: RuntimeWarning: Glyph 26085 missing from current font.\n",
      "  font.set_text(s, 0, flags=flags)\n",
      "C:\\Users\\Amin\\Anaconda3\\lib\\site-packages\\matplotlib\\backends\\backend_agg.py:180: RuntimeWarning: Glyph 26399 missing from current font.\n",
      "  font.set_text(s, 0, flags=flags)\n",
      "C:\\Users\\Amin\\Anaconda3\\lib\\site-packages\\matplotlib\\backends\\backend_agg.py:180: RuntimeWarning: Glyph 25910 missing from current font.\n",
      "  font.set_text(s, 0, flags=flags)\n",
      "C:\\Users\\Amin\\Anaconda3\\lib\\site-packages\\matplotlib\\backends\\backend_agg.py:180: RuntimeWarning: Glyph 30436 missing from current font.\n",
      "  font.set_text(s, 0, flags=flags)\n",
      "C:\\Users\\Amin\\Anaconda3\\lib\\site-packages\\matplotlib\\backends\\backend_agg.py:180: RuntimeWarning: Glyph 20729 missing from current font.\n",
      "  font.set_text(s, 0, flags=flags)\n",
      "C:\\Users\\Amin\\Anaconda3\\lib\\site-packages\\matplotlib\\backends\\backend_agg.py:180: RuntimeWarning: Glyph 38283 missing from current font.\n",
      "  font.set_text(s, 0, flags=flags)\n",
      "C:\\Users\\Amin\\Anaconda3\\lib\\site-packages\\matplotlib\\backends\\backend_agg.py:180: RuntimeWarning: Glyph 26354 missing from current font.\n",
      "  font.set_text(s, 0, flags=flags)\n",
      "C:\\Users\\Amin\\Anaconda3\\lib\\site-packages\\matplotlib\\backends\\backend_agg.py:180: RuntimeWarning: Glyph 32218 missing from current font.\n",
      "  font.set_text(s, 0, flags=flags)\n"
     ]
    },
    {
     "data": {
      "image/png": "[encoded data removed]",
      "text/plain": [
       "<Figure size 720x432 with 1 Axes>"
      ]
     },
     "metadata": {},
     "output_type": "display_data"
    }
   ],
   "source": [
    "df = df.set_index('date')\n",
    "fig = plt.figure(figsize=(10, 6))\n",
    "plt.plot(df.close, '-' , label=\"收盤價\")\n",
    "plt.plot(df.open, '-' , label=\"開盤價\")\n",
    "plt.title('2330 開盤/收盤價曲線',loc='right')\n",
    "\n",
    "plt.xlabel('日期')\n",
    "plt.ylabel('收盤價')\n",
    "plt.grid(True, axis='y')\n",
    "plt.legend()\n",
    "plt.show()\n",
    "fig.savefig('day20_01.png')"
   ]
  },
  {
   "cell_type": "code",
   "execution_count": null,
   "metadata": {
    "collapsed": true
   },
   "outputs": [],
   "source": []
  }
 ],
 "metadata": {
  "kernelspec": {
   "display_name": "Python 3",
   "language": "python",
   "name": "python3"
  },
  "language_info": {
   "codemirror_mode": {
    "name": "ipython",
    "version": 3
   },
   "file_extension": ".py",
   "mimetype": "text/x-python",
   "name": "python",
   "nbconvert_exporter": "python",
   "pygments_lexer": "ipython3",
   "version": "3.6.2"
  }
 },
 "nbformat": 4,
 "nbformat_minor": 2
}
