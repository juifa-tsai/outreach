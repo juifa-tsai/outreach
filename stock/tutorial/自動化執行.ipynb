{
 "cells": [
  {
   "cell_type": "markdown",
   "metadata": {},
   "source": [
    "# 自動化執行\n",
    "### 外部參數輸入"
   ]
  },
  {
   "cell_type": "code",
   "execution_count": null,
   "metadata": {},
   "outputs": [],
   "source": [
    "import sys\n",
    "\n",
    "def main():\n",
    "    i = 0\n",
    "    print(sys.argv)\n",
    "    print(\"\\n\")\n",
    "    for arg in sys.argv[1:]:\n",
    "        print(str(i) + \":\" + arg)\n",
    "        i+=1\n",
    "\n",
    "    if sys.argv[1] == '1':\n",
    "        print(\"功能1!!!參數1:{}\\n\".format(sys.argv[2]))\n",
    "    elif sys.argv[1] == '2': \n",
    "        print(\"功能2!!!參數2:{} {}\\n\".format(sys.argv[2], sys.argv[3]))\n",
    "    elif sys.argv[1] == '3': \n",
    "        print(\"功能3!!!\\n\")        \n",
    "\n",
    "if __name__ == \"__main__\":\n",
    "    main()"
   ]
  },
  {
   "cell_type": "code",
   "execution_count": null,
   "metadata": {
    "collapsed": true
   },
   "outputs": [],
   "source": [
    "%save test.py 1"
   ]
  }
 ],
 "metadata": {
  "kernelspec": {
   "display_name": "Python 3",
   "language": "python",
   "name": "python3"
  },
  "language_info": {
   "codemirror_mode": {
    "name": "ipython",
    "version": 3
   },
   "file_extension": ".py",
   "mimetype": "text/x-python",
   "name": "python",
   "nbconvert_exporter": "python",
   "pygments_lexer": "ipython3",
   "version": "3.6.2"
  }
 },
 "nbformat": 4,
 "nbformat_minor": 2
}
