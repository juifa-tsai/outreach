{
 "cells": [
  {
   "cell_type": "markdown",
   "metadata": {},
   "source": [
    "# Ordinary Kriging"
   ]
  },
  {
   "cell_type": "code",
   "execution_count": 63,
   "metadata": {},
   "outputs": [],
   "source": [
    "import pandas as PD\n",
    "import geopandas as GPD\n",
    "import numpy as NP\n",
    "import matplotlib.pyplot as PLT\n",
    "import scipy.linalg\n",
    "from scipy import optimize as OPT\n",
    "from tqdm import tqdm as TQDM\n",
    "from scipy.spatial import cKDTree\n",
    "from scipy.spatial.distance import cdist\n",
    "from scipy.optimize import least_squares\n",
    "from variogram import variogram as VARIOGRAM"
   ]
  },
  {
   "cell_type": "markdown",
   "metadata": {},
   "source": [
    "## Data 1"
   ]
  },
  {
   "cell_type": "code",
   "execution_count": 2,
   "metadata": {},
   "outputs": [],
   "source": [
    "def variogram_spherical(d, pars):\n",
    "    \"\"\"Spherical model, pars[3] = [psill, range, nugget]\n",
    "                             3 * d           d^3  \n",
    "    x <= [2] : y = [0] * ( ---------  -  ---------- ) + [2]\n",
    "                            2 * [1]       2 * [1]^3\n",
    "    x > [2]  : y = [0] + [2]\n",
    "    \"\"\"\n",
    "    psill = float(pars[0])\n",
    "    prange = float(pars[1])\n",
    "    pnugget = float(pars[2])\n",
    "    return NP.piecewise( d, \n",
    "                        [d <= prange, d > prange],\n",
    "                        [lambda x: psill * ((3.*x)/(2.*prange) - (x**3.)/(2.*prange**3.)) + pnugget, \n",
    "                         psill + pnugget])"
   ]
  },
  {
   "cell_type": "code",
   "execution_count": 3,
   "metadata": {},
   "outputs": [
    {
     "data": {
      "text/html": [
       "<div>\n",
       "<style scoped>\n",
       "    .dataframe tbody tr th:only-of-type {\n",
       "        vertical-align: middle;\n",
       "    }\n",
       "\n",
       "    .dataframe tbody tr th {\n",
       "        vertical-align: top;\n",
       "    }\n",
       "\n",
       "    .dataframe thead th {\n",
       "        text-align: right;\n",
       "    }\n",
       "</style>\n",
       "<table border=\"1\" class=\"dataframe\">\n",
       "  <thead>\n",
       "    <tr style=\"text-align: right;\">\n",
       "      <th></th>\n",
       "      <th>cadmium</th>\n",
       "      <th>copper</th>\n",
       "      <th>lead</th>\n",
       "      <th>zinc</th>\n",
       "      <th>elev</th>\n",
       "      <th>dist</th>\n",
       "      <th>om</th>\n",
       "      <th>ffreq</th>\n",
       "      <th>soil</th>\n",
       "      <th>lime</th>\n",
       "      <th>landuse</th>\n",
       "      <th>dist.m</th>\n",
       "      <th>x</th>\n",
       "      <th>y</th>\n",
       "      <th>geometry</th>\n",
       "    </tr>\n",
       "  </thead>\n",
       "  <tbody>\n",
       "    <tr>\n",
       "      <th>0</th>\n",
       "      <td>11.7</td>\n",
       "      <td>85.0</td>\n",
       "      <td>299.0</td>\n",
       "      <td>1022.0</td>\n",
       "      <td>7.909</td>\n",
       "      <td>0.001358</td>\n",
       "      <td>13.6</td>\n",
       "      <td>1</td>\n",
       "      <td>1</td>\n",
       "      <td>1</td>\n",
       "      <td>Ah</td>\n",
       "      <td>50.0</td>\n",
       "      <td>181072.0</td>\n",
       "      <td>333611.0</td>\n",
       "      <td>POINT (5.758536241675762 50.99156215667816)</td>\n",
       "    </tr>\n",
       "    <tr>\n",
       "      <th>1</th>\n",
       "      <td>8.6</td>\n",
       "      <td>81.0</td>\n",
       "      <td>277.0</td>\n",
       "      <td>1141.0</td>\n",
       "      <td>6.983</td>\n",
       "      <td>0.012224</td>\n",
       "      <td>14.0</td>\n",
       "      <td>1</td>\n",
       "      <td>1</td>\n",
       "      <td>1</td>\n",
       "      <td>Ah</td>\n",
       "      <td>30.0</td>\n",
       "      <td>181025.0</td>\n",
       "      <td>333558.0</td>\n",
       "      <td>POINT (5.757863018200728 50.99108790288359)</td>\n",
       "    </tr>\n",
       "    <tr>\n",
       "      <th>2</th>\n",
       "      <td>6.5</td>\n",
       "      <td>68.0</td>\n",
       "      <td>199.0</td>\n",
       "      <td>640.0</td>\n",
       "      <td>7.800</td>\n",
       "      <td>0.103029</td>\n",
       "      <td>13.0</td>\n",
       "      <td>1</td>\n",
       "      <td>1</td>\n",
       "      <td>1</td>\n",
       "      <td>Ah</td>\n",
       "      <td>150.0</td>\n",
       "      <td>181165.0</td>\n",
       "      <td>333537.0</td>\n",
       "      <td>POINT (5.759855417830628 50.99089274333686)</td>\n",
       "    </tr>\n",
       "    <tr>\n",
       "      <th>3</th>\n",
       "      <td>2.6</td>\n",
       "      <td>81.0</td>\n",
       "      <td>116.0</td>\n",
       "      <td>257.0</td>\n",
       "      <td>7.655</td>\n",
       "      <td>0.190094</td>\n",
       "      <td>8.0</td>\n",
       "      <td>1</td>\n",
       "      <td>2</td>\n",
       "      <td>0</td>\n",
       "      <td>Ga</td>\n",
       "      <td>270.0</td>\n",
       "      <td>181298.0</td>\n",
       "      <td>333484.0</td>\n",
       "      <td>POINT (5.761745770023087 50.99041023559325)</td>\n",
       "    </tr>\n",
       "    <tr>\n",
       "      <th>4</th>\n",
       "      <td>2.8</td>\n",
       "      <td>48.0</td>\n",
       "      <td>117.0</td>\n",
       "      <td>269.0</td>\n",
       "      <td>7.480</td>\n",
       "      <td>0.277090</td>\n",
       "      <td>8.7</td>\n",
       "      <td>1</td>\n",
       "      <td>2</td>\n",
       "      <td>0</td>\n",
       "      <td>Ah</td>\n",
       "      <td>380.0</td>\n",
       "      <td>181307.0</td>\n",
       "      <td>333330.0</td>\n",
       "      <td>POINT (5.761862707698853 50.98902557091748)</td>\n",
       "    </tr>\n",
       "  </tbody>\n",
       "</table>\n",
       "</div>"
      ],
      "text/plain": [
       "   cadmium  copper   lead    zinc   elev      dist    om ffreq soil lime  \\\n",
       "0     11.7    85.0  299.0  1022.0  7.909  0.001358  13.6     1    1    1   \n",
       "1      8.6    81.0  277.0  1141.0  6.983  0.012224  14.0     1    1    1   \n",
       "2      6.5    68.0  199.0   640.0  7.800  0.103029  13.0     1    1    1   \n",
       "3      2.6    81.0  116.0   257.0  7.655  0.190094   8.0     1    2    0   \n",
       "4      2.8    48.0  117.0   269.0  7.480  0.277090   8.7     1    2    0   \n",
       "\n",
       "  landuse  dist.m         x         y  \\\n",
       "0      Ah    50.0  181072.0  333611.0   \n",
       "1      Ah    30.0  181025.0  333558.0   \n",
       "2      Ah   150.0  181165.0  333537.0   \n",
       "3      Ga   270.0  181298.0  333484.0   \n",
       "4      Ah   380.0  181307.0  333330.0   \n",
       "\n",
       "                                      geometry  \n",
       "0  POINT (5.758536241675762 50.99156215667816)  \n",
       "1  POINT (5.757863018200728 50.99108790288359)  \n",
       "2  POINT (5.759855417830628 50.99089274333686)  \n",
       "3  POINT (5.761745770023087 50.99041023559325)  \n",
       "4  POINT (5.761862707698853 50.98902557091748)  "
      ]
     },
     "execution_count": 3,
     "metadata": {},
     "output_type": "execute_result"
    }
   ],
   "source": [
    "gdf = GPD.read_file('./data/muese.shp')\n",
    "gdf.head()"
   ]
  },
  {
   "cell_type": "code",
   "execution_count": 4,
   "metadata": {},
   "outputs": [
    {
     "data": {
      "text/plain": [
       "<Figure size 720x432 with 0 Axes>"
      ]
     },
     "metadata": {},
     "output_type": "display_data"
    },
    {
     "data": {
      "image/png": "[encoded data removed]",
      "text/plain": [
       "<Figure size 720x432 with 2 Axes>"
      ]
     },
     "metadata": {
      "needs_background": "light"
     },
     "output_type": "display_data"
    }
   ],
   "source": [
    "var_muese = VARIOGRAM(100, model=variogram_spherical)\n",
    "var_muese.fit(gdf[['x', 'y']], gdf['lead'], fit_range=[0,1500])\n",
    "PLT.figure(figsize=[10,6])\n",
    "var_muese.plot()"
   ]
  },
  {
   "cell_type": "code",
   "execution_count": 77,
   "metadata": {},
   "outputs": [],
   "source": [
    "ok_muese = kriging_ordinary(var_muese)\n",
    "ok_muese.fit(gdf[['x', 'y']], gdf['lead'])"
   ]
  },
  {
   "cell_type": "code",
   "execution_count": 78,
   "metadata": {},
   "outputs": [
    {
     "data": {
      "text/plain": [
       "array([[181072., 333611.],\n",
       "       [181025., 333558.]])"
      ]
     },
     "execution_count": 78,
     "metadata": {},
     "output_type": "execute_result"
    }
   ],
   "source": [
    "gdf.loc[0:1, ['x', 'y']].values"
   ]
  },
  {
   "cell_type": "code",
   "execution_count": 79,
   "metadata": {},
   "outputs": [
    {
     "data": {
      "text/plain": [
       "(array([299., 277., 199.]),\n",
       " array([-5.89655020e-14, -3.40506854e-14, -2.52387245e-14]),\n",
       " array([5.89655020e-14, 3.40506854e-14, 2.52387245e-14]))"
      ]
     },
     "execution_count": 79,
     "metadata": {},
     "output_type": "execute_result"
    }
   ],
   "source": [
    "ok_muese.predict(gdf.loc[0:2, ['x', 'y']].values, use_nugget=False)"
   ]
  },
  {
   "cell_type": "code",
   "execution_count": 80,
   "metadata": {},
   "outputs": [
    {
     "data": {
      "text/plain": [
       "0    299.0\n",
       "1    277.0\n",
       "2    199.0\n",
       "Name: lead, dtype: float64"
      ]
     },
     "execution_count": 80,
     "metadata": {},
     "output_type": "execute_result"
    }
   ],
   "source": [
    "gdf.loc[0:2, 'lead']"
   ]
  },
  {
   "cell_type": "code",
   "execution_count": 76,
   "metadata": {},
   "outputs": [],
   "source": [
    "class kriging_ordinary(object):\n",
    "\n",
    "    def __init__(self, varigoram, debug=False):\n",
    "        ## Local parameters ##\n",
    "        self.variogram = varigoram\n",
    "        self.debug = debug\n",
    "\n",
    "    def fit(self, X, y, to=None, transparent=True, show=False):\n",
    "        '''\n",
    "        [DESCRIPTION]\n",
    "            Store the data with KDTree or original data structure, and fit the variogram model with set parameters. \n",
    "        [INPUT]\n",
    "            X          : array-like, input data with features, same data size with y.\n",
    "            y          : array-like, input data with interesting value, same data size with X\n",
    "        [OUTPUT]\n",
    "            Null\n",
    "        '''\n",
    "        X = NP.atleast_1d(X)\n",
    "        y = NP.atleast_1d(y)\n",
    "        self.shape = X.shape\n",
    "        self.ndim = X.ndim\n",
    "        self.y = y\n",
    "        self.X = cKDTree(X, copy_data=True)\n",
    "\n",
    "    def predict(self, X, n_neighbor=None, radius=NP.inf, use_nugget=False, get_error=False):\n",
    "        '''\n",
    "        [DESCRIPTION]\n",
    "           Calculate and predict interesting value with looping for all data, the method take long time but save memory\n",
    "           Obtain the linear argibra terms\n",
    "            | V_ij 1 || w_i | = | V_k |\n",
    "            |  1   0 ||  u  |   |  1  |\n",
    "                a    *   w    =    b\n",
    "              w = a^-1 * b\n",
    "              y = w_i * Y\n",
    "            V_ij : semi-variance matrix within n neighors\n",
    "            V_k  : semi-variance vector between interesting point and n neighbors\n",
    "            w_i  : weights for linear combination\n",
    "            u    : lagrainge multiplier\n",
    "            Y    : true value of neighbors\n",
    "            y    : predicted value of interesting point\n",
    "        [INPUT]\n",
    "            X          : array-like, input data with same number of fearture in training data\n",
    "            n_neighbor : int,        number of neighbor w.r.t input data, while distance < searching radius (5)\n",
    "            radius     : float,      searching radius w.r.t input data (inf)\n",
    "            use_nugget : bool,       if use nugget to be diagonal of kriging matrix for prediction calculation (False)\n",
    "            get_error  : bool,       if return error (False)\n",
    "        [OUTPUT]\n",
    "            1D/2D array(float)\n",
    "            prediction : float, prdicted value via Kriging system\n",
    "            error      : float, error of predicted value (only if get_error = True)\n",
    "        '''\n",
    "        X = NP.atleast_1d(X)\n",
    "        if self.ndim == 1:\n",
    "            if X.ndim < 2: X = X[:, NP.newaxis]\n",
    "        else:\n",
    "            X = NP.atleast_2d(X)     \n",
    "\n",
    "        ## Find the neighbors \n",
    "        if n_neighbor is None: \n",
    "            n_neighbor = self.shape[0]\n",
    "        neighbor_dst, neighbor_idx = self.X.query(X, k=n_neighbor, p=2 )\n",
    "\n",
    "        ## Calculate prediction\n",
    "        idxes = range(X.shape[0])\n",
    "        lambda_y = NP.zeros(len(X))\n",
    "        predict_y = NP.zeros(len(X))\n",
    "        error_y = NP.zeros(len(X))\n",
    "        for nd, ni, i in zip(neighbor_dst, neighbor_idx, idxes):\n",
    "            ## select in searching radius\n",
    "            ni = ni[nd < radius] # neighbors' index, while the distance < search radius\n",
    "            nd = nd[nd < radius] # neighbors' distance, while the distance < search radius\n",
    "            \n",
    "            if len(ni) == 0: \n",
    "                continue \n",
    "            else: \n",
    "                n = len(ni)\n",
    "\n",
    "            ## Initialization\n",
    "            a = NP.zeros((n+1,n+1))  \n",
    "            b = NP.ones((n+1,))\n",
    "\n",
    "            ## Fill matrix a\n",
    "            a[:n, :n] = self.variogram.predict(cdist(self.X.data[ni], self.X.data[ni], metric='euclidean'))\n",
    "            a[:n, n] = 1\n",
    "            a[n, :n] = 1\n",
    "\n",
    "            ## Fill vector b\n",
    "            b[:n] = self.variogram.predict(nd)\n",
    "            #print(b)\n",
    "\n",
    "            ## set self-varinace is zero if not using Nugget\n",
    "            if not use_nugget:\n",
    "                ## modify a\n",
    "                NP.fill_diagonal(a, 0.)\n",
    "                ## modify b\n",
    "                zero_index = NP.where(NP.absolute(nd) == 0)\n",
    "                if len(zero_index) > 0:\n",
    "                    b[zero_index[0]] = 0.\n",
    "\n",
    "            ## Get weights\n",
    "            w = scipy.linalg.solve(a, b)\n",
    "            #w = OPT.nnls(a, b)[0]\n",
    "\n",
    "            if self.debug:\n",
    "                print(\">>      %d neighbors < %.2f distance : %s \"%(len(ni), radius, str(nd)))\n",
    "                print(\">>      Fitted kriging matrix a: \")\n",
    "                print(a)\n",
    "                print(\">>      Fitted semivarince between the location to %d neighbors b: \"% n_neighbor)\n",
    "                print(b)\n",
    "                print(\">>      Weights w: \")\n",
    "                print(w)\n",
    "                print(\">>      Observe value y: \")\n",
    "                print(self.y[ni])\n",
    "\n",
    "            ## Fill results\n",
    "            lambda_y[i] = w[n]\n",
    "            predict_y[i] = w[:n].dot(self.y[ni])\n",
    "            error_y[i] = w[:n].dot(b[:n])\n",
    "\n",
    "        return predict_y, error_y, lambda_y"
   ]
  },
  {
   "cell_type": "code",
   "execution_count": null,
   "metadata": {},
   "outputs": [],
   "source": []
  }
 ],
 "metadata": {
  "kernelspec": {
   "display_name": "Python 3",
   "language": "python",
   "name": "python3"
  },
  "language_info": {
   "codemirror_mode": {
    "name": "ipython",
    "version": 3
   },
   "file_extension": ".py",
   "mimetype": "text/x-python",
   "name": "python",
   "nbconvert_exporter": "python",
   "pygments_lexer": "ipython3",
   "version": "3.6.5"
  }
 },
 "nbformat": 4,
 "nbformat_minor": 2
}
