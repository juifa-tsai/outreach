{
 "cells": [
  {
   "cell_type": "markdown",
   "metadata": {},
   "source": [
    "# Ordinary Kriging"
   ]
  },
  {
   "cell_type": "code",
   "execution_count": 1,
   "metadata": {},
   "outputs": [],
   "source": [
    "import pandas as PD\n",
    "import geopandas as GPD\n",
    "import numpy as NP\n",
    "import matplotlib.pyplot as PLT\n",
    "import scipy.linalg\n",
    "import rasterio as RAST\n",
    "from rasterio.transform import from_origin\n",
    "from scipy import optimize as OPT\n",
    "from tqdm import tqdm as TQDM\n",
    "from scipy.spatial import cKDTree\n",
    "from scipy.spatial.distance import cdist\n",
    "from scipy.optimize import least_squares\n",
    "from shapely.geometry import Point\n",
    "from variogram import variogram as VARIOGRAM"
   ]
  },
  {
   "cell_type": "code",
   "execution_count": 2,
   "metadata": {},
   "outputs": [],
   "source": [
    "class kriging_ordinary(object):\n",
    "\n",
    "    def __init__(self, varigoram, debug=False):\n",
    "        ## Local parameters ##\n",
    "        self.variogram = varigoram\n",
    "        self.debug = debug\n",
    "\n",
    "    def fit(self, X, y, to=None, transparent=True, show=False):\n",
    "        '''\n",
    "        [DESCRIPTION]\n",
    "            Store the data with KDTree or original data structure, and fit the variogram model with set parameters. \n",
    "        [INPUT]\n",
    "            X          : array-like, input data with features, same data size with y.\n",
    "            y          : array-like, input data with interesting value, same data size with X\n",
    "        [OUTPUT]\n",
    "            Null\n",
    "        '''\n",
    "        X = NP.atleast_1d(X)\n",
    "        y = NP.atleast_1d(y)\n",
    "        self.shape = X.shape\n",
    "        self.ndim = X.ndim\n",
    "        self.y = y\n",
    "        self.X = cKDTree(X, copy_data=True)\n",
    "\n",
    "    def predict(self, X, n_neighbor=None, radius=NP.inf, use_nugget=False, get_error=False):\n",
    "        '''\n",
    "        [DESCRIPTION]\n",
    "           Calculate and predict interesting value with looping for all data, the method take long time but save memory\n",
    "           Obtain the linear argibra terms\n",
    "            | V_ij 1 || w_i | = | V_k |\n",
    "            |  1   0 ||  u  |   |  1  |\n",
    "                a    *   w    =    b\n",
    "              w = a^-1 * b\n",
    "              y = w_i * Y\n",
    "            V_ij : semi-variance matrix within n neighors\n",
    "            V_k  : semi-variance vector between interesting point and n neighbors\n",
    "            w_i  : weights for linear combination\n",
    "            u    : lagrainge multiplier\n",
    "            Y    : true value of neighbors\n",
    "            y    : predicted value of interesting point\n",
    "        [INPUT]\n",
    "            X          : array-like, input data with same number of fearture in training data\n",
    "            n_neighbor : int,        number of neighbor w.r.t input data, while distance < searching radius (5)\n",
    "            radius     : float,      searching radius w.r.t input data (inf)\n",
    "            use_nugget : bool,       if use nugget to be diagonal of kriging matrix for prediction calculation (False)\n",
    "        [OUTPUT]\n",
    "            1D/2D array(float)\n",
    "            prediction : float, prdicted value via Kriging system y\n",
    "            error      : float, error of predicted value (only if get_error = True)\n",
    "            lambda     : float, lagrange multiplier u\n",
    "        '''\n",
    "        X = NP.atleast_1d(X)\n",
    "        if self.ndim == 1:\n",
    "            if X.ndim < 2: X = X[:, NP.newaxis]\n",
    "        else:\n",
    "            X = NP.atleast_2d(X)     \n",
    "\n",
    "        ## Find the neighbors \n",
    "        if n_neighbor is None: \n",
    "            n_neighbor = self.shape[0]\n",
    "        neighbor_dst, neighbor_idx = self.X.query(X, k=n_neighbor, p=2 )\n",
    "\n",
    "        ## Calculate prediction\n",
    "        idxes = range(X.shape[0])\n",
    "        lambda_y = NP.zeros(len(X))\n",
    "        predict_y = NP.zeros(len(X))\n",
    "        error_y = NP.zeros(len(X))\n",
    "        for nd, ni, i in zip(neighbor_dst, neighbor_idx, idxes):\n",
    "            ## select in searching radius\n",
    "            ni = ni[nd < radius] # neighbors' index, while the distance < search radius\n",
    "            nd = nd[nd < radius] # neighbors' distance, while the distance < search radius\n",
    "            \n",
    "            if len(ni) == 0: \n",
    "                continue \n",
    "            else: \n",
    "                n = len(ni)\n",
    "\n",
    "            ## Initialization\n",
    "            a = NP.zeros((n+1,n+1))  \n",
    "            b = NP.ones((n+1,))\n",
    "\n",
    "            ## Fill matrix a\n",
    "            a[:n, :n] = self.variogram.predict(cdist(self.X.data[ni], self.X.data[ni], metric='euclidean'))\n",
    "            a[:n, n] = 1\n",
    "            a[n, :n] = 1\n",
    "\n",
    "            ## Fill vector b\n",
    "            b[:n] = self.variogram.predict(nd)\n",
    "            #print(b)\n",
    "\n",
    "            ## set self-varinace is zero if not using Nugget\n",
    "            if not use_nugget:\n",
    "                ## modify a\n",
    "                NP.fill_diagonal(a, 0.)\n",
    "                ## modify b\n",
    "                zero_index = NP.where(NP.absolute(nd) == 0)\n",
    "                if len(zero_index) > 0:\n",
    "                    b[zero_index[0]] = 0.\n",
    "\n",
    "            ## Get weights\n",
    "            #w = scipy.linalg.solve(a, b) # no constraint solution\n",
    "            w = OPT.nnls(a, b)[0] # non-negative solution\n",
    "\n",
    "            ## Fill results and prediction\n",
    "            lambda_y[i] = w[n]\n",
    "            predict_y[i] = w[:n].dot(self.y[ni])\n",
    "            error_y[i] = NP.sqrt(w[:n].dot(b[:n]))\n",
    "\n",
    "        return predict_y, error_y, lambda_y"
   ]
  },
  {
   "cell_type": "markdown",
   "metadata": {},
   "source": [
    "## Data 1"
   ]
  },
  {
   "cell_type": "code",
   "execution_count": 3,
   "metadata": {},
   "outputs": [
    {
     "data": {
      "text/html": [
       "<div>\n",
       "<style scoped>\n",
       "    .dataframe tbody tr th:only-of-type {\n",
       "        vertical-align: middle;\n",
       "    }\n",
       "\n",
       "    .dataframe tbody tr th {\n",
       "        vertical-align: top;\n",
       "    }\n",
       "\n",
       "    .dataframe thead th {\n",
       "        text-align: right;\n",
       "    }\n",
       "</style>\n",
       "<table border=\"1\" class=\"dataframe\">\n",
       "  <thead>\n",
       "    <tr style=\"text-align: right;\">\n",
       "      <th></th>\n",
       "      <th>cadmium</th>\n",
       "      <th>copper</th>\n",
       "      <th>lead</th>\n",
       "      <th>zinc</th>\n",
       "      <th>elev</th>\n",
       "      <th>dist</th>\n",
       "      <th>om</th>\n",
       "      <th>ffreq</th>\n",
       "      <th>soil</th>\n",
       "      <th>lime</th>\n",
       "      <th>landuse</th>\n",
       "      <th>dist.m</th>\n",
       "      <th>x</th>\n",
       "      <th>y</th>\n",
       "      <th>geometry</th>\n",
       "    </tr>\n",
       "  </thead>\n",
       "  <tbody>\n",
       "    <tr>\n",
       "      <th>0</th>\n",
       "      <td>11.7</td>\n",
       "      <td>85.0</td>\n",
       "      <td>299.0</td>\n",
       "      <td>1022.0</td>\n",
       "      <td>7.909</td>\n",
       "      <td>0.001358</td>\n",
       "      <td>13.6</td>\n",
       "      <td>1</td>\n",
       "      <td>1</td>\n",
       "      <td>1</td>\n",
       "      <td>Ah</td>\n",
       "      <td>50.0</td>\n",
       "      <td>181072.0</td>\n",
       "      <td>333611.0</td>\n",
       "      <td>POINT (5.758536241675762 50.99156215667816)</td>\n",
       "    </tr>\n",
       "    <tr>\n",
       "      <th>1</th>\n",
       "      <td>8.6</td>\n",
       "      <td>81.0</td>\n",
       "      <td>277.0</td>\n",
       "      <td>1141.0</td>\n",
       "      <td>6.983</td>\n",
       "      <td>0.012224</td>\n",
       "      <td>14.0</td>\n",
       "      <td>1</td>\n",
       "      <td>1</td>\n",
       "      <td>1</td>\n",
       "      <td>Ah</td>\n",
       "      <td>30.0</td>\n",
       "      <td>181025.0</td>\n",
       "      <td>333558.0</td>\n",
       "      <td>POINT (5.757863018200728 50.99108790288359)</td>\n",
       "    </tr>\n",
       "    <tr>\n",
       "      <th>2</th>\n",
       "      <td>6.5</td>\n",
       "      <td>68.0</td>\n",
       "      <td>199.0</td>\n",
       "      <td>640.0</td>\n",
       "      <td>7.800</td>\n",
       "      <td>0.103029</td>\n",
       "      <td>13.0</td>\n",
       "      <td>1</td>\n",
       "      <td>1</td>\n",
       "      <td>1</td>\n",
       "      <td>Ah</td>\n",
       "      <td>150.0</td>\n",
       "      <td>181165.0</td>\n",
       "      <td>333537.0</td>\n",
       "      <td>POINT (5.759855417830628 50.99089274333686)</td>\n",
       "    </tr>\n",
       "    <tr>\n",
       "      <th>3</th>\n",
       "      <td>2.6</td>\n",
       "      <td>81.0</td>\n",
       "      <td>116.0</td>\n",
       "      <td>257.0</td>\n",
       "      <td>7.655</td>\n",
       "      <td>0.190094</td>\n",
       "      <td>8.0</td>\n",
       "      <td>1</td>\n",
       "      <td>2</td>\n",
       "      <td>0</td>\n",
       "      <td>Ga</td>\n",
       "      <td>270.0</td>\n",
       "      <td>181298.0</td>\n",
       "      <td>333484.0</td>\n",
       "      <td>POINT (5.761745770023087 50.99041023559325)</td>\n",
       "    </tr>\n",
       "    <tr>\n",
       "      <th>4</th>\n",
       "      <td>2.8</td>\n",
       "      <td>48.0</td>\n",
       "      <td>117.0</td>\n",
       "      <td>269.0</td>\n",
       "      <td>7.480</td>\n",
       "      <td>0.277090</td>\n",
       "      <td>8.7</td>\n",
       "      <td>1</td>\n",
       "      <td>2</td>\n",
       "      <td>0</td>\n",
       "      <td>Ah</td>\n",
       "      <td>380.0</td>\n",
       "      <td>181307.0</td>\n",
       "      <td>333330.0</td>\n",
       "      <td>POINT (5.761862707698853 50.98902557091748)</td>\n",
       "    </tr>\n",
       "  </tbody>\n",
       "</table>\n",
       "</div>"
      ],
      "text/plain": [
       "   cadmium  copper   lead    zinc   elev      dist    om ffreq soil lime  \\\n",
       "0     11.7    85.0  299.0  1022.0  7.909  0.001358  13.6     1    1    1   \n",
       "1      8.6    81.0  277.0  1141.0  6.983  0.012224  14.0     1    1    1   \n",
       "2      6.5    68.0  199.0   640.0  7.800  0.103029  13.0     1    1    1   \n",
       "3      2.6    81.0  116.0   257.0  7.655  0.190094   8.0     1    2    0   \n",
       "4      2.8    48.0  117.0   269.0  7.480  0.277090   8.7     1    2    0   \n",
       "\n",
       "  landuse  dist.m         x         y  \\\n",
       "0      Ah    50.0  181072.0  333611.0   \n",
       "1      Ah    30.0  181025.0  333558.0   \n",
       "2      Ah   150.0  181165.0  333537.0   \n",
       "3      Ga   270.0  181298.0  333484.0   \n",
       "4      Ah   380.0  181307.0  333330.0   \n",
       "\n",
       "                                      geometry  \n",
       "0  POINT (5.758536241675762 50.99156215667816)  \n",
       "1  POINT (5.757863018200728 50.99108790288359)  \n",
       "2  POINT (5.759855417830628 50.99089274333686)  \n",
       "3  POINT (5.761745770023087 50.99041023559325)  \n",
       "4  POINT (5.761862707698853 50.98902557091748)  "
      ]
     },
     "execution_count": 3,
     "metadata": {},
     "output_type": "execute_result"
    }
   ],
   "source": [
    "gdf = GPD.read_file('./data/muese.shp')\n",
    "gdf.head()"
   ]
  },
  {
   "cell_type": "code",
   "execution_count": 4,
   "metadata": {},
   "outputs": [
    {
     "name": "stdout",
     "output_type": "stream",
     "text": [
      "122 39 155\n"
     ]
    }
   ],
   "source": [
    "NP.random.seed(0)\n",
    "test_idxes = NP.random.choice(a=gdf.index, size=int(NP.round(len(gdf)/4)))\n",
    "train_idxes = NP.array(list(set(gdf.index).difference(set(test_idxes))))\n",
    "meuse_test = gdf.loc[test_idxes,:].copy()\n",
    "meuse_train = gdf.loc[train_idxes,:].copy()\n",
    "print(len(meuse_train), len(meuse_test), len(gdf))"
   ]
  },
  {
   "cell_type": "code",
   "execution_count": 5,
   "metadata": {},
   "outputs": [
    {
     "data": {
      "text/plain": [
       "<Figure size 720x432 with 0 Axes>"
      ]
     },
     "metadata": {},
     "output_type": "display_data"
    },
    {
     "data": {
      "image/png": "[encoded data removed]",
      "text/plain": [
       "<Figure size 720x432 with 2 Axes>"
      ]
     },
     "metadata": {
      "needs_background": "light"
     },
     "output_type": "display_data"
    }
   ],
   "source": [
    "## model\n",
    "def variogram_spherical(d, pars):\n",
    "    \"\"\"Spherical model, pars[3] = [psill, range, nugget]\n",
    "                             3 * d           d^3  \n",
    "    x <= [2] : y = [0] * ( ---------  -  ---------- ) + [2]\n",
    "                            2 * [1]       2 * [1]^3\n",
    "    x > [2]  : y = [0] + [2]\n",
    "    \"\"\"\n",
    "    psill = float(pars[0])\n",
    "    prange = float(pars[1])\n",
    "    pnugget = float(pars[2])\n",
    "    return NP.piecewise( d, \n",
    "                        [d <= prange, d > prange],\n",
    "                        [lambda x: psill * ((3.*x)/(2.*prange) - (x**3.)/(2.*prange**3.)) + pnugget, \n",
    "                         psill + pnugget])\n",
    "## train variogram\n",
    "var_muese = VARIOGRAM(100, model=variogram_spherical)\n",
    "var_muese.fit(meuse_train[['x', 'y']], meuse_train['lead'], fit_range=[0,1500])\n",
    "PLT.figure(figsize=[10,6])\n",
    "var_muese.plot()"
   ]
  },
  {
   "cell_type": "code",
   "execution_count": 6,
   "metadata": {},
   "outputs": [],
   "source": [
    "ok_muese = kriging_ordinary(var_muese)\n",
    "ok_muese.fit(meuse_train[['x', 'y']], meuse_train['lead'])"
   ]
  },
  {
   "cell_type": "code",
   "execution_count": 7,
   "metadata": {},
   "outputs": [],
   "source": [
    "meuse_train['lead_predict'] = ok_muese.predict(meuse_train[['x', 'y']])[0]\n",
    "meuse_test['lead_predict'] = ok_muese.predict(meuse_test[['x', 'y']])[0]\n",
    "meuse_train['residual'] = meuse_train['lead_predict'] - meuse_train['lead']\n",
    "meuse_test['residual'] = meuse_test['lead_predict'] - meuse_test['lead']"
   ]
  },
  {
   "cell_type": "code",
   "execution_count": 8,
   "metadata": {},
   "outputs": [
    {
     "name": "stdout",
     "output_type": "stream",
     "text": [
      "Train  7.338392188997756e-15 2.954206516368533e-13 1.0\n",
      "Test  -5.617613842964531 97.11542385088721 1.0\n"
     ]
    }
   ],
   "source": [
    "def r2(obs, exp):\n",
    "    obs = NP.atleast_1d(obs)\n",
    "    exp = NP.atleast_1d(obs)\n",
    "    return 1 - sum((exp - obs)**2)/sum((obs - obs.mean())**2)\n",
    "print('Train ', meuse_train['residual'].mean(), meuse_train['residual'].std(), r2(meuse_train['lead'], meuse_train['lead_predict']))\n",
    "print('Test ', meuse_test['residual'].mean(), meuse_test['residual'].std(), r2(meuse_test['lead'], meuse_test['lead_predict']))"
   ]
  },
  {
   "cell_type": "code",
   "execution_count": 9,
   "metadata": {},
   "outputs": [
    {
     "data": {
      "image/png": "[encoded data removed]",
      "text/plain": [
       "<Figure size 432x432 with 4 Axes>"
      ]
     },
     "metadata": {
      "needs_background": "light"
     },
     "output_type": "display_data"
    }
   ],
   "source": [
    "PLT.figure(figsize=(6,6))\n",
    "PLT.subplot(221)\n",
    "PLT.plot(meuse_train['lead_predict'], meuse_train['lead'], '.')\n",
    "PLT.title('Training: pred vs obs')\n",
    "PLT.xlabel('Predictions')\n",
    "PLT.ylabel('True value')\n",
    "PLT.plot([0,700], [0,700], 'g--')\n",
    "PLT.ylim(0,700)\n",
    "PLT.xlim(0,700)\n",
    "PLT.subplot(222)\n",
    "meuse_train['residual'].hist()\n",
    "PLT.title('Hist training res\\nMedian absolute error: {:.1f}'.format(NP.median(NP.abs(meuse_train['residual']))))\n",
    "PLT.subplot(223)\n",
    "PLT.plot(meuse_test['lead_predict'], meuse_test['lead'], '.')\n",
    "PLT.plot([0,700], [0,700], 'g--')\n",
    "PLT.title('Test: pred vs obs')\n",
    "PLT.xlabel('Predictions')\n",
    "PLT.ylabel('True value')\n",
    "PLT.ylim(0,700)\n",
    "PLT.xlim(0,700)\n",
    "PLT.subplot(224)\n",
    "meuse_test['residual'].hist()\n",
    "PLT.title('Hist test res\\nMedian absolute error: {:.1f}'.format(NP.median(NP.abs(meuse_test['residual']))))\n",
    "PLT.tight_layout()"
   ]
  },
  {
   "cell_type": "code",
   "execution_count": 10,
   "metadata": {},
   "outputs": [],
   "source": [
    "var_muese = VARIOGRAM(100, model=variogram_spherical)\n",
    "var_muese.fit(gdf[['x', 'y']], gdf['lead'], fit_range=[0,1500])\n",
    "ok_muese = kriging_ordinary(var_muese)\n",
    "ok_muese.fit(gdf[['x', 'y']], gdf['lead'])"
   ]
  },
  {
   "cell_type": "code",
   "execution_count": 11,
   "metadata": {},
   "outputs": [
    {
     "name": "stdout",
     "output_type": "stream",
     "text": [
      ">> Interpolating 11543 cells (97, 119)....\n"
     ]
    }
   ],
   "source": [
    "buffer = 1000 # [m]\n",
    "cellsize = 50 # [m]\n",
    "xmin = gdf['x'].min() - buffer\n",
    "xmax = gdf['x'].max() + buffer\n",
    "ymin = gdf['y'].min() - buffer\n",
    "ymax = gdf['y'].max() + buffer\n",
    "# * Create 2D extent and grid\n",
    "## Grid is from top-left to bottom-right\n",
    "X, Y = NP.meshgrid( NP.arange(xmin, xmax+cellsize, cellsize),\n",
    "                    NP.arange(ymin, ymax+cellsize, cellsize))\n",
    "## set prediction location is in the central of grid\n",
    "xy = NP.concatenate(( X.flatten()[:, NP.newaxis] + cellsize/2,\n",
    "                      Y.flatten()[:, NP.newaxis] - cellsize/2),\n",
    "                      axis=1)\n",
    "## Define variables\n",
    "xbins = X.shape[1]\n",
    "ybins = Y.shape[0]\n",
    "transform = from_origin(X.min(), Y.max(), cellsize, cellsize) # Set raster left-top's coordinates\n",
    "\n",
    "## Predict\n",
    "print(\">> Interpolating %d cells (%d, %d)....\"%(len(xy), xbins, ybins))\n",
    "lead_predict = ok_muese.predict(xy)\n",
    "#lead_predict = ok_muese.predict(xy, radius=var_muese.range, n_neighbor=7)\n",
    "#print(var_muese.range)"
   ]
  },
  {
   "cell_type": "code",
   "execution_count": 12,
   "metadata": {},
   "outputs": [],
   "source": [
    "z = lead_predict[0]\n",
    "raster = RAST.open('./data/meuse_prediction.tif', \n",
    "                   'w',\n",
    "                    driver='GTiff',\n",
    "                    height=ybins,\n",
    "                    width=xbins,\n",
    "                    count=1,\n",
    "                    dtype=z.dtype,\n",
    "                    crs='epsg:28992',\n",
    "                    transform=transform )\n",
    "raster.write(NP.flip(z.reshape(ybins,xbins), 0), 1)\n",
    "raster.close()"
   ]
  },
  {
   "cell_type": "code",
   "execution_count": 13,
   "metadata": {},
   "outputs": [],
   "source": [
    "error = lead_predict[1]\n",
    "raster = RAST.open('./data/meuse_prediction_error.tif', \n",
    "                   'w',\n",
    "                    driver='GTiff',\n",
    "                    height=ybins,\n",
    "                    width=xbins,\n",
    "                    count=1,\n",
    "                    dtype=error.dtype,\n",
    "                    crs='epsg:28992',\n",
    "                    transform=transform )\n",
    "raster.write(NP.flip(error.reshape(ybins,xbins), 0), 1)\n",
    "raster.close()"
   ]
  },
  {
   "cell_type": "markdown",
   "metadata": {},
   "source": [
    "## Data 2"
   ]
  },
  {
   "cell_type": "code",
   "execution_count": 14,
   "metadata": {},
   "outputs": [
    {
     "data": {
      "text/html": [
       "<div>\n",
       "<style scoped>\n",
       "    .dataframe tbody tr th:only-of-type {\n",
       "        vertical-align: middle;\n",
       "    }\n",
       "\n",
       "    .dataframe tbody tr th {\n",
       "        vertical-align: top;\n",
       "    }\n",
       "\n",
       "    .dataframe thead th {\n",
       "        text-align: right;\n",
       "    }\n",
       "</style>\n",
       "<table border=\"1\" class=\"dataframe\">\n",
       "  <thead>\n",
       "    <tr style=\"text-align: right;\">\n",
       "      <th></th>\n",
       "      <th>event</th>\n",
       "      <th>datetime</th>\n",
       "      <th>lon</th>\n",
       "      <th>lat</th>\n",
       "      <th>depth</th>\n",
       "      <th>intensity</th>\n",
       "      <th>station_id</th>\n",
       "      <th>station_name</th>\n",
       "      <th>station_lon</th>\n",
       "      <th>station_lat</th>\n",
       "      <th>distance</th>\n",
       "      <th>az</th>\n",
       "      <th>pga_v</th>\n",
       "      <th>pga_ns</th>\n",
       "      <th>pga_ew</th>\n",
       "      <th>d</th>\n",
       "      <th>pga_max</th>\n",
       "      <th>pga</th>\n",
       "    </tr>\n",
       "  </thead>\n",
       "  <tbody>\n",
       "    <tr>\n",
       "      <th>0</th>\n",
       "      <td>0</td>\n",
       "      <td>2018-12-14 04:56:39</td>\n",
       "      <td>303898.534518</td>\n",
       "      <td>2.661770e+06</td>\n",
       "      <td>17.7</td>\n",
       "      <td>3.5</td>\n",
       "      <td>TWD</td>\n",
       "      <td>Xiulin</td>\n",
       "      <td>311007.912765</td>\n",
       "      <td>2.664013e+06</td>\n",
       "      <td>8.22</td>\n",
       "      <td>255.19</td>\n",
       "      <td>8.24</td>\n",
       "      <td>5.79</td>\n",
       "      <td>8.24</td>\n",
       "      <td>7455.018061</td>\n",
       "      <td>8.24</td>\n",
       "      <td>13.012275</td>\n",
       "    </tr>\n",
       "    <tr>\n",
       "      <th>1</th>\n",
       "      <td>0</td>\n",
       "      <td>2018-12-14 04:56:39</td>\n",
       "      <td>303898.534518</td>\n",
       "      <td>2.661770e+06</td>\n",
       "      <td>17.7</td>\n",
       "      <td>3.5</td>\n",
       "      <td>ETM</td>\n",
       "      <td>Tongmen</td>\n",
       "      <td>299865.343998</td>\n",
       "      <td>2.651787e+06</td>\n",
       "      <td>11.26</td>\n",
       "      <td>17.81</td>\n",
       "      <td>27.06</td>\n",
       "      <td>53.78</td>\n",
       "      <td>53.78</td>\n",
       "      <td>10766.259718</td>\n",
       "      <td>53.78</td>\n",
       "      <td>80.726826</td>\n",
       "    </tr>\n",
       "    <tr>\n",
       "      <th>2</th>\n",
       "      <td>0</td>\n",
       "      <td>2018-12-14 04:56:39</td>\n",
       "      <td>303898.534518</td>\n",
       "      <td>2.661770e+06</td>\n",
       "      <td>17.7</td>\n",
       "      <td>3.5</td>\n",
       "      <td>HWA</td>\n",
       "      <td>HualienCity</td>\n",
       "      <td>312072.754264</td>\n",
       "      <td>2.652942e+06</td>\n",
       "      <td>13.09</td>\n",
       "      <td>317.56</td>\n",
       "      <td>15.05</td>\n",
       "      <td>14.58</td>\n",
       "      <td>15.05</td>\n",
       "      <td>12030.634070</td>\n",
       "      <td>15.05</td>\n",
       "      <td>25.798864</td>\n",
       "    </tr>\n",
       "    <tr>\n",
       "      <th>3</th>\n",
       "      <td>0</td>\n",
       "      <td>2018-12-14 04:56:39</td>\n",
       "      <td>303898.534518</td>\n",
       "      <td>2.661770e+06</td>\n",
       "      <td>17.7</td>\n",
       "      <td>3.5</td>\n",
       "      <td>ETL</td>\n",
       "      <td>Taroko</td>\n",
       "      <td>313002.380630</td>\n",
       "      <td>2.672882e+06</td>\n",
       "      <td>14.44</td>\n",
       "      <td>222.69</td>\n",
       "      <td>5.94</td>\n",
       "      <td>19.33</td>\n",
       "      <td>19.33</td>\n",
       "      <td>14365.702485</td>\n",
       "      <td>19.33</td>\n",
       "      <td>27.974656</td>\n",
       "    </tr>\n",
       "    <tr>\n",
       "      <th>4</th>\n",
       "      <td>0</td>\n",
       "      <td>2018-12-14 04:56:39</td>\n",
       "      <td>303898.534518</td>\n",
       "      <td>2.661770e+06</td>\n",
       "      <td>17.7</td>\n",
       "      <td>3.5</td>\n",
       "      <td>ETLH</td>\n",
       "      <td>Xibao</td>\n",
       "      <td>298756.774779</td>\n",
       "      <td>2.678364e+06</td>\n",
       "      <td>16.64</td>\n",
       "      <td>164.09</td>\n",
       "      <td>6.89</td>\n",
       "      <td>8.04</td>\n",
       "      <td>8.04</td>\n",
       "      <td>17372.811019</td>\n",
       "      <td>8.04</td>\n",
       "      <td>13.294935</td>\n",
       "    </tr>\n",
       "  </tbody>\n",
       "</table>\n",
       "</div>"
      ],
      "text/plain": [
       "   event             datetime            lon           lat  depth  intensity  \\\n",
       "0      0  2018-12-14 04:56:39  303898.534518  2.661770e+06   17.7        3.5   \n",
       "1      0  2018-12-14 04:56:39  303898.534518  2.661770e+06   17.7        3.5   \n",
       "2      0  2018-12-14 04:56:39  303898.534518  2.661770e+06   17.7        3.5   \n",
       "3      0  2018-12-14 04:56:39  303898.534518  2.661770e+06   17.7        3.5   \n",
       "4      0  2018-12-14 04:56:39  303898.534518  2.661770e+06   17.7        3.5   \n",
       "\n",
       "  station_id station_name    station_lon   station_lat  distance      az  \\\n",
       "0        TWD       Xiulin  311007.912765  2.664013e+06      8.22  255.19   \n",
       "1        ETM      Tongmen  299865.343998  2.651787e+06     11.26   17.81   \n",
       "2        HWA  HualienCity  312072.754264  2.652942e+06     13.09  317.56   \n",
       "3        ETL       Taroko  313002.380630  2.672882e+06     14.44  222.69   \n",
       "4       ETLH        Xibao  298756.774779  2.678364e+06     16.64  164.09   \n",
       "\n",
       "   pga_v  pga_ns  pga_ew             d  pga_max        pga  \n",
       "0   8.24    5.79    8.24   7455.018061     8.24  13.012275  \n",
       "1  27.06   53.78   53.78  10766.259718    53.78  80.726826  \n",
       "2  15.05   14.58   15.05  12030.634070    15.05  25.798864  \n",
       "3   5.94   19.33   19.33  14365.702485    19.33  27.974656  \n",
       "4   6.89    8.04    8.04  17372.811019     8.04  13.294935  "
      ]
     },
     "execution_count": 14,
     "metadata": {},
     "output_type": "execute_result"
    }
   ],
   "source": [
    "df = PD.read_csv('./data/earthquaketw.csv')\n",
    "df.head()"
   ]
  },
  {
   "cell_type": "code",
   "execution_count": 15,
   "metadata": {},
   "outputs": [
    {
     "name": "stdout",
     "output_type": "stream",
     "text": [
      "1699 548 2191\n"
     ]
    }
   ],
   "source": [
    "NP.random.seed(0)\n",
    "test_idxes = NP.random.choice(a=df.index, size=int(NP.round(len(df)/4)))\n",
    "train_idxes = NP.array(list(set(df.index).difference(set(test_idxes))))\n",
    "tw_test = df.loc[test_idxes,:].copy()\n",
    "tw_train = df.loc[train_idxes,:].copy()\n",
    "print(len(tw_train), len(tw_test), len(df))"
   ]
  },
  {
   "cell_type": "code",
   "execution_count": 16,
   "metadata": {},
   "outputs": [
    {
     "name": "stderr",
     "output_type": "stream",
     "text": [
      "100%|██████████| 58/58 [00:00<00:00, 304.43it/s]\n"
     ]
    },
    {
     "data": {
      "text/plain": [
       "<Figure size 720x432 with 0 Axes>"
      ]
     },
     "metadata": {},
     "output_type": "display_data"
    },
    {
     "data": {
      "image/png": "[encoded data removed]",
      "text/plain": [
       "<Figure size 720x432 with 2 Axes>"
      ]
     },
     "metadata": {
      "needs_background": "light"
     },
     "output_type": "display_data"
    }
   ],
   "source": [
    "## Functions\n",
    "def variogram_exponential(d, pars):\n",
    "    \"\"\"Exponential model, pars[3] = [psill, range, nugget]\n",
    "                           d     \n",
    "                      - ( --- )  \n",
    "                          [1]    \n",
    "    y = [0] * ( 1 - e^         ) + [2]\n",
    "    \"\"\"\n",
    "    psill = float(pars[0])\n",
    "    prange = float(pars[1])\n",
    "    pnugget = float(pars[2])\n",
    "    return psill * (1. - NP.exp(-d/(prange))) + pnugget\n",
    "\n",
    "## Train variogram\n",
    "var_tw = VARIOGRAM(10, model=variogram_exponential)\n",
    "events = TQDM(df['event'].unique())\n",
    "for evt in events:\n",
    "    event = tw_train.query('event == %d'%evt)\n",
    "    if len(event) == 0 : continue\n",
    "    X = event[['station_lon', 'station_lat']].values/1000\n",
    "    y = event['pga'].values\n",
    "    var_tw.calculate(X, y)\n",
    "var_tw.update_fit(fit_range=[0,200])\n",
    "PLT.figure(figsize=[10,6])\n",
    "var_tw.plot()"
   ]
  },
  {
   "cell_type": "code",
   "execution_count": 17,
   "metadata": {},
   "outputs": [],
   "source": [
    "ok_tw = kriging_ordinary(var_tw)"
   ]
  },
  {
   "cell_type": "code",
   "execution_count": 18,
   "metadata": {},
   "outputs": [
    {
     "name": "stderr",
     "output_type": "stream",
     "text": [
      "100%|██████████| 58/58 [00:00<00:00, 61.10it/s]\n"
     ]
    }
   ],
   "source": [
    "events = TQDM(df['event'].unique())\n",
    "for evt in events:\n",
    "    msk_train = tw_train['event'] == evt\n",
    "    msk_test  = tw_test['event'] == evt\n",
    "    \n",
    "    X_train = tw_train.loc[msk_train, ['station_lon', 'station_lat']].values/1000\n",
    "    X_test  = tw_test.loc[msk_test, ['station_lon', 'station_lat']].values/1000\n",
    "    y_train = tw_train.loc[msk_train, 'pga'].values\n",
    "    \n",
    "    ## Load train data point\n",
    "    if len(X_train) == 0: \n",
    "        continue\n",
    "    else:\n",
    "        ok_tw.fit(X_train, y_train)\n",
    "        tw_train.loc[msk_train, 'pga_predict'] = ok_tw.predict(X_train)[0]\n",
    "    \n",
    "    if len(X_test) == 0:\n",
    "        continue\n",
    "    else:\n",
    "        tw_test.loc[msk_test, 'pga_predict'] = ok_tw.predict(X_test)[0]"
   ]
  },
  {
   "cell_type": "code",
   "execution_count": 19,
   "metadata": {},
   "outputs": [],
   "source": [
    "tw_train['residual'] = tw_train['pga_predict'] - tw_train['pga']\n",
    "tw_test['residual'] = tw_test['pga_predict'] - tw_test['pga']"
   ]
  },
  {
   "cell_type": "code",
   "execution_count": 20,
   "metadata": {},
   "outputs": [
    {
     "name": "stdout",
     "output_type": "stream",
     "text": [
      "Train  2.1060911173436607e-16 1.2507458324395001e-14 1.0\n",
      "Test  1.6124788131888712 16.88613060589681 1.0\n"
     ]
    }
   ],
   "source": [
    "def r2(obs, exp):\n",
    "    obs = NP.atleast_1d(obs)\n",
    "    exp = NP.atleast_1d(obs)\n",
    "    return 1 - sum((exp - obs)**2)/sum((obs - obs.mean())**2)\n",
    "print('Train ', tw_train['residual'].mean(), tw_train['residual'].std(), r2(tw_train['pga'], tw_train['pga_predict']))\n",
    "print('Test ', tw_test['residual'].mean(), tw_test['residual'].std(), r2(tw_test['pga'], tw_test['pga_predict']))"
   ]
  },
  {
   "cell_type": "code",
   "execution_count": 21,
   "metadata": {},
   "outputs": [
    {
     "data": {
      "image/png": "[encoded data removed]",
      "text/plain": [
       "<Figure size 432x432 with 4 Axes>"
      ]
     },
     "metadata": {
      "needs_background": "light"
     },
     "output_type": "display_data"
    }
   ],
   "source": [
    "pga_limit = 100\n",
    "PLT.figure(figsize=(6,6))\n",
    "PLT.subplot(221)\n",
    "PLT.plot(tw_train['pga_predict'], tw_train['pga'], '.')\n",
    "PLT.title('Training: pred vs obs')\n",
    "PLT.xlabel('Predictions')\n",
    "PLT.ylabel('True value')\n",
    "PLT.plot([0,pga_limit], [0,pga_limit], 'g--')\n",
    "PLT.ylim(0,pga_limit)\n",
    "PLT.xlim(0,pga_limit)\n",
    "PLT.subplot(222)\n",
    "tw_train['residual'].hist()\n",
    "PLT.title('Hist training res\\nMedian absolute error: {:.1f}'.format(NP.median(NP.abs(tw_train['residual']))))\n",
    "PLT.subplot(223)\n",
    "PLT.plot(tw_test['pga_predict'], tw_test['pga'], '.')\n",
    "PLT.plot([0,pga_limit], [0,pga_limit], 'g--')\n",
    "PLT.title('Test: pred vs obs')\n",
    "PLT.xlabel('Predictions')\n",
    "PLT.ylabel('True value')\n",
    "PLT.ylim(0,pga_limit)\n",
    "PLT.xlim(0,pga_limit)\n",
    "PLT.subplot(224)\n",
    "tw_test['residual'].hist()\n",
    "PLT.title('Hist test res\\nMedian absolute error: {:.1f}'.format(NP.median(NP.abs(tw_test['residual']))))\n",
    "PLT.tight_layout()"
   ]
  },
  {
   "cell_type": "code",
   "execution_count": 22,
   "metadata": {},
   "outputs": [
    {
     "name": "stderr",
     "output_type": "stream",
     "text": [
      "100%|██████████| 58/58 [00:00<00:00, 313.43it/s]\n"
     ]
    }
   ],
   "source": [
    "events = TQDM(df['event'].unique())\n",
    "for evt in events:\n",
    "    event = df.query('event == %d'%evt)\n",
    "    X = event[['station_lon', 'station_lat']].values/1000\n",
    "    y = event['pga'].values\n",
    "    var_tw.calculate(X, y)\n",
    "var_tw.update_fit(fit_range=[0,200])"
   ]
  },
  {
   "cell_type": "code",
   "execution_count": 23,
   "metadata": {},
   "outputs": [
    {
     "name": "stdout",
     "output_type": "stream",
     "text": [
      ">> Interpolating 3311 cells (43, 77)....\n"
     ]
    }
   ],
   "source": [
    "cellsize = 5000 # [m]\n",
    "xmin = 145541\n",
    "xmax = 355210\n",
    "ymin = 2421543\n",
    "ymax = 2800785\n",
    "# * Create 2D extent and grid\n",
    "## Grid is from top-left to bottom-right\n",
    "X, Y = NP.meshgrid( NP.arange(xmin, xmax+cellsize, cellsize),\n",
    "                    NP.arange(ymin, ymax+cellsize, cellsize))\n",
    "## set prediction location is in the central of grid\n",
    "xy = NP.concatenate(( X.flatten()[:, NP.newaxis] + cellsize/2,\n",
    "                      Y.flatten()[:, NP.newaxis] - cellsize/2),\n",
    "                      axis=1)\n",
    "## Define variables\n",
    "xbins = X.shape[1]\n",
    "ybins = Y.shape[0]\n",
    "transform = from_origin(X.min(), Y.max(), cellsize, cellsize) # Set raster left-top's coordinates\n",
    "print(\">> Interpolating %d cells (%d, %d)....\"%(len(xy), xbins, ybins))"
   ]
  },
  {
   "cell_type": "code",
   "execution_count": 24,
   "metadata": {},
   "outputs": [
    {
     "name": "stderr",
     "output_type": "stream",
     "text": [
      "100%|██████████| 58/58 [00:19<00:00,  3.45it/s]\n"
     ]
    }
   ],
   "source": [
    "## Predict\n",
    "events = TQDM(df['event'].unique())\n",
    "for evt in events:\n",
    "    event = df.query('event == %d'%evt).reset_index(drop=True)\n",
    "    X = event[['station_lon', 'station_lat']].values/1000\n",
    "    y = event['pga'].values\n",
    "    name = event['datetime'].values[0].split()[0]\n",
    "    ok_tw.fit(X, y)\n",
    "    prediction = ok_tw.predict(xy/1000., radius=var_tw.range)\n",
    "    #raster = RAST.open('./data/pga_prediction_%d_%s.tif'%(evt, name), \n",
    "    raster = RAST.open('./data/pgaR_prediction_%d_%s.tif'%(evt, name), \n",
    "                   'w',\n",
    "                    driver='GTiff',\n",
    "                    height=ybins,\n",
    "                    width=xbins,\n",
    "                    count=1,\n",
    "                    dtype=prediction[0].dtype,\n",
    "                    crs='epsg:3826',\n",
    "                    transform=transform )\n",
    "    raster.write(NP.flip(prediction[0].reshape(ybins,xbins), 0), 1)\n",
    "    raster.close()\n",
    "    \n",
    "    #raster = RAST.open('./data/pga_prediction_error_%d_%s.tif'%(evt,name),\n",
    "    raster = RAST.open('./data/pgaR_prediction_error_%d_%s.tif'%(evt,name),                   \n",
    "                   'w',\n",
    "                    driver='GTiff',\n",
    "                    height=ybins,\n",
    "                    width=xbins,\n",
    "                    count=1,\n",
    "                    dtype=prediction[1].dtype,\n",
    "                    crs='epsg:3826',\n",
    "                    transform=transform )\n",
    "    raster.write(NP.flip(prediction[1].reshape(ybins,xbins), 0), 1)\n",
    "    raster.close()\n",
    "    \n",
    "    event['geom'] = event[['station_lon', 'station_lat']].apply(lambda x: Point(x), axis=1)\n",
    "    event = GPD.GeoDataFrame(event[['event', 'depth', 'intensity', 'station_id', 'distance', 'az', 'pga_v', 'pga_ns', 'pga_ew', 'd', 'pga_max', 'pga', 'geom']], geometry='geom')\n",
    "    event.crs={'init' :'epsg:3826'}\n",
    "    event.to_file('./data/earthquaketw_%d_%s.shp'%(evt,name), driver='ESRI Shapefile', encoding = 'utf-8')"
   ]
  },
  {
   "cell_type": "code",
   "execution_count": null,
   "metadata": {},
   "outputs": [],
   "source": []
  }
 ],
 "metadata": {
  "kernelspec": {
   "display_name": "Python 3",
   "language": "python",
   "name": "python3"
  },
  "language_info": {
   "codemirror_mode": {
    "name": "ipython",
    "version": 3
   },
   "file_extension": ".py",
   "mimetype": "text/x-python",
   "name": "python",
   "nbconvert_exporter": "python",
   "pygments_lexer": "ipython3",
   "version": "3.6.5"
  }
 },
 "nbformat": 4,
 "nbformat_minor": 2
}
