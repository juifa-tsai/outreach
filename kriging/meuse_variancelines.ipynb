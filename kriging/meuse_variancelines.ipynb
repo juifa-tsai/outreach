{
 "cells": [
  {
   "cell_type": "code",
   "execution_count": 3,
   "metadata": {},
   "outputs": [],
   "source": [
    "import pandas as PD\n",
    "import geopandas as GPD\n",
    "import numpy as NP\n",
    "import matplotlib.pyplot as PLT\n",
    "from tqdm import tqdm as TQDM\n",
    "from scipy.spatial.distance import cdist\n",
    "from scipy.optimize import least_squares"
   ]
  },
  {
   "cell_type": "code",
   "execution_count": 45,
   "metadata": {},
   "outputs": [
    {
     "data": {
      "text/html": [
       "<div>\n",
       "<style scoped>\n",
       "    .dataframe tbody tr th:only-of-type {\n",
       "        vertical-align: middle;\n",
       "    }\n",
       "\n",
       "    .dataframe tbody tr th {\n",
       "        vertical-align: top;\n",
       "    }\n",
       "\n",
       "    .dataframe thead th {\n",
       "        text-align: right;\n",
       "    }\n",
       "</style>\n",
       "<table border=\"1\" class=\"dataframe\">\n",
       "  <thead>\n",
       "    <tr style=\"text-align: right;\">\n",
       "      <th></th>\n",
       "      <th>i</th>\n",
       "      <th>cadmium</th>\n",
       "      <th>copper</th>\n",
       "      <th>lead</th>\n",
       "      <th>zinc</th>\n",
       "      <th>elev</th>\n",
       "      <th>dist</th>\n",
       "      <th>om</th>\n",
       "      <th>ffreq</th>\n",
       "      <th>soil</th>\n",
       "      <th>lime</th>\n",
       "      <th>landuse</th>\n",
       "      <th>dist.m</th>\n",
       "      <th>x</th>\n",
       "      <th>y</th>\n",
       "      <th>geometry</th>\n",
       "    </tr>\n",
       "  </thead>\n",
       "  <tbody>\n",
       "    <tr>\n",
       "      <th>0</th>\n",
       "      <td>0</td>\n",
       "      <td>11.7</td>\n",
       "      <td>85.0</td>\n",
       "      <td>299.0</td>\n",
       "      <td>1022.0</td>\n",
       "      <td>7.909</td>\n",
       "      <td>0.001358</td>\n",
       "      <td>13.6</td>\n",
       "      <td>1</td>\n",
       "      <td>1</td>\n",
       "      <td>1</td>\n",
       "      <td>Ah</td>\n",
       "      <td>50.0</td>\n",
       "      <td>181072.0</td>\n",
       "      <td>333611.0</td>\n",
       "      <td>POINT (5.758536241675762 50.99156215667816)</td>\n",
       "    </tr>\n",
       "    <tr>\n",
       "      <th>1</th>\n",
       "      <td>1</td>\n",
       "      <td>8.6</td>\n",
       "      <td>81.0</td>\n",
       "      <td>277.0</td>\n",
       "      <td>1141.0</td>\n",
       "      <td>6.983</td>\n",
       "      <td>0.012224</td>\n",
       "      <td>14.0</td>\n",
       "      <td>1</td>\n",
       "      <td>1</td>\n",
       "      <td>1</td>\n",
       "      <td>Ah</td>\n",
       "      <td>30.0</td>\n",
       "      <td>181025.0</td>\n",
       "      <td>333558.0</td>\n",
       "      <td>POINT (5.757863018200728 50.99108790288359)</td>\n",
       "    </tr>\n",
       "    <tr>\n",
       "      <th>2</th>\n",
       "      <td>2</td>\n",
       "      <td>6.5</td>\n",
       "      <td>68.0</td>\n",
       "      <td>199.0</td>\n",
       "      <td>640.0</td>\n",
       "      <td>7.800</td>\n",
       "      <td>0.103029</td>\n",
       "      <td>13.0</td>\n",
       "      <td>1</td>\n",
       "      <td>1</td>\n",
       "      <td>1</td>\n",
       "      <td>Ah</td>\n",
       "      <td>150.0</td>\n",
       "      <td>181165.0</td>\n",
       "      <td>333537.0</td>\n",
       "      <td>POINT (5.759855417830628 50.99089274333686)</td>\n",
       "    </tr>\n",
       "    <tr>\n",
       "      <th>3</th>\n",
       "      <td>3</td>\n",
       "      <td>2.6</td>\n",
       "      <td>81.0</td>\n",
       "      <td>116.0</td>\n",
       "      <td>257.0</td>\n",
       "      <td>7.655</td>\n",
       "      <td>0.190094</td>\n",
       "      <td>8.0</td>\n",
       "      <td>1</td>\n",
       "      <td>2</td>\n",
       "      <td>0</td>\n",
       "      <td>Ga</td>\n",
       "      <td>270.0</td>\n",
       "      <td>181298.0</td>\n",
       "      <td>333484.0</td>\n",
       "      <td>POINT (5.761745770023087 50.99041023559325)</td>\n",
       "    </tr>\n",
       "    <tr>\n",
       "      <th>4</th>\n",
       "      <td>4</td>\n",
       "      <td>2.8</td>\n",
       "      <td>48.0</td>\n",
       "      <td>117.0</td>\n",
       "      <td>269.0</td>\n",
       "      <td>7.480</td>\n",
       "      <td>0.277090</td>\n",
       "      <td>8.7</td>\n",
       "      <td>1</td>\n",
       "      <td>2</td>\n",
       "      <td>0</td>\n",
       "      <td>Ah</td>\n",
       "      <td>380.0</td>\n",
       "      <td>181307.0</td>\n",
       "      <td>333330.0</td>\n",
       "      <td>POINT (5.761862707698853 50.98902557091748)</td>\n",
       "    </tr>\n",
       "  </tbody>\n",
       "</table>\n",
       "</div>"
      ],
      "text/plain": [
       "   i  cadmium  copper   lead    zinc   elev      dist    om ffreq soil lime  \\\n",
       "0  0     11.7    85.0  299.0  1022.0  7.909  0.001358  13.6     1    1    1   \n",
       "1  1      8.6    81.0  277.0  1141.0  6.983  0.012224  14.0     1    1    1   \n",
       "2  2      6.5    68.0  199.0   640.0  7.800  0.103029  13.0     1    1    1   \n",
       "3  3      2.6    81.0  116.0   257.0  7.655  0.190094   8.0     1    2    0   \n",
       "4  4      2.8    48.0  117.0   269.0  7.480  0.277090   8.7     1    2    0   \n",
       "\n",
       "  landuse  dist.m         x         y  \\\n",
       "0      Ah    50.0  181072.0  333611.0   \n",
       "1      Ah    30.0  181025.0  333558.0   \n",
       "2      Ah   150.0  181165.0  333537.0   \n",
       "3      Ga   270.0  181298.0  333484.0   \n",
       "4      Ah   380.0  181307.0  333330.0   \n",
       "\n",
       "                                      geometry  \n",
       "0  POINT (5.758536241675762 50.99156215667816)  \n",
       "1  POINT (5.757863018200728 50.99108790288359)  \n",
       "2  POINT (5.759855417830628 50.99089274333686)  \n",
       "3  POINT (5.761745770023087 50.99041023559325)  \n",
       "4  POINT (5.761862707698853 50.98902557091748)  "
      ]
     },
     "execution_count": 45,
     "metadata": {},
     "output_type": "execute_result"
    }
   ],
   "source": [
    "gdf = GPD.read_file('./data/muese.shp')\n",
    "gdf = gdf.reset_index().rename(columns={\"index\":\"i\"})\n",
    "gdf['i'] = gdf['i'].astype(str)\n",
    "gdf.head()"
   ]
  },
  {
   "cell_type": "code",
   "execution_count": 46,
   "metadata": {},
   "outputs": [],
   "source": [
    "x = gdf[['x', 'y']].values"
   ]
  },
  {
   "cell_type": "code",
   "execution_count": 47,
   "metadata": {},
   "outputs": [
    {
     "data": {
      "text/plain": [
       "(155, 2)"
      ]
     },
     "execution_count": 47,
     "metadata": {},
     "output_type": "execute_result"
    }
   ],
   "source": [
    "x.shape"
   ]
  },
  {
   "cell_type": "code",
   "execution_count": 48,
   "metadata": {},
   "outputs": [],
   "source": [
    "y = gdf['lead'].values\n",
    "y = y[:, NP.newaxis]"
   ]
  },
  {
   "cell_type": "code",
   "execution_count": 49,
   "metadata": {},
   "outputs": [
    {
     "data": {
      "text/plain": [
       "(155, 155)"
      ]
     },
     "execution_count": 49,
     "metadata": {},
     "output_type": "execute_result"
    }
   ],
   "source": [
    "v = NP.triu(cdist(y, y, metric='sqeuclidean'))\n",
    "v.shape"
   ]
  },
  {
   "cell_type": "code",
   "execution_count": 61,
   "metadata": {},
   "outputs": [
    {
     "data": {
      "text/plain": [
       "i     object\n",
       "j     object\n",
       "v    float64\n",
       "dtype: object"
      ]
     },
     "execution_count": 61,
     "metadata": {},
     "output_type": "execute_result"
    }
   ],
   "source": [
    "df = PD.DataFrame(v, columns=[str(i) for i in range(v.shape[0])]).reset_index().rename(columns={'index':'i'})\n",
    "df['i'] = df['i'].astype(str)\n",
    "dfm = PD.melt(df, id_vars='i', value_vars=[str(i) for i in range(v.shape[0])], value_name='v', var_name='j').query('v != 0').reset_index(drop=True)\n",
    "dfm.dtypes"
   ]
  },
  {
   "cell_type": "code",
   "execution_count": 62,
   "metadata": {},
   "outputs": [],
   "source": [
    "from shapely.geometry import Point, LineString\n",
    "dfm = PD.merge(dfm, gdf[['i', 'geometry']], on='i').rename(columns={'geometry':'geometry_i'})\n",
    "dfm = PD.merge(dfm, gdf[['i', 'geometry']].rename(columns={'i':'j'}), on='j' ).rename(columns={'geometry':'geometry_j'})\n",
    "dfm['geometry'] = dfm[['geometry_i', 'geometry_j']].apply(lambda x: LineString(x), axis=1)"
   ]
  },
  {
   "cell_type": "code",
   "execution_count": 65,
   "metadata": {},
   "outputs": [
    {
     "name": "stderr",
     "output_type": "stream",
     "text": [
      "CPLE_NotSupported in driver ESRI Shapefile does not support creation option ENCODING\n"
     ]
    }
   ],
   "source": [
    "dfm = GPD.GeoDataFrame(dfm[['i', 'j', 'v', 'geometry']], geometry='geometry')\n",
    "dfm.to_file('./data/muese_variance.shp', driver='ESRI Shapefile', encoding = 'utf-8')"
   ]
  },
  {
   "cell_type": "code",
   "execution_count": null,
   "metadata": {},
   "outputs": [],
   "source": []
  }
 ],
 "metadata": {
  "kernelspec": {
   "display_name": "Python 3",
   "language": "python",
   "name": "python3"
  },
  "language_info": {
   "codemirror_mode": {
    "name": "ipython",
    "version": 3
   },
   "file_extension": ".py",
   "mimetype": "text/x-python",
   "name": "python",
   "nbconvert_exporter": "python",
   "pygments_lexer": "ipython3",
   "version": "3.6.5"
  }
 },
 "nbformat": 4,
 "nbformat_minor": 2
}
