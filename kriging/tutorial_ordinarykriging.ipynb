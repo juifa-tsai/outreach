{
 "cells": [
  {
   "cell_type": "markdown",
   "metadata": {},
   "source": [
    "# Make your own Ordinary Kriging object"
   ]
  },
  {
   "cell_type": "code",
   "execution_count": 1,
   "metadata": {},
   "outputs": [],
   "source": [
    "## Common analysis packages\n",
    "import numpy as NP\n",
    "import matplotlib.pyplot as PLT\n",
    "from tqdm import tqdm as TQDM\n",
    "\n",
    "## scipy packages\n",
    "import scipy.linalg\n",
    "from scipy import optimize as OPT\n",
    "from scipy.spatial import cKDTree\n",
    "from scipy.spatial.distance import cdist\n",
    "\n",
    "## geometry packages\n",
    "import geopandas as GPD\n",
    "import rasterio as RAST\n",
    "from rasterio.transform import from_origin\n",
    "from shapely.geometry import Point\n",
    "\n",
    "## Load variogram object\n",
    "from variogram import variogram as VARIOGRAM"
   ]
  },
  {
   "cell_type": "markdown",
   "metadata": {},
   "source": [
    "## 1. Define Ordinary Kriging object"
   ]
  },
  {
   "cell_type": "code",
   "execution_count": 2,
   "metadata": {},
   "outputs": [],
   "source": [
    "class ordinarykriging(object):\n",
    "    def __init__(self, varigoram, debug=False):\n",
    "        ## Local parameters ##\n",
    "        self.variogram = varigoram\n",
    "        self.debug = debug\n",
    "\n",
    "    def fit(self, X, y):\n",
    "        return fit(self, X, y)\n",
    "\n",
    "    def predict(self, X, n_neighbor=None, radius=NP.inf, use_nugget=False):\n",
    "        return predict(self, X, n_neighbor=n_neighbor, radius=radius, use_nugget=use_nugget)"
   ]
  },
  {
   "cell_type": "markdown",
   "metadata": {},
   "source": [
    "## 2. Load rive muese data & split to train and test data"
   ]
  },
  {
   "cell_type": "code",
   "execution_count": 3,
   "metadata": {},
   "outputs": [
    {
     "data": {
      "text/html": [
       "<div>\n",
       "<style scoped>\n",
       "    .dataframe tbody tr th:only-of-type {\n",
       "        vertical-align: middle;\n",
       "    }\n",
       "\n",
       "    .dataframe tbody tr th {\n",
       "        vertical-align: top;\n",
       "    }\n",
       "\n",
       "    .dataframe thead th {\n",
       "        text-align: right;\n",
       "    }\n",
       "</style>\n",
       "<table border=\"1\" class=\"dataframe\">\n",
       "  <thead>\n",
       "    <tr style=\"text-align: right;\">\n",
       "      <th></th>\n",
       "      <th>cadmium</th>\n",
       "      <th>copper</th>\n",
       "      <th>lead</th>\n",
       "      <th>zinc</th>\n",
       "      <th>elev</th>\n",
       "      <th>dist</th>\n",
       "      <th>om</th>\n",
       "      <th>ffreq</th>\n",
       "      <th>soil</th>\n",
       "      <th>lime</th>\n",
       "      <th>landuse</th>\n",
       "      <th>dist.m</th>\n",
       "      <th>x</th>\n",
       "      <th>y</th>\n",
       "      <th>geometry</th>\n",
       "    </tr>\n",
       "  </thead>\n",
       "  <tbody>\n",
       "    <tr>\n",
       "      <th>0</th>\n",
       "      <td>11.7</td>\n",
       "      <td>85.0</td>\n",
       "      <td>299.0</td>\n",
       "      <td>1022.0</td>\n",
       "      <td>7.909</td>\n",
       "      <td>0.001358</td>\n",
       "      <td>13.6</td>\n",
       "      <td>1</td>\n",
       "      <td>1</td>\n",
       "      <td>1</td>\n",
       "      <td>Ah</td>\n",
       "      <td>50.0</td>\n",
       "      <td>181072.0</td>\n",
       "      <td>333611.0</td>\n",
       "      <td>POINT (5.758536241675762 50.99156215667816)</td>\n",
       "    </tr>\n",
       "    <tr>\n",
       "      <th>1</th>\n",
       "      <td>8.6</td>\n",
       "      <td>81.0</td>\n",
       "      <td>277.0</td>\n",
       "      <td>1141.0</td>\n",
       "      <td>6.983</td>\n",
       "      <td>0.012224</td>\n",
       "      <td>14.0</td>\n",
       "      <td>1</td>\n",
       "      <td>1</td>\n",
       "      <td>1</td>\n",
       "      <td>Ah</td>\n",
       "      <td>30.0</td>\n",
       "      <td>181025.0</td>\n",
       "      <td>333558.0</td>\n",
       "      <td>POINT (5.757863018200728 50.99108790288359)</td>\n",
       "    </tr>\n",
       "    <tr>\n",
       "      <th>2</th>\n",
       "      <td>6.5</td>\n",
       "      <td>68.0</td>\n",
       "      <td>199.0</td>\n",
       "      <td>640.0</td>\n",
       "      <td>7.800</td>\n",
       "      <td>0.103029</td>\n",
       "      <td>13.0</td>\n",
       "      <td>1</td>\n",
       "      <td>1</td>\n",
       "      <td>1</td>\n",
       "      <td>Ah</td>\n",
       "      <td>150.0</td>\n",
       "      <td>181165.0</td>\n",
       "      <td>333537.0</td>\n",
       "      <td>POINT (5.759855417830628 50.99089274333686)</td>\n",
       "    </tr>\n",
       "    <tr>\n",
       "      <th>3</th>\n",
       "      <td>2.6</td>\n",
       "      <td>81.0</td>\n",
       "      <td>116.0</td>\n",
       "      <td>257.0</td>\n",
       "      <td>7.655</td>\n",
       "      <td>0.190094</td>\n",
       "      <td>8.0</td>\n",
       "      <td>1</td>\n",
       "      <td>2</td>\n",
       "      <td>0</td>\n",
       "      <td>Ga</td>\n",
       "      <td>270.0</td>\n",
       "      <td>181298.0</td>\n",
       "      <td>333484.0</td>\n",
       "      <td>POINT (5.761745770023087 50.99041023559325)</td>\n",
       "    </tr>\n",
       "    <tr>\n",
       "      <th>4</th>\n",
       "      <td>2.8</td>\n",
       "      <td>48.0</td>\n",
       "      <td>117.0</td>\n",
       "      <td>269.0</td>\n",
       "      <td>7.480</td>\n",
       "      <td>0.277090</td>\n",
       "      <td>8.7</td>\n",
       "      <td>1</td>\n",
       "      <td>2</td>\n",
       "      <td>0</td>\n",
       "      <td>Ah</td>\n",
       "      <td>380.0</td>\n",
       "      <td>181307.0</td>\n",
       "      <td>333330.0</td>\n",
       "      <td>POINT (5.761862707698853 50.98902557091748)</td>\n",
       "    </tr>\n",
       "  </tbody>\n",
       "</table>\n",
       "</div>"
      ],
      "text/plain": [
       "   cadmium  copper   lead    zinc   elev      dist    om ffreq soil lime  \\\n",
       "0     11.7    85.0  299.0  1022.0  7.909  0.001358  13.6     1    1    1   \n",
       "1      8.6    81.0  277.0  1141.0  6.983  0.012224  14.0     1    1    1   \n",
       "2      6.5    68.0  199.0   640.0  7.800  0.103029  13.0     1    1    1   \n",
       "3      2.6    81.0  116.0   257.0  7.655  0.190094   8.0     1    2    0   \n",
       "4      2.8    48.0  117.0   269.0  7.480  0.277090   8.7     1    2    0   \n",
       "\n",
       "  landuse  dist.m         x         y  \\\n",
       "0      Ah    50.0  181072.0  333611.0   \n",
       "1      Ah    30.0  181025.0  333558.0   \n",
       "2      Ah   150.0  181165.0  333537.0   \n",
       "3      Ga   270.0  181298.0  333484.0   \n",
       "4      Ah   380.0  181307.0  333330.0   \n",
       "\n",
       "                                      geometry  \n",
       "0  POINT (5.758536241675762 50.99156215667816)  \n",
       "1  POINT (5.757863018200728 50.99108790288359)  \n",
       "2  POINT (5.759855417830628 50.99089274333686)  \n",
       "3  POINT (5.761745770023087 50.99041023559325)  \n",
       "4  POINT (5.761862707698853 50.98902557091748)  "
      ]
     },
     "execution_count": 3,
     "metadata": {},
     "output_type": "execute_result"
    }
   ],
   "source": [
    "gdf = GPD.read_file('./data/muese.shp')\n",
    "gdf.head()"
   ]
  },
  {
   "cell_type": "code",
   "execution_count": 4,
   "metadata": {},
   "outputs": [
    {
     "name": "stdout",
     "output_type": "stream",
     "text": [
      "122 39 155\n"
     ]
    }
   ],
   "source": [
    "NP.random.seed(0)\n",
    "test_idxes = NP.random.choice(a=gdf.index, size=int(NP.round(len(gdf)/4)))\n",
    "train_idxes = NP.array(list(set(gdf.index).difference(set(test_idxes))))\n",
    "meuse_test = gdf.loc[test_idxes,:].copy()\n",
    "meuse_train = gdf.loc[train_idxes,:].copy()\n",
    "print(len(meuse_train), len(meuse_test), len(gdf))"
   ]
  },
  {
   "cell_type": "markdown",
   "metadata": {},
   "source": [
    "## 3. Create variogram object with input 'x', 'y' and 'lead' (step 1)"
   ]
  },
  {
   "cell_type": "code",
   "execution_count": 5,
   "metadata": {},
   "outputs": [
    {
     "data": {
      "text/plain": [
       "<Figure size 720x432 with 0 Axes>"
      ]
     },
     "metadata": {},
     "output_type": "display_data"
    },
    {
     "data": {
      "image/png": "[encoded data removed]",
      "text/plain": [
       "<Figure size 720x432 with 2 Axes>"
      ]
     },
     "metadata": {
      "needs_background": "light"
     },
     "output_type": "display_data"
    }
   ],
   "source": [
    "## model\n",
    "def variogram_spherical(d, pars):\n",
    "    \"\"\"Spherical model, pars[3] = [psill, range, nugget]\n",
    "                             3 * d           d^3  \n",
    "    x <= [2] : y = [0] * ( ---------  -  ---------- ) + [2]\n",
    "                            2 * [1]       2 * [1]^3\n",
    "    x > [2]  : y = [0] + [2]\n",
    "    \"\"\"\n",
    "    psill = float(pars[0])\n",
    "    prange = float(pars[1])\n",
    "    pnugget = float(pars[2])\n",
    "    return NP.piecewise( d, \n",
    "                        [d <= prange, d > prange],\n",
    "                        [lambda x: psill * ((3.*x)/(2.*prange) - (x**3.)/(2.*prange**3.)) + pnugget, \n",
    "                         psill + pnugget])\n",
    "## train variogram\n",
    "var_muese = VARIOGRAM(100, model=variogram_spherical)\n",
    "var_muese.fit(meuse_train[['x', 'y']], meuse_train['lead'], fit_range=[0,1200])\n",
    "PLT.figure(figsize=[10,6])\n",
    "var_muese.plot()\n",
    "## upper plot : semi-varogram, down-plot : statistics"
   ]
  },
  {
   "cell_type": "markdown",
   "metadata": {},
   "source": [
    "## 4. Create ordinary kriging object with input variogram (step 2)"
   ]
  },
  {
   "cell_type": "code",
   "execution_count": 6,
   "metadata": {},
   "outputs": [],
   "source": [
    "ok_muese = ordinarykriging(var_muese)"
   ]
  },
  {
   "cell_type": "markdown",
   "metadata": {},
   "source": [
    "## 5. Load measurements with k-Tree\n",
    "The data structure of ***k-Tree*** is used to record sptial information for speed up searching neighbors. In general, you can create and fit varigoram in fit function."
   ]
  },
  {
   "cell_type": "code",
   "execution_count": 7,
   "metadata": {},
   "outputs": [],
   "source": [
    "def fit(self, X, y):\n",
    "    \"\"\"\n",
    "   [DESCRIPTION]\n",
    "       Store the data with KDTree or original data structure, and fit the variogram model with set parameters.\n",
    "   [INPUT]\n",
    "       X    : array-like, input data with features, same data size with y.\n",
    "       y    : array-like, input data with interesting value, same data size with X\n",
    "   [OUTPUT]\n",
    "       Null\n",
    "    \"\"\"\n",
    "    X = NP.atleast_1d(X)\n",
    "    y = NP.atleast_1d(y)\n",
    "    self.shape = X.shape\n",
    "    self.ndim = X.ndim\n",
    "    self.y = y\n",
    "    self.X = cKDTree(X, copy_data=True)"
   ]
  },
  {
   "cell_type": "code",
   "execution_count": 8,
   "metadata": {},
   "outputs": [],
   "source": [
    "ok_muese.fit(meuse_train[['x', 'y']], meuse_train['lead'])"
   ]
  },
  {
   "cell_type": "markdown",
   "metadata": {},
   "source": [
    "## 5. Prediction calculation (step 2)\n",
    "The ordinary kriging interpolation is defined\n",
    "\n",
    "$$\n",
    "\\hat{z}(\\mathbf{s}_k) = \\sum_{i\\in n_k}w_iz(\\mathbf{s}_i)\n",
    "$$\n",
    "\n",
    "where the weights $w_i$ can be optimized with ***BLUP*** to\n",
    "\n",
    "$$\n",
    "\\begin{bmatrix}\n",
    "w_1 \\\\\n",
    "w_2 \\\\\n",
    "\\vdots \\\\\n",
    "w_n \\\\\n",
    "\\lambda\n",
    "\\end{bmatrix}\n",
    "=\n",
    "\\begin{bmatrix}\n",
    "V_{11} & V_{12} & \\cdots & V_{1n} & -1 \\\\\n",
    "V_{21} & V_{22} &\\cdots & V_{2n} & -1 \\\\\n",
    "\\vdots & \\vdots & \\ddots & \\vdots & \\vdots \\\\\n",
    "V_{n1} & V_{n2} & \\cdots & V_{nn} & -1 \\\\\n",
    "1 & 1 & \\cdots & 1 & 0 \n",
    "\\end{bmatrix}^{-1}\n",
    "\\begin{bmatrix}\n",
    "V_{k1} \\\\\n",
    "V_{k2} \\\\\n",
    "\\vdots \\\\\n",
    "V_{kn} \\\\\n",
    "1\n",
    "\\end{bmatrix}\n",
    "$$\n",
    "\n",
    "Evaluate the precision with train and test data."
   ]
  },
  {
   "cell_type": "code",
   "execution_count": 9,
   "metadata": {},
   "outputs": [],
   "source": [
    "def predict(self, X, n_neighbor=None, radius=NP.inf, use_nugget=False):\n",
    "    '''\n",
    "    [DESCRIPTION]\n",
    "       Calculate and predict interesting value with looping for all data, the method take long time but save memory\n",
    "       Obtain the linear argibra terms\n",
    "        | V_ij -1 || w_i | = | V_k |\n",
    "        |  1   0 ||  u  |   |  1  |\n",
    "            a    *   w    =    b\n",
    "          w = a^-1 * b\n",
    "          y = w_i * Y\n",
    "        V_ij : semi-variance matrix within n neighors\n",
    "        V_k  : semi-variance vector between interesting point and n neighbors\n",
    "        w_i  : weights for linear combination\n",
    "        u    : lagrainge multiplier\n",
    "        Y    : true value of neighbors\n",
    "        y    : predicted value of interesting point\n",
    "    [INPUT]\n",
    "        X          : array-like, input data with same number of fearture in training data\n",
    "        n_neighbor : int,        number of neighbor w.r.t input data, while distance < searching radius (5)\n",
    "        radius     : float,      searching radius w.r.t input data (inf)\n",
    "        use_nugget : bool,       if use nugget to be diagonal of kriging matrix for prediction calculation (False)\n",
    "    [OUTPUT]\n",
    "        1D/2D array(float)\n",
    "        prediction : float, prdicted value via Kriging system y\n",
    "        error      : float, error of predicted value (only if get_error = True)\n",
    "        lambda     : float, lagrange multiplier u\n",
    "    '''\n",
    "    ## Make input to numpy.array\n",
    "    X = NP.atleast_1d(X)\n",
    "    if self.ndim == 1:\n",
    "        if X.ndim < 2: X = X[:, NP.newaxis]\n",
    "    else:\n",
    "        X = NP.atleast_2d(X)\n",
    "\n",
    "    ## Find the neighbors with K-tree object\n",
    "    if n_neighbor is None:\n",
    "        n_neighbor = self.shape[0]\n",
    "    neighbor_dst, neighbor_idx = self.X.query(X, k=n_neighbor, p=2)\n",
    "\n",
    "    ## Calculate prediction\n",
    "    idxes = range(X.shape[0])\n",
    "    out_lambda = NP.zeros(len(X))\n",
    "    out_predict = NP.zeros(len(X))\n",
    "    out_error = NP.zeros(len(X))\n",
    "    for nd, ni, i in zip(neighbor_dst, neighbor_idx, idxes):\n",
    "        ## select in searching radius\n",
    "        ni = ni[nd < radius] # neighbors' index, while the distance < search radius\n",
    "        nd = nd[nd < radius] # neighbors' distance, while the distance < search radius\n",
    "\n",
    "        if len(ni) == 0:\n",
    "            continue\n",
    "        else:\n",
    "            n = len(ni)\n",
    "\n",
    "        ## Initialization\n",
    "        a = NP.zeros((n+1,n+1))\n",
    "        b = NP.ones((n+1,))\n",
    "\n",
    "        ## Fill matrix a\n",
    "        a[:n, :n] = self.variogram.predict(cdist(self.X.data[ni], self.X.data[ni], metric='euclidean'))\n",
    "        a[:n, n] = 1\n",
    "        a[n, :n] = 1\n",
    "\n",
    "        ## Fill vector b\n",
    "        b[:n] = self.variogram.predict(nd)\n",
    "\n",
    "        ## set self-varinace is zero if not using Nugget\n",
    "        if not use_nugget:\n",
    "            ## modify a\n",
    "            NP.fill_diagonal(a, 0.)\n",
    "            ## modify b\n",
    "            zero_index = NP.where(NP.absolute(nd) == 0)\n",
    "            if len(zero_index) > 0:\n",
    "                b[zero_index[0]] = 0.\n",
    "\n",
    "        ## Get weights\n",
    "        #w = scipy.linalg.solve(a, b) # no constraint solution\n",
    "        w = OPT.nnls(a, b)[0] # non-negative solution\n",
    "\n",
    "        ## Fill results and prediction\n",
    "        out_lambda[i] = w[n]\n",
    "        out_predict[i] = w[:n].dot(self.y[ni])\n",
    "        out_error[i] = NP.sqrt(w[:n].dot(b[:n]))\n",
    "\n",
    "    return out_predict, out_error, out_lambda"
   ]
  },
  {
   "cell_type": "code",
   "execution_count": 10,
   "metadata": {},
   "outputs": [],
   "source": [
    "meuse_train['lead_predict'] = ok_muese.predict(meuse_train[['x', 'y']])[0]\n",
    "meuse_test['lead_predict'] = ok_muese.predict(meuse_test[['x', 'y']])[0]\n",
    "meuse_train['residual'] = meuse_train['lead_predict'] - meuse_train['lead']\n",
    "meuse_test['residual'] = meuse_test['lead_predict'] - meuse_test['lead']"
   ]
  },
  {
   "cell_type": "code",
   "execution_count": 11,
   "metadata": {},
   "outputs": [
    {
     "data": {
      "image/png": "[encoded data removed]",
      "text/plain": [
       "<Figure size 432x432 with 4 Axes>"
      ]
     },
     "metadata": {
      "needs_background": "light"
     },
     "output_type": "display_data"
    }
   ],
   "source": [
    "PLT.figure(figsize=(6,6))\n",
    "PLT.subplot(221)\n",
    "PLT.plot(meuse_train['lead_predict'], meuse_train['lead'], '.')\n",
    "PLT.title('Training: pred vs obs')\n",
    "PLT.xlabel('Predictions')\n",
    "PLT.ylabel('True value')\n",
    "PLT.plot([0,700], [0,700], 'g--')\n",
    "PLT.ylim(0,700)\n",
    "PLT.xlim(0,700)\n",
    "PLT.subplot(222)\n",
    "meuse_train['residual'].hist()\n",
    "PLT.title('Hist training res\\nMedian absolute error: {:.1f}'.format(NP.median(NP.abs(meuse_train['residual']))))\n",
    "PLT.subplot(223)\n",
    "PLT.plot(meuse_test['lead_predict'], meuse_test['lead'], '.')\n",
    "PLT.plot([0,700], [0,700], 'g--')\n",
    "PLT.title('Test: pred vs obs')\n",
    "PLT.xlabel('Predictions')\n",
    "PLT.ylabel('True value')\n",
    "PLT.ylim(0,700)\n",
    "PLT.xlim(0,700)\n",
    "PLT.subplot(224)\n",
    "meuse_test['residual'].hist()\n",
    "PLT.title('Hist test res\\nMedian absolute error: {:.1f}'.format(NP.median(NP.abs(meuse_test['residual']))))\n",
    "PLT.tight_layout()"
   ]
  },
  {
   "cell_type": "markdown",
   "metadata": {},
   "source": [
    "## 6. Generate raster data for visulization"
   ]
  },
  {
   "cell_type": "markdown",
   "metadata": {},
   "source": [
    "### 6.1. Input all data for ordinary kriging"
   ]
  },
  {
   "cell_type": "code",
   "execution_count": 12,
   "metadata": {},
   "outputs": [],
   "source": [
    "## step 1. varigoram\n",
    "var_muese = VARIOGRAM(100, model=variogram_spherical)\n",
    "var_muese.fit(gdf[['x', 'y']], gdf['lead'], fit_range=[0,1500])\n",
    "## step 2. ordinary kriging system\n",
    "ok_muese = ordinarykriging(var_muese)\n",
    "ok_muese.fit(gdf[['x', 'y']], gdf['lead'])"
   ]
  },
  {
   "cell_type": "markdown",
   "metadata": {},
   "source": [
    "### 6.2. Make grids in the interseted region"
   ]
  },
  {
   "cell_type": "code",
   "execution_count": 13,
   "metadata": {},
   "outputs": [],
   "source": [
    "buffer = 1000 # [m]\n",
    "cellsize = 50 # [m]\n",
    "xmin = gdf['x'].min() - buffer\n",
    "xmax = gdf['x'].max() + buffer\n",
    "ymin = gdf['y'].min() - buffer\n",
    "ymax = gdf['y'].max() + buffer\n",
    "# * Create 2D extent and grid\n",
    "## Grid is from top-left to bottom-right\n",
    "X, Y = NP.meshgrid( NP.arange(xmin, xmax+cellsize, cellsize),\n",
    "                    NP.arange(ymin, ymax+cellsize, cellsize))\n",
    "## set prediction location is in the central of grid\n",
    "xy = NP.concatenate(( X.flatten()[:, NP.newaxis] + cellsize/2,\n",
    "                      Y.flatten()[:, NP.newaxis] - cellsize/2),\n",
    "                      axis=1)"
   ]
  },
  {
   "cell_type": "markdown",
   "metadata": {},
   "source": [
    "### 6.3. Interpolate to the grids"
   ]
  },
  {
   "cell_type": "code",
   "execution_count": 14,
   "metadata": {},
   "outputs": [
    {
     "name": "stdout",
     "output_type": "stream",
     "text": [
      ">> Interpolating 11543 cells (97, 119)....\n"
     ]
    }
   ],
   "source": [
    "## Define variables\n",
    "xbins = X.shape[1]\n",
    "ybins = Y.shape[0]\n",
    "transform = from_origin(X.min(), Y.max(), cellsize, cellsize) # Set raster left-top's coordinates\n",
    "\n",
    "## Predict\n",
    "print(\">> Interpolating %d cells (%d, %d)....\"%(len(xy), xbins, ybins))\n",
    "lead_predict = ok_muese.predict(xy)\n",
    "#lead_predict = ok_muese.predict(xy, radius=var_muese.range, n_neighbor=7)\n",
    "#print(var_muese.range)"
   ]
  },
  {
   "cell_type": "markdown",
   "metadata": {},
   "source": [
    "### 6.4. Save to geotif file .tif with rasterio package"
   ]
  },
  {
   "cell_type": "code",
   "execution_count": 15,
   "metadata": {},
   "outputs": [],
   "source": [
    "z = lead_predict[0]\n",
    "raster = RAST.open('./data/meuse_prediction.tif', \n",
    "                   'w',\n",
    "                    driver='GTiff',\n",
    "                    height=ybins,\n",
    "                    width=xbins,\n",
    "                    count=1,\n",
    "                    dtype=z.dtype,\n",
    "                    crs='epsg:28992',\n",
    "                    transform=transform )\n",
    "raster.write(NP.flip(z.reshape(ybins,xbins), 0), 1)\n",
    "raster.close()"
   ]
  },
  {
   "cell_type": "code",
   "execution_count": 16,
   "metadata": {},
   "outputs": [],
   "source": [
    "error = lead_predict[1]\n",
    "raster = RAST.open('./data/meuse_prediction_error.tif', \n",
    "                   'w',\n",
    "                    driver='GTiff',\n",
    "                    height=ybins,\n",
    "                    width=xbins,\n",
    "                    count=1,\n",
    "                    dtype=error.dtype,\n",
    "                    crs='epsg:28992',\n",
    "                    transform=transform )\n",
    "raster.write(NP.flip(error.reshape(ybins,xbins), 0), 1)\n",
    "raster.close()"
   ]
  }
 ],
 "metadata": {
  "kernelspec": {
   "display_name": "Python 3",
   "language": "python",
   "name": "python3"
  },
  "language_info": {
   "codemirror_mode": {
    "name": "ipython",
    "version": 3
   },
   "file_extension": ".py",
   "mimetype": "text/x-python",
   "name": "python",
   "nbconvert_exporter": "python",
   "pygments_lexer": "ipython3",
   "version": "3.6.5"
  }
 },
 "nbformat": 4,
 "nbformat_minor": 2
}
