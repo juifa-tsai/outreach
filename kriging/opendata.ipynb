{
 "cells": [
  {
   "cell_type": "code",
   "execution_count": 13,
   "metadata": {},
   "outputs": [],
   "source": [
    "import pandas as PD\n",
    "import numpy as NP\n"
   ]
  },
  {
   "cell_type": "code",
   "execution_count": 71,
   "metadata": {},
   "outputs": [],
   "source": [
    "df_twsea = PD.read_csv('/Users/juifa.tsai/Downloads/WQXSea_20190908140502.csv')"
   ]
  },
  {
   "cell_type": "code",
   "execution_count": 78,
   "metadata": {},
   "outputs": [
    {
     "data": {
      "text/plain": [
       "Index(['SiteName', 'SiteEngName', 'SeaAreaName', 'TWD97Lon', 'TWD97Lat',\n",
       "       'TWD97TM2X', 'TWD97TM2Y', 'SampleDate', 'ItemName', 'ItemEngName',\n",
       "       'ItemEngAbbreviation', 'ItemValue', 'ItemUnit'],\n",
       "      dtype='object')"
      ]
     },
     "execution_count": 78,
     "metadata": {},
     "output_type": "execute_result"
    }
   ],
   "source": [
    "df_twsea.columns"
   ]
  },
  {
   "cell_type": "code",
   "execution_count": 83,
   "metadata": {},
   "outputs": [
    {
     "data": {
      "text/plain": [
       "SiteEngName\n",
       "4 nautical miles away from Dadu River mouth         191610.88\n",
       "4 nautical miles away from Danshuei River mouth     287371.16\n",
       "4 nautical miles away from Heping River mouth       334649.46\n",
       "4 nautical miles away from Jhuoshuei River mouth    166745.88\n",
       "4 nautical miles away from Keya River mouth         233079.07\n",
       "Badouzih Landfill                                   330826.46\n",
       "Beigang River mouth I                               161545.29\n",
       "Budai Port off shore I                              158822.30\n",
       "Da-an River mouth                                   207982.00\n",
       "Dadu River mouth                                    197010.41\n",
       "Dezihkou River mouth                                334107.15\n",
       "East coastal region of Beigan                       151931.40\n",
       "East coastal region of Kinmen                       196787.24\n",
       "Estuary of Yuanshanzih Weir                         335090.95\n",
       "Fongbin River mouth                                 304582.40\n",
       "Guanyin River mouth                                 256482.56\n",
       "Gueishan Island                                     345363.05\n",
       "Haihu Power Plant                                   275945.99\n",
       "Heping Island                                       327099.23\n",
       "Heping Port                                         328769.87\n",
       "Heping River mouth                                  329835.95\n",
       "Hualien Port                                        313589.08\n",
       "Hualien River mouth                                 312671.14\n",
       "Jhangbin coast I                                    192351.08\n",
       "Jhangbin coast II                                   189755.04\n",
       "Jhangbin coast III                                  187099.00\n",
       "Jhonggang River mouth I                             228764.71\n",
       "Jhonggang River mouth II                            231469.70\n",
       "Jhuoshuei River mouth I                             168986.07\n",
       "Jhuoshuei River mouth II                            166306.02\n",
       "                                                      ...    \n",
       "Lioucing coast II                                   165316.01\n",
       "Liwu River mouth                                    318087.12\n",
       "Matzu strait                                        344923.80\n",
       "Neuclear Plant IV                                   344728.05\n",
       "North coastal region of Nangan                      342435.13\n",
       "North shore of Fongshan River                       242904.46\n",
       "Off shore I of Bali Sewage Treatment Plant          286653.31\n",
       "Off shore I of Dongshih Port                        158874.03\n",
       "Off shore II of Bali Sewage Treatment Plant         290380.75\n",
       "Off shore II of Dongshih Port                       158324.06\n",
       "Off shore of Hongmao Port                           245531.96\n",
       "Off shore of Liandong River                         337152.58\n",
       "Off shore of Linkou Power Plant                     280934.43\n",
       "Off shore of Santiaolun                             154276.01\n",
       "Off shore of Shenao Power Plant                     334221.79\n",
       "Outside region of Kinmen's  Houjiang Bay            184338.76\n",
       "Sahlun I                                            269886.52\n",
       "Sahlun II                                           272128.69\n",
       "Shenao Power Plant                                  333604.10\n",
       "Sin Nan Kan River mouth                             274783.35\n",
       "Sincheng River mouth                                336737.08\n",
       "Siouguluan River mouth                              303739.02\n",
       "South shore of Toucian River mouth                  240618.47\n",
       "South side of Kimlie waterway                       177168.51\n",
       "Suao Port                                           339580.59\n",
       "Taijhong Port coast I                               198355.06\n",
       "Taijhong Port coast II                              194830.07\n",
       "Taisi off shore I                                   160081.39\n",
       "Tongsiao River mouth                                215456.09\n",
       "Tungyin  northern coast                             198062.58\n",
       "Name: TWD97TM2X, Length: 67, dtype: float64"
      ]
     },
     "execution_count": 83,
     "metadata": {},
     "output_type": "execute_result"
    }
   ],
   "source": [
    "df_twsea.groupby('SiteEngName')['TWD97TM2X'].max()"
   ]
  },
  {
   "cell_type": "code",
   "execution_count": 24,
   "metadata": {},
   "outputs": [],
   "source": [
    "import xml.etree.ElementTree as et \n",
    "\n",
    "xtree = et.parse(\"/Users/juifa.tsai/Downloads/cwms.xml\")\n",
    "xroot = xtree.getroot()"
   ]
  },
  {
   "cell_type": "code",
   "execution_count": 62,
   "metadata": {},
   "outputs": [],
   "source": [
    "size = len(xroot)\n",
    "data = {}\n",
    "for root in xroot[0]:\n",
    "    data[root.tag] = [None for _ in range(size)]"
   ]
  },
  {
   "cell_type": "code",
   "execution_count": 63,
   "metadata": {},
   "outputs": [],
   "source": [
    "for i, root in enumerate(xroot):\n",
    "    for row in root:\n",
    "        if row.text.find('---') >= 0: \n",
    "            continue\n",
    "        else:\n",
    "            data[row.tag][i] = row.text"
   ]
  },
  {
   "cell_type": "code",
   "execution_count": 64,
   "metadata": {},
   "outputs": [],
   "source": [
    "data = PD.DataFrame.from_dict(data)"
   ]
  },
  {
   "cell_type": "code",
   "execution_count": 70,
   "metadata": {},
   "outputs": [
    {
     "data": {
      "text/plain": [
       "DESP\n",
       "化學需氧量     11\n",
       "導電度      141\n",
       "懸浮固體      11\n",
       "氨氮         2\n",
       "氫離子濃度    144\n",
       "水溫       149\n",
       "水量        70\n",
       "Name: DESP, dtype: int64"
      ]
     },
     "execution_count": 70,
     "metadata": {},
     "output_type": "execute_result"
    }
   ],
   "source": [
    "data.groupby('DESP')['DESP'].count()"
   ]
  },
  {
   "cell_type": "code",
   "execution_count": 66,
   "metadata": {},
   "outputs": [
    {
     "data": {
      "text/plain": [
       "array(['導電度', '水量', '氫離子濃度', '水溫', '氨氮', '懸浮固體', '化學需氧量'], dtype=object)"
      ]
     },
     "execution_count": 66,
     "metadata": {},
     "output_type": "execute_result"
    }
   ],
   "source": [
    "data['DESP'].unique()"
   ]
  },
  {
   "cell_type": "code",
   "execution_count": null,
   "metadata": {},
   "outputs": [],
   "source": []
  },
  {
   "cell_type": "code",
   "execution_count": null,
   "metadata": {},
   "outputs": [],
   "source": []
  },
  {
   "cell_type": "code",
   "execution_count": 15,
   "metadata": {},
   "outputs": [],
   "source": [
    "df = PD.read_csv('/Users/juifa.tsai/Downloads/DataList.csv')"
   ]
  },
  {
   "cell_type": "code",
   "execution_count": 16,
   "metadata": {},
   "outputs": [
    {
     "data": {
      "text/plain": [
       "(1313, 7)"
      ]
     },
     "execution_count": 16,
     "metadata": {},
     "output_type": "execute_result"
    }
   ],
   "source": [
    "df.shape"
   ]
  },
  {
   "cell_type": "code",
   "execution_count": 17,
   "metadata": {},
   "outputs": [
    {
     "data": {
      "text/plain": [
       "Index(['序號', '資料集名稱', '分類', '資料提供單位', '資料集描述', '欄位名稱', 'Url'], dtype='object')"
      ]
     },
     "execution_count": 17,
     "metadata": {},
     "output_type": "execute_result"
    }
   ],
   "source": [
    "df.columns"
   ]
  },
  {
   "cell_type": "code",
   "execution_count": 19,
   "metadata": {},
   "outputs": [
    {
     "data": {
      "text/plain": [
       "array(['生活環境與其他', '大氣', '水,生態', '水', '水,地', '地', '生態', '地,生活環境與其他',\n",
       "       '污染防治', '林', '大氣,地,生活環境與其他', '大氣,生活環境與其他', '大氣,水', '大氣,地',\n",
       "       '水,地,生活環境與其他'], dtype=object)"
      ]
     },
     "execution_count": 19,
     "metadata": {},
     "output_type": "execute_result"
    }
   ],
   "source": [
    "df['分類'].unique()"
   ]
  },
  {
   "cell_type": "code",
   "execution_count": 84,
   "metadata": {},
   "outputs": [
    {
     "data": {
      "text/plain": [
       "['土石流警戒資料',\n",
       " '土砂觀測站影像資料',\n",
       " '土壤319公頃_一公頃一採樣點位置圖',\n",
       " '土壤319公頃_調查區一公頃範圍圖',\n",
       " '土壤及地下水污染場址列管概況',\n",
       " '土壤污染物監測及管制標準',\n",
       " '土壤污染管制區範圍圖',\n",
       " '大屯火山地區地溫觀測資料',\n",
       " '大型垃圾焚化廠操作營運情形',\n",
       " '山崩與地滑地質敏感區圖資',\n",
       " '公告事業廢棄物清運機具資料',\n",
       " '公告應回收廢物品及容器回收量',\n",
       " '全國一般廢棄物產生量',\n",
       " '全國一般廢棄物處理量',\n",
       " '全國砂土石產銷存動態統計表',\n",
       " '列管毒性化學物質毒理資料',\n",
       " '各縣(市)已公告地質敏感區之行政區目錄',\n",
       " '地質遺跡地質敏感區圖資',\n",
       " '地質鑽探點位資料',\n",
       " '地震的等震圖',\n",
       " '地震報告(圖片)',\n",
       " '地震報告詳細資料',\n",
       " '事業廢棄物申報統計',\n",
       " '垃圾掩埋場位置圖',\n",
       " '垃圾掩埋場復育場址位置圖',\n",
       " '垃圾掩埋場範圍圖',\n",
       " '岩屑崩滑分布圖',\n",
       " '底泥申報各類水體數量',\n",
       " '底泥申報單位數量',\n",
       " '底泥品質檢測資料',\n",
       " '流域綜合治理計畫－上游坡地水土保持及治山防洪範圍',\n",
       " '活動斷層分布圖',\n",
       " '活動斷層地質敏感區圖資',\n",
       " '活動斷層位置調查資料控制點',\n",
       " '重大土石災情報告',\n",
       " '重金屬污染農地管理及改善技術評析計畫                                ',\n",
       " '執行機關一般廢棄物產生量',\n",
       " '執行機關一般廢棄物處理量',\n",
       " '執行機關資源回收量',\n",
       " '雲林縣土壤定期監測結果',\n",
       " '順向坡分布圖',\n",
       " '經濟部中央地質調查所出版品目錄',\n",
       " '臺中市土壤及地下水污染控制場址',\n",
       " '臺中市土壤及地下水污染整治場址',\n",
       " '臺中市土壤監測資料',\n",
       " '臺北市市立焚化廠位置',\n",
       " '臺北市廢棄物處理場再生土領用方式及領據',\n",
       " '臺東縣土壤及地下水監測',\n",
       " '臺南市土壤及地下水污染控制場址',\n",
       " '臺南市土壤及地下水污染緊急應變場址',\n",
       " '臺南市土壤及地下水污染整治場址',\n",
       " '臺灣地體構造圖-不連續面',\n",
       " '臺灣地體構造圖-休止火山',\n",
       " '臺灣地體構造圖-地名',\n",
       " '臺灣地體構造圖-地體構造單元',\n",
       " '臺灣地體構造圖-地體構造單元界線',\n",
       " '臺灣地體構造圖-褶皺',\n",
       " '臺灣地體構造圖-斷層',\n",
       " '歷年土壤調查_環保署土壤重金屬含量調查(100公頃)',\n",
       " '歷年土壤調查_環保署土壤重金屬含量調查(1600公頃)',\n",
       " '歷年土壤調查_環保署土壤重金屬含量調查(1公頃)',\n",
       " '歷年土壤調查_環保署土壤重金屬含量調查(25公頃)',\n",
       " '歷年土壤調查_環保署土壤重金屬含量調查(319公頃)',\n",
       " '歷年土壤調查環保署農地調查計畫中部地區污染調查計畫',\n",
       " '歷年土壤調查環保署農地調查計畫桃園地區污染調查計畫',\n",
       " '歷年環保署農地_全國重金屬污染潛勢之管制及調查計畫',\n",
       " '歷年環保署農地全國重金屬污染潛勢管制及調查計畫2期',\n",
       " '歷年環保署農地營運中含鉛製程事業之土壤污染潛勢調查',\n",
       " '濱海公有掩埋場統計表',\n",
       " '營運中公有掩埋場掩埋場容量統計表',\n",
       " '環境地質資料－惡地圖資',\n",
       " '環境地質資料－落石圖資']"
      ]
     },
     "execution_count": 84,
     "metadata": {},
     "output_type": "execute_result"
    }
   ],
   "source": [
    "list(df[df['分類'].isin(['地'])]['資料集名稱'])"
   ]
  },
  {
   "cell_type": "code",
   "execution_count": 22,
   "metadata": {},
   "outputs": [
    {
     "data": {
      "text/plain": [
       "['二仁溪污染整治小組及再生願景聯繫會報',\n",
       " '土石流潛勢溪流',\n",
       " '土石流警戒資料',\n",
       " '土石違規採取案件區位資料',\n",
       " '土砂觀測站水位資料',\n",
       " '土砂觀測站流速資料',\n",
       " '土砂觀測站影像資料',\n",
       " '土壤319公頃_一公頃一採樣點位置圖',\n",
       " '土壤319公頃_調查區一公頃範圍圖',\n",
       " '土壤及地下水污染場址列管概況',\n",
       " '土壤及地下水污染場址位置圖',\n",
       " '土壤及地下水污染場址基本資料',\n",
       " '土壤及地下水污染管制區公告資料',\n",
       " '土壤污染物監測及管制標準',\n",
       " '土壤污染管制區範圍圖',\n",
       " '大屯火山地區地溫觀測資料',\n",
       " '大屯火山地區溫泉水質分析資料',\n",
       " '大屯火山地區溫泉水質連續觀測資料',\n",
       " '大型垃圾焚化廠操作營運情形',\n",
       " '山崩與地滑地質敏感區圖資',\n",
       " '工業區污水處理廠分布位置地理圖資',\n",
       " '已公告之飲用水水源水質保護區一覽表',\n",
       " '已公告之飲用水取水口一定距離一覽表',\n",
       " '公告事業廢棄物清運機具資料',\n",
       " '公告應回收廢物品及容器回收量',\n",
       " '水污染防治各項許可申請收費標準',\n",
       " '水污染源許可及申報資料',\n",
       " '水污染管制區範圍地理圖資',\n",
       " '水利事業歷史用地取得作業執行情形',\n",
       " '水庫水質監測站位置圖',\n",
       " '水庫水質監測資料',\n",
       " '水庫水質監測點基本資料',\n",
       " '水庫堰壩基本資料',\n",
       " '水源保育與回饋費徵收與執行成果',\n",
       " '水資源投資分析資料',\n",
       " '水質水量保護區基本資料',\n",
       " '主要水庫優養指數',\n",
       " '包裝及盛裝飲用水水源水質抽驗結果',\n",
       " '包裝及盛裝飲用水水源水質抽驗資料',\n",
       " '台灣周邊海域葉綠素甲平均濃度',\n",
       " '全國一般廢棄物產生量',\n",
       " '全國一般廢棄物處理量',\n",
       " '全國土壤及地下水污染場址筆數及面積統計                               ',\n",
       " '全國工業區年度備查案件狀態統計表',\n",
       " '全國年度例行性計畫成果統計表 （摘要）',\n",
       " '全國年度例行性計畫成果統計表（詳情）',\n",
       " '全國砂土石產銷存動態統計表',\n",
       " '全國場址公告與解列情形統計表',\n",
       " '全國場址目前改善與整治進度',\n",
       " '全國場址更新率統計報表',\n",
       " '全國場址新增列管及解列統計表',\n",
       " '全國飲用水水源水質保護區範圍圖',\n",
       " '全臺溫泉點位',\n",
       " '列管工業區下水道名單',\n",
       " '列管公共污水下水道名單',\n",
       " '列管社區下水道名單',\n",
       " '列管毒性化學物質毒理資料',\n",
       " '各月份場址更新率統計報表',\n",
       " '各縣(市)已公告地質敏感區之行政區目錄',\n",
       " '地下水污染物監測及管制標準',\n",
       " '地下水污染管制區',\n",
       " '地下水補注地質敏感區圖資',\n",
       " '地面水體分類及水質標準',\n",
       " '地質遺跡地質敏感區圖資',\n",
       " '地質鑽探點位資料',\n",
       " '地震的等震圖',\n",
       " '地震報告(圖片)',\n",
       " '地震報告詳細資料',\n",
       " '安定區域性聯合滲出水集中處理廠放流水檢測報告',\n",
       " '有害健康物質之種類',\n",
       " '污水經處理後注入地下水體水質標準',\n",
       " '自來水水質抽驗結果(依件數)',\n",
       " '自來水水質抽驗結果(依項目)',\n",
       " '自來水水質抽驗檢驗結果',\n",
       " '自來水生活用水量統計',\n",
       " '自來水供水普及率',\n",
       " '行政院環保署及地方政府「水區、水體分類」公告說明表',\n",
       " '即時海水水位',\n",
       " '巡守隊明細資料',\n",
       " '事業廢棄物申報統計',\n",
       " '垃圾掩埋場位置圖',\n",
       " '垃圾掩埋場復育場址位置圖',\n",
       " '垃圾掩埋場範圍圖',\n",
       " '宜蘭縣土壤採樣計畫採樣次數資料',\n",
       " '宜蘭縣水量水質自動監測連線傳輸監測紀錄值即時資料集',\n",
       " '宜蘭縣水質監測站基本資料',\n",
       " '宜蘭縣自來水水質監測與指標資料',\n",
       " '宜蘭縣自辦海域水質監測結果',\n",
       " '宜蘭縣自辦港口水質監測結果',\n",
       " '宜蘭縣垃圾衛生掩埋場地下水監測井位置資料',\n",
       " '宜蘭縣垃圾衛生掩埋場地下水監測基準值',\n",
       " '宜蘭縣垃圾衛生掩埋場歷年地下水監測結果',\n",
       " '宜蘭縣海域水質監測標準值',\n",
       " '宜蘭縣區域性地下水監測井基本資料',\n",
       " '宜蘭縣場置性地下水監測井基本資料',\n",
       " '宜蘭縣港口水質監測標準值',\n",
       " '岩屑崩滑分布圖',\n",
       " '底泥申報各類水體數量',\n",
       " '底泥申報單位數量',\n",
       " '底泥品質檢測資料',\n",
       " '河川水質季監測資料',\n",
       " '河川水質測點基本資料(含地理圖資)',\n",
       " '河川水質監測站位置圖',\n",
       " '河川水質監測資料',\n",
       " '河川巡守路線地理圖資',\n",
       " '沼液沼渣農地肥分使用計畫',\n",
       " '花蓮縣水量水質自動監測連線傳輸監測紀錄值即時資料集',\n",
       " '金門縣水量水質自動監測連線傳輸監測紀錄值即時資料集',\n",
       " '阿公店溪及愛河環境優化願景聯繫會報',\n",
       " '南投縣水量水質自動監測連線傳輸監測紀錄值即時資料集',\n",
       " '屏東縣水量水質自動監測連線傳輸監測紀錄值即時資料集',\n",
       " '流域綜合治理計畫－上游坡地水土保持及治山防洪範圍',\n",
       " '活動斷層分布圖',\n",
       " '活動斷層地質敏感區圖資',\n",
       " '活動斷層位置調查資料控制點',\n",
       " '苗栗縣水量水質自動監測連線傳輸監測紀錄值即時資料集',\n",
       " '重大土石災情報告',\n",
       " '重金屬污染農地管理及改善技術評析計畫                                ',\n",
       " '重要河川水質概況',\n",
       " '降雨逕流非點源污染最佳管理技術(BMPs)指引',\n",
       " '桃園市水量水質自動監測連線傳輸監測紀錄值即時資料集',\n",
       " '桃園市河川水質監測資料',\n",
       " '桃園市飲用水水質監測資料',\n",
       " '海洋保護區面積',\n",
       " '海域水質監測站位置圖',\n",
       " '海域水質監測資料',\n",
       " '海域水質監測點基本資料',\n",
       " '海灘水質監測站位置圖',\n",
       " '海灘夏季水質監測資料',\n",
       " '高雄市水量水質自動監測連線傳輸監測紀錄值即時資料集',\n",
       " '高雄市地面水體監測站設置位置',\n",
       " '高雄市地面水體監測站監測資料',\n",
       " '區域性地下水水質測站位置圖',\n",
       " '區域性地下水水質監測井基本資料',\n",
       " '區域性地下水水質監測資料',\n",
       " '基隆市水量水質自動監測連線傳輸監測紀錄值即時資料集',\n",
       " '執行機關一般廢棄物產生量',\n",
       " '執行機關一般廢棄物處理量',\n",
       " '執行機關資源回收量',\n",
       " '推動水污染總量管制作業規定',\n",
       " '淡水河系水環境優化願景聯繫會報委員會議',\n",
       " '現有海水淡化廠概況',\n",
       " '疏濬點位資料',\n",
       " '連江縣水量水質自動監測連線傳輸監測紀錄值即時資料集',\n",
       " '場址列管公文',\n",
       " '場址勘查紀錄表',\n",
       " '發佈警戒土石流潛勢溪流基本資料',\n",
       " '雲林縣土壤定期監測結果',\n",
       " '雲林縣水量水質自動監測連線傳輸監測紀錄值即時資料集',\n",
       " '雲林縣垃圾掩埋場地下水檢測報告',\n",
       " '雲林縣海洋水質監測資料',\n",
       " '順向坡分布圖',\n",
       " '新北市水量水質自動監測連線傳輸監測紀錄值即時資料集',\n",
       " '新竹市水量水質自動監測連線傳輸監測紀錄值即時資料集',\n",
       " '新竹縣水量水質自動監測連線傳輸監測紀錄值即時資料集',\n",
       " '經濟部中央地質調查所出版品目錄',\n",
       " '嘉義縣水量水質自動監測連線傳輸監測紀錄值即時資料集',\n",
       " '彰化縣水量水質自動監測連線傳輸監測紀錄值即時資料集',\n",
       " '彰化縣水質淨化設施資訊',\n",
       " '彰化縣地下水監測井基本資料',\n",
       " '彰化縣較難水質檢測資訊',\n",
       " '管制事業、下水道系統下水道查核、處分資料資訊平台',\n",
       " '管制事業下水道系統環工技師專責人員證號資料資訊平台',\n",
       " '臺中市土壤及地下水污染控制場址',\n",
       " '臺中市土壤及地下水污染整治場址',\n",
       " '臺中市土壤監測資料',\n",
       " '臺中市水量水質自動監測連線傳輸監測紀錄值即時資料集',\n",
       " '臺中市水塔蓄水池合格之業者',\n",
       " '臺中市海域環境品質資訊',\n",
       " '臺中市飲用水檢驗測定機構',\n",
       " '臺北市土壤及地下水污染控制場址                                   ',\n",
       " '臺北市公共場所飲水機資訊',\n",
       " '臺北市水量水質自動監測連線傳輸監測紀錄值即時資料集',\n",
       " '臺北市水質監測站基本資料',\n",
       " '臺北市市立焚化廠位置',\n",
       " '臺北市地下水監測結果',\n",
       " '臺北市垃圾掩埋場污水廠水質檢測報告',\n",
       " '臺北市河川水質',\n",
       " '臺北市河川水質檢測結果',\n",
       " '臺北市非包裝飲用水檢驗收費標準',\n",
       " '臺北市病媒防治業者名單',\n",
       " '臺北市飲用水水質檢驗資料',\n",
       " '臺北市飲用水檢驗測定機構',\n",
       " '臺北市廢棄物處理場再生土領用方式及領據',\n",
       " '臺北市環保局操作維護之水質淨化設施資料',\n",
       " '臺東縣土壤及地下水監測',\n",
       " '臺東縣水量水質自動監測連線傳輸監測紀錄值即時資料集',\n",
       " '臺東縣飲用水水質監測',\n",
       " '臺南市土壤及地下水污染控制場址',\n",
       " '臺南市土壤及地下水污染緊急應變場址',\n",
       " '臺南市土壤及地下水污染整治場址',\n",
       " '臺南市水量水質自動監測連線傳輸監測紀錄值即時資料集',\n",
       " '臺南市河川水質監測資料',\n",
       " '臺南市非包裝飲用水檢驗收費標準',\n",
       " '臺南市城西垃圾掩埋場滲出水廠放流水檢測報告',\n",
       " '臺南市海洋水質監測資料',\n",
       " '臺南市飲用水水質檢驗資料',\n",
       " '臺南市環保局操作維護之水質淨化設施資料',\n",
       " '臺灣地體構造圖-不連續面',\n",
       " '臺灣地體構造圖-休止火山',\n",
       " '臺灣地體構造圖-地名',\n",
       " '臺灣地體構造圖-地體構造單元',\n",
       " '臺灣地體構造圖-地體構造單元界線',\n",
       " '臺灣地體構造圖-褶皺',\n",
       " '臺灣地體構造圖-斷層',\n",
       " '臺灣周邊海域溫鹽分布',\n",
       " '審核事業或污水下水道系統放流水水質濃度限值處理原則',\n",
       " '模場試驗專案期末報告電子檔',\n",
       " '澎湖縣水量水質自動監測連線傳輸監測紀錄值即時資料集',\n",
       " '獎勵民眾檢舉違反水污染防治法案件指導原則',\n",
       " '調查作業執行進度管考統計表',\n",
       " '歷年土石流潛勢溪流影響範圍圖TWD67',\n",
       " '歷年土壤調查_環保署土壤重金屬含量調查(100公頃)',\n",
       " '歷年土壤調查_環保署土壤重金屬含量調查(1600公頃)',\n",
       " '歷年土壤調查_環保署土壤重金屬含量調查(1公頃)',\n",
       " '歷年土壤調查_環保署土壤重金屬含量調查(25公頃)',\n",
       " '歷年土壤調查_環保署土壤重金屬含量調查(319公頃)',\n",
       " '歷年土壤調查環保署農地調查計畫中部地區污染調查計畫',\n",
       " '歷年土壤調查環保署農地調查計畫桃園地區污染調查計畫',\n",
       " '歷年燈號變換情形',\n",
       " '歷年環保署農地_全國重金屬污染潛勢之管制及調查計畫',\n",
       " '歷年環保署農地全國重金屬污染潛勢管制及調查計畫2期',\n",
       " '歷年環保署農地營運中含鉛製程事業之土壤污染潛勢調查',\n",
       " '濱海公有掩埋場統計表',\n",
       " '營運中公有掩埋場掩埋場容量統計表',\n",
       " '環保署補助地方政府設置完成之現地處理設施',\n",
       " '環境地質資料－惡地圖資',\n",
       " '環境地質資料－落石圖資',\n",
       " '驗證作業執行進度管考統計表',\n",
       " '鹽水溪污染整治小組及再生願景聯繫會報']"
      ]
     },
     "execution_count": 22,
     "metadata": {},
     "output_type": "execute_result"
    }
   ],
   "source": [
    "list(df[df['分類'].isin(['水', '水,地', '地'])]['資料集名稱'])"
   ]
  },
  {
   "cell_type": "code",
   "execution_count": 12,
   "metadata": {},
   "outputs": [
    {
     "ename": "TypeError",
     "evalue": "read() did not return a bytes object (type=str)",
     "output_type": "error",
     "traceback": [
      "\u001b[0;31m---------------------------------------------------------------------------\u001b[0m",
      "\u001b[0;31mTypeError\u001b[0m                                 Traceback (most recent call last)",
      "\u001b[0;32m<ipython-input-12-3636b89725b8>\u001b[0m in \u001b[0;36m<module>\u001b[0;34m\u001b[0m\n\u001b[1;32m      1\u001b[0m \u001b[0mfilename\u001b[0m\u001b[0;34m=\u001b[0m\u001b[0;34m'/Users/juifa.tsai/Downloads/data.kml'\u001b[0m\u001b[0;34m\u001b[0m\u001b[0m\n\u001b[1;32m      2\u001b[0m \u001b[0;32mwith\u001b[0m \u001b[0mopen\u001b[0m\u001b[0;34m(\u001b[0m\u001b[0mfilename\u001b[0m\u001b[0;34m)\u001b[0m \u001b[0;32mas\u001b[0m \u001b[0mf\u001b[0m\u001b[0;34m:\u001b[0m\u001b[0;34m\u001b[0m\u001b[0m\n\u001b[0;32m----> 3\u001b[0;31m     \u001b[0mkml_dict\u001b[0m \u001b[0;34m=\u001b[0m \u001b[0mxmltodict\u001b[0m\u001b[0;34m.\u001b[0m\u001b[0mparse\u001b[0m\u001b[0;34m(\u001b[0m\u001b[0mf\u001b[0m\u001b[0;34m)\u001b[0m\u001b[0;34m\u001b[0m\u001b[0m\n\u001b[0m\u001b[1;32m      4\u001b[0m     \u001b[0;31m#print(parser.parse(f).getroot().Document.Folder)\u001b[0m\u001b[0;34m\u001b[0m\u001b[0;34m\u001b[0m\u001b[0m\n\u001b[1;32m      5\u001b[0m     \u001b[0;31m#folder = parser.parse(f).getroot().Document.Folder\u001b[0m\u001b[0;34m\u001b[0m\u001b[0;34m\u001b[0m\u001b[0m\n",
      "\u001b[0;32m/Library/Frameworks/Python.framework/Versions/3.6/lib/python3.6/site-packages/xmltodict.py\u001b[0m in \u001b[0;36mparse\u001b[0;34m(xml_input, encoding, expat, process_namespaces, namespace_separator, disable_entities, **kwargs)\u001b[0m\n\u001b[1;32m    323\u001b[0m             \u001b[0mparser\u001b[0m\u001b[0;34m.\u001b[0m\u001b[0mExternalEntityRefHandler\u001b[0m \u001b[0;34m=\u001b[0m \u001b[0;32mlambda\u001b[0m \u001b[0;34m*\u001b[0m\u001b[0mx\u001b[0m\u001b[0;34m:\u001b[0m \u001b[0;36m1\u001b[0m\u001b[0;34m\u001b[0m\u001b[0m\n\u001b[1;32m    324\u001b[0m     \u001b[0;32mif\u001b[0m \u001b[0mhasattr\u001b[0m\u001b[0;34m(\u001b[0m\u001b[0mxml_input\u001b[0m\u001b[0;34m,\u001b[0m \u001b[0;34m'read'\u001b[0m\u001b[0;34m)\u001b[0m\u001b[0;34m:\u001b[0m\u001b[0;34m\u001b[0m\u001b[0m\n\u001b[0;32m--> 325\u001b[0;31m         \u001b[0mparser\u001b[0m\u001b[0;34m.\u001b[0m\u001b[0mParseFile\u001b[0m\u001b[0;34m(\u001b[0m\u001b[0mxml_input\u001b[0m\u001b[0;34m)\u001b[0m\u001b[0;34m\u001b[0m\u001b[0m\n\u001b[0m\u001b[1;32m    326\u001b[0m     \u001b[0;32melse\u001b[0m\u001b[0;34m:\u001b[0m\u001b[0;34m\u001b[0m\u001b[0m\n\u001b[1;32m    327\u001b[0m         \u001b[0mparser\u001b[0m\u001b[0;34m.\u001b[0m\u001b[0mParse\u001b[0m\u001b[0;34m(\u001b[0m\u001b[0mxml_input\u001b[0m\u001b[0;34m,\u001b[0m \u001b[0;32mTrue\u001b[0m\u001b[0;34m)\u001b[0m\u001b[0;34m\u001b[0m\u001b[0m\n",
      "\u001b[0;31mTypeError\u001b[0m: read() did not return a bytes object (type=str)"
     ]
    }
   ],
   "source": [
    "filename='/Users/juifa.tsai/Downloads/data.kml'\n",
    "with open(filename) as f:\n",
    "    kml_dict = xmltodict.parse(f)\n",
    "    #print(parser.parse(f).getroot().Document.Folder)\n",
    "    #folder = parser.parse(f).getroot().Document.Folder"
   ]
  },
  {
   "cell_type": "code",
   "execution_count": 6,
   "metadata": {},
   "outputs": [
    {
     "ename": "AttributeError",
     "evalue": "no such child: {http://www.opengis.net/kml/2.2}Folder",
     "output_type": "error",
     "traceback": [
      "\u001b[0;31m---------------------------------------------------------------------------\u001b[0m",
      "\u001b[0;31mAttributeError\u001b[0m                            Traceback (most recent call last)",
      "\u001b[0;32m<ipython-input-6-9fe8ab5d7c8f>\u001b[0m in \u001b[0;36m<module>\u001b[0;34m\u001b[0m\n\u001b[1;32m      1\u001b[0m \u001b[0mfilename\u001b[0m\u001b[0;34m=\u001b[0m\u001b[0;34m'/Users/juifa.tsai/Downloads/data.kml'\u001b[0m\u001b[0;34m\u001b[0m\u001b[0m\n\u001b[1;32m      2\u001b[0m \u001b[0;32mwith\u001b[0m \u001b[0mopen\u001b[0m\u001b[0;34m(\u001b[0m\u001b[0mfilename\u001b[0m\u001b[0;34m)\u001b[0m \u001b[0;32mas\u001b[0m \u001b[0mf\u001b[0m\u001b[0;34m:\u001b[0m\u001b[0;34m\u001b[0m\u001b[0m\n\u001b[0;32m----> 3\u001b[0;31m     \u001b[0mfolder\u001b[0m \u001b[0;34m=\u001b[0m \u001b[0mparser\u001b[0m\u001b[0;34m.\u001b[0m\u001b[0mparse\u001b[0m\u001b[0;34m(\u001b[0m\u001b[0mf\u001b[0m\u001b[0;34m)\u001b[0m\u001b[0;34m.\u001b[0m\u001b[0mgetroot\u001b[0m\u001b[0;34m(\u001b[0m\u001b[0;34m)\u001b[0m\u001b[0;34m.\u001b[0m\u001b[0mDocument\u001b[0m\u001b[0;34m.\u001b[0m\u001b[0mFolder\u001b[0m\u001b[0;34m\u001b[0m\u001b[0m\n\u001b[0m\u001b[1;32m      4\u001b[0m \u001b[0;34m\u001b[0m\u001b[0m\n\u001b[1;32m      5\u001b[0m \u001b[0mplnm\u001b[0m\u001b[0;34m=\u001b[0m\u001b[0;34m[\u001b[0m\u001b[0;34m]\u001b[0m\u001b[0;34m\u001b[0m\u001b[0m\n",
      "\u001b[0;32msrc/lxml/objectify.pyx\u001b[0m in \u001b[0;36mlxml.objectify.ObjectifiedElement.__getattr__\u001b[0;34m()\u001b[0m\n",
      "\u001b[0;32msrc/lxml/objectify.pyx\u001b[0m in \u001b[0;36mlxml.objectify._lookupChildOrRaise\u001b[0;34m()\u001b[0m\n",
      "\u001b[0;31mAttributeError\u001b[0m: no such child: {http://www.opengis.net/kml/2.2}Folder"
     ]
    }
   ],
   "source": [
    "plnm=[]\n",
    "cordi=[]\n",
    "for pm in folder.Placemark:\n",
    "    plnm1=pm.name\n",
    "    plcs1=pm.Point.coordinates\n",
    "    plnm.append(plnm1.text)\n",
    "    cordi.append(plcs1.text)\n",
    "    \n",
    "db=pd.DataFrame()\n",
    "db['place_name']=plnm\n",
    "db['cordinates']=cordi\n",
    "\n",
    "def dump(obj):\n",
    "    for attr in dir(obj):\n",
    "        if hasattr( obj, attr ):\n",
    "            print( \"obj.%s = %s\" % (attr, getattr(obj, attr)))\n",
    "#the kml output plnm1 and plcs1 are objects actually which can be viewed using the dump function from [SO](https://blender.stackexchange.com/questions/1879/is-it-possible-to-dump-an-objects-properties-and-methods)\n",
    "\n",
    "db['Longitude'], db['Latitude'],db['value'] = zip(*db['cordinates'].apply(lambda x: x.split(',', 2)))"
   ]
  },
  {
   "cell_type": "code",
   "execution_count": null,
   "metadata": {},
   "outputs": [],
   "source": []
  }
 ],
 "metadata": {
  "kernelspec": {
   "display_name": "Python 3",
   "language": "python",
   "name": "python3"
  },
  "language_info": {
   "codemirror_mode": {
    "name": "ipython",
    "version": 3
   },
   "file_extension": ".py",
   "mimetype": "text/x-python",
   "name": "python",
   "nbconvert_exporter": "python",
   "pygments_lexer": "ipython3",
   "version": "3.6.5"
  }
 },
 "nbformat": 4,
 "nbformat_minor": 2
}
