{
 "cells": [
  {
   "cell_type": "markdown",
   "metadata": {},
   "source": [
    "# Make your variogram object"
   ]
  },
  {
   "cell_type": "code",
   "execution_count": 1,
   "metadata": {},
   "outputs": [],
   "source": [
    "import pandas as PD\n",
    "import geopandas as GPD\n",
    "import numpy as NP\n",
    "import matplotlib.pyplot as PLT\n",
    "from tqdm import tqdm as TQDM\n",
    "from scipy.spatial.distance import cdist\n",
    "from scipy.optimize import least_squares"
   ]
  },
  {
   "cell_type": "markdown",
   "metadata": {},
   "source": [
    "## 1. Define variogram functions"
   ]
  },
  {
   "cell_type": "code",
   "execution_count": 2,
   "metadata": {},
   "outputs": [],
   "source": [
    "class variogram(object):\n",
    "    \"\"\"\n",
    "    Variogram estimator \n",
    "    \"\"\"\n",
    "    def __init__(self, lag, model=None):\n",
    "        \"\"\"\n",
    "        Initialization model parameters\n",
    "        [Input]\n",
    "            lag     : float, width of bin of binned variogram PDF\n",
    "            model   : callable, PDF of variogram for fitting\n",
    "        \"\"\"\n",
    "        ## Local parameters ##\n",
    "        self.model = model\n",
    "        self.lag = lag\n",
    "\n",
    "        ## Local variables ##\n",
    "        # lag edges\n",
    "        self.lags_edge = []\n",
    "        # sum of distance in lag range\n",
    "        self.lags_d = []\n",
    "        # number of pair in lag range \n",
    "        self.lags_n = []\n",
    "        # sum of variance in lag range\n",
    "        self.lags_v = []\n",
    "        # number of fills in lag range\n",
    "        self.nfills = []\n",
    "        # fitted parameters of variogram model\n",
    "        self.fitted_parms = None\n",
    "    \n",
    "    ## Callable variables ##\n",
    "    @property\n",
    "    def sill(self):\n",
    "        return self.fitted_parms[0] + self.fitted_parms[2] if self.fitted_parms is not None else None\n",
    "\n",
    "    @property\n",
    "    def range(self):\n",
    "        return self.fitted_parms[1] if self.fitted_parms is not None else None\n",
    "\n",
    "    @property\n",
    "    def nugget(self):\n",
    "        return self.fitted_parms[2] if self.fitted_parms is not None else None\n",
    "\n",
    "    @property\n",
    "    def semivariograms(self):\n",
    "        return NP.divide(self.lags_v, self.lags_n, out=NP.zeros_like(self.lags_v), where=NP.array(self.lags_n)!=0)\n",
    "\n",
    "    @property\n",
    "    def lags(self):\n",
    "        lags = NP.divide(self.lags_d, self.lags_n, out=NP.zeros_like(self.lags_d), where=NP.array(self.lags_n)!=0)\n",
    "        msk = (lags == 0)\n",
    "        lags[msk] = NP.array(self.lags_edge)[msk]\n",
    "        return lags\n",
    "    \n",
    "    ## Functions ##\n",
    "    ## predict\n",
    "    def predict(self, X):\n",
    "        return self.model(X, self.fitted_parms) \n",
    "    \n",
    "    ## Fitting fuctions ##\n",
    "    def fit(self, X, y, x0=None, bounds=None, fit_range=None, loss='soft_l1', batch_size=100, metric='euclidean'):\n",
    "        return fit(self, X, y, x0=x0, bounds=bounds, fit_range=fit_range, loss=loss, batch_size=batch_size, metric=metric)\n",
    "    \n",
    "    def calculate(self, X, y, batch_size=100, metric='euclidean'):\n",
    "        return calculate(self, X, y, batch_size=batch_size, metric=metric)\n",
    "    \n",
    "    def update_fit(self, x0=None, bounds=None, fit_range=None, loss='soft_l1'):\n",
    "        return update_fit(self, x0=x0, bounds=bounds, fit_range=fit_range, loss=loss)\n",
    "        \n",
    "    def initial_fitparams(self, x0=None, bounds=None):\n",
    "        return initial_fitparams(self, x0=x0, bounds=bounds)\n",
    "    \n",
    "    def _cost(self, params):\n",
    "        return _cost(self, params)\n",
    "        \n",
    "        \n",
    "    ## Display functions ##\n",
    "    def summary(self):\n",
    "        return summary(self)\n",
    "    \n",
    "    def plot(self):\n",
    "        return plot(self)"
   ]
  },
  {
   "cell_type": "markdown",
   "metadata": {},
   "source": [
    "## 2. Load Rive Meuse data"
   ]
  },
  {
   "cell_type": "code",
   "execution_count": 3,
   "metadata": {},
   "outputs": [
    {
     "data": {
      "text/html": [
       "<div>\n",
       "<style scoped>\n",
       "    .dataframe tbody tr th:only-of-type {\n",
       "        vertical-align: middle;\n",
       "    }\n",
       "\n",
       "    .dataframe tbody tr th {\n",
       "        vertical-align: top;\n",
       "    }\n",
       "\n",
       "    .dataframe thead th {\n",
       "        text-align: right;\n",
       "    }\n",
       "</style>\n",
       "<table border=\"1\" class=\"dataframe\">\n",
       "  <thead>\n",
       "    <tr style=\"text-align: right;\">\n",
       "      <th></th>\n",
       "      <th>cadmium</th>\n",
       "      <th>copper</th>\n",
       "      <th>lead</th>\n",
       "      <th>zinc</th>\n",
       "      <th>elev</th>\n",
       "      <th>dist</th>\n",
       "      <th>om</th>\n",
       "      <th>ffreq</th>\n",
       "      <th>soil</th>\n",
       "      <th>lime</th>\n",
       "      <th>landuse</th>\n",
       "      <th>dist.m</th>\n",
       "      <th>x</th>\n",
       "      <th>y</th>\n",
       "      <th>geometry</th>\n",
       "    </tr>\n",
       "  </thead>\n",
       "  <tbody>\n",
       "    <tr>\n",
       "      <th>0</th>\n",
       "      <td>11.7</td>\n",
       "      <td>85.0</td>\n",
       "      <td>299.0</td>\n",
       "      <td>1022.0</td>\n",
       "      <td>7.909</td>\n",
       "      <td>0.001358</td>\n",
       "      <td>13.6</td>\n",
       "      <td>1</td>\n",
       "      <td>1</td>\n",
       "      <td>1</td>\n",
       "      <td>Ah</td>\n",
       "      <td>50.0</td>\n",
       "      <td>181072.0</td>\n",
       "      <td>333611.0</td>\n",
       "      <td>POINT (5.758536241675762 50.99156215667816)</td>\n",
       "    </tr>\n",
       "    <tr>\n",
       "      <th>1</th>\n",
       "      <td>8.6</td>\n",
       "      <td>81.0</td>\n",
       "      <td>277.0</td>\n",
       "      <td>1141.0</td>\n",
       "      <td>6.983</td>\n",
       "      <td>0.012224</td>\n",
       "      <td>14.0</td>\n",
       "      <td>1</td>\n",
       "      <td>1</td>\n",
       "      <td>1</td>\n",
       "      <td>Ah</td>\n",
       "      <td>30.0</td>\n",
       "      <td>181025.0</td>\n",
       "      <td>333558.0</td>\n",
       "      <td>POINT (5.757863018200728 50.99108790288359)</td>\n",
       "    </tr>\n",
       "    <tr>\n",
       "      <th>2</th>\n",
       "      <td>6.5</td>\n",
       "      <td>68.0</td>\n",
       "      <td>199.0</td>\n",
       "      <td>640.0</td>\n",
       "      <td>7.800</td>\n",
       "      <td>0.103029</td>\n",
       "      <td>13.0</td>\n",
       "      <td>1</td>\n",
       "      <td>1</td>\n",
       "      <td>1</td>\n",
       "      <td>Ah</td>\n",
       "      <td>150.0</td>\n",
       "      <td>181165.0</td>\n",
       "      <td>333537.0</td>\n",
       "      <td>POINT (5.759855417830628 50.99089274333686)</td>\n",
       "    </tr>\n",
       "    <tr>\n",
       "      <th>3</th>\n",
       "      <td>2.6</td>\n",
       "      <td>81.0</td>\n",
       "      <td>116.0</td>\n",
       "      <td>257.0</td>\n",
       "      <td>7.655</td>\n",
       "      <td>0.190094</td>\n",
       "      <td>8.0</td>\n",
       "      <td>1</td>\n",
       "      <td>2</td>\n",
       "      <td>0</td>\n",
       "      <td>Ga</td>\n",
       "      <td>270.0</td>\n",
       "      <td>181298.0</td>\n",
       "      <td>333484.0</td>\n",
       "      <td>POINT (5.761745770023087 50.99041023559325)</td>\n",
       "    </tr>\n",
       "    <tr>\n",
       "      <th>4</th>\n",
       "      <td>2.8</td>\n",
       "      <td>48.0</td>\n",
       "      <td>117.0</td>\n",
       "      <td>269.0</td>\n",
       "      <td>7.480</td>\n",
       "      <td>0.277090</td>\n",
       "      <td>8.7</td>\n",
       "      <td>1</td>\n",
       "      <td>2</td>\n",
       "      <td>0</td>\n",
       "      <td>Ah</td>\n",
       "      <td>380.0</td>\n",
       "      <td>181307.0</td>\n",
       "      <td>333330.0</td>\n",
       "      <td>POINT (5.761862707698853 50.98902557091748)</td>\n",
       "    </tr>\n",
       "  </tbody>\n",
       "</table>\n",
       "</div>"
      ],
      "text/plain": [
       "   cadmium  copper   lead    zinc   elev      dist    om ffreq soil lime  \\\n",
       "0     11.7    85.0  299.0  1022.0  7.909  0.001358  13.6     1    1    1   \n",
       "1      8.6    81.0  277.0  1141.0  6.983  0.012224  14.0     1    1    1   \n",
       "2      6.5    68.0  199.0   640.0  7.800  0.103029  13.0     1    1    1   \n",
       "3      2.6    81.0  116.0   257.0  7.655  0.190094   8.0     1    2    0   \n",
       "4      2.8    48.0  117.0   269.0  7.480  0.277090   8.7     1    2    0   \n",
       "\n",
       "  landuse  dist.m         x         y  \\\n",
       "0      Ah    50.0  181072.0  333611.0   \n",
       "1      Ah    30.0  181025.0  333558.0   \n",
       "2      Ah   150.0  181165.0  333537.0   \n",
       "3      Ga   270.0  181298.0  333484.0   \n",
       "4      Ah   380.0  181307.0  333330.0   \n",
       "\n",
       "                                      geometry  \n",
       "0  POINT (5.758536241675762 50.99156215667816)  \n",
       "1  POINT (5.757863018200728 50.99108790288359)  \n",
       "2  POINT (5.759855417830628 50.99089274333686)  \n",
       "3  POINT (5.761745770023087 50.99041023559325)  \n",
       "4  POINT (5.761862707698853 50.98902557091748)  "
      ]
     },
     "execution_count": 3,
     "metadata": {},
     "output_type": "execute_result"
    }
   ],
   "source": [
    "gdf = GPD.read_file('./data/muese.shp')\n",
    "gdf.head()"
   ]
  },
  {
   "cell_type": "markdown",
   "metadata": {},
   "source": [
    "## 3. Calculate variogram with input 'x', 'y' and 'lead'"
   ]
  },
  {
   "cell_type": "markdown",
   "metadata": {},
   "source": [
    "Defination of variogram is as\n",
    "\n",
    "$$ \n",
    "V(\\mathbf{d})=\\frac{1}{N(\\mathbf{d})}\\sum_{\\substack{\\mathbf{s}_j = \\mathbf{s}_i + \\mathbf{d} \\\\ i\\neq j}}(z(\\mathbf{s}_i)-z(\\mathbf{s}_j))^2 \n",
    "$$\n",
    "\n",
    "Since $(z(\\mathbf{s}_i)-z(\\mathbf{s}_j))$ = $(z(\\mathbf{s}_j)-z(\\mathbf{s}_i))$, the semivariogram $\\gamma(\\mathbf{d}) = V(\\mathbf{d})/2$ is to avoid the dobule count."
   ]
  },
  {
   "cell_type": "code",
   "execution_count": 4,
   "metadata": {},
   "outputs": [],
   "source": [
    "def calculate(self, X, y, batch_size=100, metric='euclidean'):\n",
    "    \"\"\"\n",
    "    Calculate semi-variogram and make binned lags\n",
    "    [Input]\n",
    "        X          : array-like, input features\n",
    "        y          : array-like, target/interested values\n",
    "        batch_size : int, number of data in each batch (default 100)\n",
    "        metric     : str, distance algorithm for measuring pair. See options in scipy.spatial.distance.cdist (default euclidean)\n",
    "    \"\"\"\n",
    "    ## make input type to numpy.array ##\n",
    "    X = NP.atleast_1d(X)\n",
    "    y = NP.atleast_1d(y)\n",
    "\n",
    "    ## Make X, y two 2-D ##\n",
    "    if X.ndim < 2: X = X[:, NP.newaxis]\n",
    "    if y.ndim < 2: y = y[:, NP.newaxis]\n",
    "\n",
    "    ## create batch index to avoid memory over consuming ##\n",
    "    n = y.shape[0]\n",
    "    n_batch = int(n/batch_size)\n",
    "    n_batch = n_batch + 1 if n_batch < n/batch_size else n_batch\n",
    "\n",
    "    ## calculate semi-variogram ##\n",
    "    for i in range(n_batch):\n",
    "        i = i*batch_size\n",
    "        j = i + batch_size\n",
    "\n",
    "        ## calucalte distance (lag) and semivariance of pair\n",
    "        d = NP.triu(cdist(X[i:j, :], X[i:, :], metric=metric))\n",
    "        v = NP.triu(cdist(y[i:j, :], y[i:, :], metric='sqeuclidean')) # no 1/2 since no double count\n",
    "        \n",
    "        ## flat matrix\n",
    "        d = d.flatten()\n",
    "        v = v.flatten()\n",
    "\n",
    "        ## distribute semivariance and lags to lag's range (bins)\n",
    "        nlags = int(max(d)/self.lag)\n",
    "        nlags = nlags + 1 if nlags != 1 else nlags\n",
    "        for b in range(nlags):\n",
    "            edge = b*self.lag\n",
    "            msk = (d >= edge) & (d < edge + self.lag)\n",
    "            if edge in self.lags_edge:\n",
    "                self.nfills[b] += 1\n",
    "                self.lags_d[b] += sum(d[msk])\n",
    "                self.lags_n[b] += len(d[msk])\n",
    "                self.lags_v[b] += sum(v[msk])\n",
    "            else:\n",
    "                # first fill\n",
    "                self.nfills.append(1)\n",
    "                self.lags_edge.append(edge)\n",
    "                self.lags_d.append(sum(d[msk]))\n",
    "                self.lags_n.append(len(d[msk]))\n",
    "                self.lags_v.append(sum(v[msk]))"
   ]
  },
  {
   "cell_type": "code",
   "execution_count": 5,
   "metadata": {},
   "outputs": [],
   "source": [
    "## Input rive muese data to variogram object\n",
    "VAR = variogram(lag=100)\n",
    "VAR.calculate(gdf[['x', 'y']], gdf['lead'])"
   ]
  },
  {
   "cell_type": "markdown",
   "metadata": {},
   "source": [
    "## 4. Check the shape of variogram and deside the fitting function"
   ]
  },
  {
   "cell_type": "code",
   "execution_count": 6,
   "metadata": {},
   "outputs": [],
   "source": [
    "def plot(self):\n",
    "    \"\"\"\n",
    "    Displays variogram model with the actual binned data.\n",
    "    \"\"\"\n",
    "    fig, axes = PLT.subplots(figsize=PLT.gcf().get_size_inches())\n",
    "\n",
    "    ## data point ##\n",
    "    axes.set_xlim([min(self.lags_edge), max(self.lags_edge)])\n",
    "    axes.set_ylim([0, max(self.semivariograms)*1.1])\n",
    "    axes.plot(self.lags, self.semivariograms, 'k.', markersize=10)\n",
    "\n",
    "    ## fitting line ##\n",
    "    if self.fitted_parms is not None:\n",
    "        axes.plot(self.lags, self.model(self.lags, self.fitted_parms), 'r-')\n",
    "        if self.fit_range is not None:\n",
    "            axes.plot([self.fit_range[0], self.fit_range[0]], axes.get_ylim(), 'r--' )\n",
    "            axes.plot([self.fit_range[1], self.fit_range[1]], axes.get_ylim(), 'r--' )"
   ]
  },
  {
   "cell_type": "code",
   "execution_count": 7,
   "metadata": {},
   "outputs": [
    {
     "data": {
      "text/plain": [
       "<Figure size 720x432 with 0 Axes>"
      ]
     },
     "metadata": {},
     "output_type": "display_data"
    },
    {
     "data": {
      "image/png": "[encoded data removed]",
      "text/plain": [
       "<Figure size 720x432 with 1 Axes>"
      ]
     },
     "metadata": {
      "needs_background": "light"
     },
     "output_type": "display_data"
    }
   ],
   "source": [
    "PLT.figure(figsize=[10,6])\n",
    "VAR.plot()"
   ]
  },
  {
   "cell_type": "code",
   "execution_count": 8,
   "metadata": {},
   "outputs": [],
   "source": [
    "def variogram_spherical(d, pars):\n",
    "    \"\"\"Spherical model, pars[3] = [psill, range, nugget]\n",
    "                             3 * d           d^3  \n",
    "    x <= [2] : y = [0] * ( ---------  -  ---------- ) + [2]\n",
    "                            2 * [1]       2 * [1]^3\n",
    "    x > [2]  : y = [0] + [2]\n",
    "    \"\"\"\n",
    "    psill = float(pars[0])\n",
    "    prange = float(pars[1])\n",
    "    pnugget = float(pars[2])\n",
    "    return NP.piecewise( d, \n",
    "                        [d <= prange, d > prange],\n",
    "                        [lambda x: psill * ((3.*x)/(2.*prange) - (x**3.)/(2.*prange**3.)) + pnugget, \n",
    "                         psill + pnugget])"
   ]
  },
  {
   "cell_type": "markdown",
   "metadata": {},
   "source": [
    "## 5. Make fitting function"
   ]
  },
  {
   "cell_type": "code",
   "execution_count": 9,
   "metadata": {},
   "outputs": [],
   "source": [
    "def update_fit(self, x0=None, bounds=None, fit_range=None, loss='soft_l1'):\n",
    "    \"\"\"\n",
    "    Fit binned semi-variogram with input model (overwrite fitting results)\n",
    "    [Input]\n",
    "        x0         : array-like (3,), initial parameters (sill, range, nugget).\n",
    "                            If None, the default will be provided by statistical estimation. (default None)\n",
    "        bounds     : array-like (2,3), boundary of fitting parameter ((lower_bound), (upper_bound)).\n",
    "                            Each bound includes (sill, range, nugget). If None, the default will be provided\n",
    "                            by statistical estimation. (default None)\n",
    "        fit_range  : array-like (2,), minmum and maximum lag for fitting (default None)\n",
    "        loss       : str, loss function for fitting (defaut 'soft_l1')\n",
    "    \"\"\"\n",
    "    if self.model is None:\n",
    "        print(\"Error : no model found\")\n",
    "        return self\n",
    "\n",
    "    ## Fit with least square ##\n",
    "    self.fit_range = fit_range\n",
    "    ## parameter initialization\n",
    "    self.initial_fitparams(x0, bounds)\n",
    "    ## fit with least squares method\n",
    "    self.results = least_squares(fun=self._cost, x0=self.x0, bounds=self.bounds, loss=loss)\n",
    "    ## obtain fitted results\n",
    "    self.fitted_parms = self.results.x\n",
    "    self.fitted_semivariograms = self.model(NP.atleast_1d(self.lags), self.fitted_parms)\n",
    "\n",
    "    ## fitting metric ##\n",
    "    self.r2 = 1 - sum((self.fitted_semivariograms[self.msk] - self.semivariograms[self.msk])**2)/sum((self.semivariograms[self.msk] - self.semivariograms[self.msk].mean())**2)\n",
    "    #self.chi2 = sum(((self.semivariograms[self.msk] - self.fitted_semivariograms[self.msk])/self.error[self.msk])**2)\n",
    "    #self.chi2ndf = self.chi2/(len(self.semivariograms[self.msk]) - 3)"
   ]
  },
  {
   "cell_type": "code",
   "execution_count": 10,
   "metadata": {},
   "outputs": [],
   "source": [
    "## define require functions\n",
    "def initial_fitparams(self, x0=None, bounds=None):\n",
    "    \"\"\"\n",
    "    Initializae fitting parameters for variogram models\n",
    "    [Input]\n",
    "        x0     : array-like (3,), initial parameters (sill, range, nugget).\n",
    "                 If None, the default will be provided by statistical estimation. (default None)\n",
    "        bounds : array-like (2,3), boundary of fitting parameter ((lower_bound), (upper_bound)).\n",
    "                 Each bound includes (sill, range, nugget). If None, the default will be provided\n",
    "                 by statistical estimation. (default None)\n",
    "    \"\"\"\n",
    "    if x0 is None:\n",
    "        self.x0 = [NP.amax(self.semivariograms)-NP.amin(self.semivariograms),\n",
    "                   0.25*self.lags[self.semivariograms == NP.amax(self.semivariograms)][0],\n",
    "                   NP.amin(self.semivariograms)]\n",
    "    else:\n",
    "        self.x0 = x0\n",
    "\n",
    "    if bounds is None:\n",
    "        self.bounds = ([0., 0., 0.],\n",
    "                       [10.*NP.amax(self.semivariograms), NP.amax(self.lags), NP.amax(self.semivariograms)])\n",
    "    else:\n",
    "        self.bounds = bounds\n",
    "\n",
    "def _cost(self, params):\n",
    "    \"\"\"\n",
    "    Cost function for least square method\n",
    "    [Input]\n",
    "    params : array-like, input fitted parameters from least_square function\n",
    "    \"\"\"\n",
    "    ## make fitting range data mask ##\n",
    "    if self.fit_range is not None:\n",
    "        self.msk = (NP.atleast_1d(self.lags_edge) >= self.fit_range[0]) & (NP.atleast_1d(self.lags_edge) <= self.fit_range[1])\n",
    "    else:\n",
    "        self.msk = NP.full(NP.atleast_1d(self.lags_edge).shape, True)\n",
    "    ## Get residual ##\n",
    "    cost = self.model(NP.atleast_1d(self.lags)[self.msk], params) - NP.atleast_1d(self.semivariograms)[self.msk]\n",
    "    return cost"
   ]
  },
  {
   "cell_type": "code",
   "execution_count": 11,
   "metadata": {},
   "outputs": [
    {
     "data": {
      "text/plain": [
       "<Figure size 720x432 with 0 Axes>"
      ]
     },
     "metadata": {},
     "output_type": "display_data"
    },
    {
     "data": {
      "image/png": "[encoded data removed]",
      "text/plain": [
       "<Figure size 720x432 with 1 Axes>"
      ]
     },
     "metadata": {
      "needs_background": "light"
     },
     "output_type": "display_data"
    }
   ],
   "source": [
    "## fit\n",
    "VAR.model = variogram_spherical\n",
    "VAR.update_fit(fit_range=[0,1200])\n",
    "PLT.figure(figsize=[10,6])\n",
    "VAR.plot()"
   ]
  },
  {
   "cell_type": "code",
   "execution_count": 12,
   "metadata": {},
   "outputs": [
    {
     "name": "stdout",
     "output_type": "stream",
     "text": [
      "Sill 32290.490490\n",
      "Range 1029.294589\n",
      "Nugget 5850.662922\n",
      "Fit r2 0.944005\n"
     ]
    }
   ],
   "source": [
    "def summary(self):\n",
    "    \"\"\"\n",
    "    Summary fitted results\n",
    "    \"\"\"\n",
    "    print(\"Sill %f\"%(self.sill))\n",
    "    print(\"Range %f\"%(self.range))\n",
    "    print(\"Nugget %f\"%(self.nugget))\n",
    "    if self.fitted_parms is not None:\n",
    "        print(\"Fit r2 %f\"%(self.r2))\n",
    "VAR.summary()"
   ]
  },
  {
   "cell_type": "markdown",
   "metadata": {},
   "source": [
    "## Optional : Aggregate fitting and calculation function"
   ]
  },
  {
   "cell_type": "code",
   "execution_count": 13,
   "metadata": {},
   "outputs": [],
   "source": [
    "def fit(self, X, y, x0=None, bounds=None, fit_range=None, loss='soft_l1', batch_size=100, metric='euclidean'):\n",
    "    \"\"\"\n",
    "    Fit binned semi-variogram with input model (overwrite binned semi-variogram and fitting results)\n",
    "    [Input]\n",
    "        X          : array-like, input features\n",
    "        y          : array-like, target/interested values\n",
    "        x0         : array-like (3,), initial parameters (sill, range, nugget).\n",
    "                            If None, the default will be provided by statistical estimation. (default None)\n",
    "        bounds     : array-like (2,3), boundary of fitting parameter ((lower_bound), (upper_bound)).\n",
    "                            Each bound includes (sill, range, nugget). If None, the default will be provided\n",
    "                            by statistical estimation. (default None)\n",
    "        fit_range  : array-like (2,), minmum and maximum lag for fitting (default None)\n",
    "        loss       : str, loss function for fitting (defaut 'soft_l1')\n",
    "        batch_size : int, number of data in each batch (default 100)\n",
    "        metric     : str, distance algorithm for measuring pair. See options in scipy.spatial.distance.cdist (default 'euclidean')\n",
    "    \"\"\"\n",
    "    self.lags_edge = []\n",
    "    self.lags_d = []\n",
    "    self.lags_n = []\n",
    "    self.lags_v = []\n",
    "    self.lags_e = []\n",
    "    self.nfills = []\n",
    "    self.fitted_parms = None\n",
    "    ## calculate binned semi-variogram\n",
    "    self.calculate(X, y, batch_size, metric)\n",
    "    ## fit the binned semi-variogram\n",
    "    self.update_fit(x0, bounds, fit_range, loss)"
   ]
  },
  {
   "cell_type": "code",
   "execution_count": null,
   "metadata": {},
   "outputs": [],
   "source": []
  }
 ],
 "metadata": {
  "kernelspec": {
   "display_name": "Python 3",
   "language": "python",
   "name": "python3"
  },
  "language_info": {
   "codemirror_mode": {
    "name": "ipython",
    "version": 3
   },
   "file_extension": ".py",
   "mimetype": "text/x-python",
   "name": "python",
   "nbconvert_exporter": "python",
   "pygments_lexer": "ipython3",
   "version": "3.6.5"
  }
 },
 "nbformat": 4,
 "nbformat_minor": 2
}
