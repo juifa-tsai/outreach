{
 "cells": [
  {
   "cell_type": "markdown",
   "metadata": {},
   "source": [
    "# Taiwan Eathquake Open data Kirging interpolation"
   ]
  },
  {
   "cell_type": "code",
   "execution_count": 1,
   "metadata": {},
   "outputs": [],
   "source": [
    "## Common analysis packages\n",
    "import pandas as PD\n",
    "import numpy as NP\n",
    "import matplotlib.pyplot as PLT\n",
    "from tqdm import tqdm as TQDM\n",
    "\n",
    "## geometry packages\n",
    "import geopandas as GPD\n",
    "import rasterio as RAST\n",
    "from rasterio.transform import from_origin\n",
    "from shapely.geometry import Point\n",
    "\n",
    "## Load variogram object\n",
    "from variogram import variogram as VARIOGRAM\n",
    "from ordinarykriging import ordinarykriging as OK"
   ]
  },
  {
   "cell_type": "markdown",
   "metadata": {},
   "source": [
    "## 1. Load earth quake data & split to training and test data"
   ]
  },
  {
   "cell_type": "code",
   "execution_count": 2,
   "metadata": {},
   "outputs": [
    {
     "data": {
      "text/html": [
       "<div>\n",
       "<style scoped>\n",
       "    .dataframe tbody tr th:only-of-type {\n",
       "        vertical-align: middle;\n",
       "    }\n",
       "\n",
       "    .dataframe tbody tr th {\n",
       "        vertical-align: top;\n",
       "    }\n",
       "\n",
       "    .dataframe thead th {\n",
       "        text-align: right;\n",
       "    }\n",
       "</style>\n",
       "<table border=\"1\" class=\"dataframe\">\n",
       "  <thead>\n",
       "    <tr style=\"text-align: right;\">\n",
       "      <th></th>\n",
       "      <th>event</th>\n",
       "      <th>datetime</th>\n",
       "      <th>lon</th>\n",
       "      <th>lat</th>\n",
       "      <th>depth</th>\n",
       "      <th>intensity</th>\n",
       "      <th>station_id</th>\n",
       "      <th>station_name</th>\n",
       "      <th>station_lon</th>\n",
       "      <th>station_lat</th>\n",
       "      <th>distance</th>\n",
       "      <th>az</th>\n",
       "      <th>pga_v</th>\n",
       "      <th>pga_ns</th>\n",
       "      <th>pga_ew</th>\n",
       "      <th>d</th>\n",
       "      <th>pga_max</th>\n",
       "      <th>pga</th>\n",
       "    </tr>\n",
       "  </thead>\n",
       "  <tbody>\n",
       "    <tr>\n",
       "      <th>0</th>\n",
       "      <td>0</td>\n",
       "      <td>2018-12-14 04:56:39</td>\n",
       "      <td>303898.534518</td>\n",
       "      <td>2.661770e+06</td>\n",
       "      <td>17.7</td>\n",
       "      <td>3.5</td>\n",
       "      <td>TWD</td>\n",
       "      <td>Xiulin</td>\n",
       "      <td>311007.912765</td>\n",
       "      <td>2.664013e+06</td>\n",
       "      <td>8.22</td>\n",
       "      <td>255.19</td>\n",
       "      <td>8.24</td>\n",
       "      <td>5.79</td>\n",
       "      <td>8.24</td>\n",
       "      <td>7455.018061</td>\n",
       "      <td>8.24</td>\n",
       "      <td>13.012275</td>\n",
       "    </tr>\n",
       "    <tr>\n",
       "      <th>1</th>\n",
       "      <td>0</td>\n",
       "      <td>2018-12-14 04:56:39</td>\n",
       "      <td>303898.534518</td>\n",
       "      <td>2.661770e+06</td>\n",
       "      <td>17.7</td>\n",
       "      <td>3.5</td>\n",
       "      <td>ETM</td>\n",
       "      <td>Tongmen</td>\n",
       "      <td>299865.343998</td>\n",
       "      <td>2.651787e+06</td>\n",
       "      <td>11.26</td>\n",
       "      <td>17.81</td>\n",
       "      <td>27.06</td>\n",
       "      <td>53.78</td>\n",
       "      <td>53.78</td>\n",
       "      <td>10766.259718</td>\n",
       "      <td>53.78</td>\n",
       "      <td>80.726826</td>\n",
       "    </tr>\n",
       "    <tr>\n",
       "      <th>2</th>\n",
       "      <td>0</td>\n",
       "      <td>2018-12-14 04:56:39</td>\n",
       "      <td>303898.534518</td>\n",
       "      <td>2.661770e+06</td>\n",
       "      <td>17.7</td>\n",
       "      <td>3.5</td>\n",
       "      <td>HWA</td>\n",
       "      <td>HualienCity</td>\n",
       "      <td>312072.754264</td>\n",
       "      <td>2.652942e+06</td>\n",
       "      <td>13.09</td>\n",
       "      <td>317.56</td>\n",
       "      <td>15.05</td>\n",
       "      <td>14.58</td>\n",
       "      <td>15.05</td>\n",
       "      <td>12030.634070</td>\n",
       "      <td>15.05</td>\n",
       "      <td>25.798864</td>\n",
       "    </tr>\n",
       "    <tr>\n",
       "      <th>3</th>\n",
       "      <td>0</td>\n",
       "      <td>2018-12-14 04:56:39</td>\n",
       "      <td>303898.534518</td>\n",
       "      <td>2.661770e+06</td>\n",
       "      <td>17.7</td>\n",
       "      <td>3.5</td>\n",
       "      <td>ETL</td>\n",
       "      <td>Taroko</td>\n",
       "      <td>313002.380630</td>\n",
       "      <td>2.672882e+06</td>\n",
       "      <td>14.44</td>\n",
       "      <td>222.69</td>\n",
       "      <td>5.94</td>\n",
       "      <td>19.33</td>\n",
       "      <td>19.33</td>\n",
       "      <td>14365.702485</td>\n",
       "      <td>19.33</td>\n",
       "      <td>27.974656</td>\n",
       "    </tr>\n",
       "    <tr>\n",
       "      <th>4</th>\n",
       "      <td>0</td>\n",
       "      <td>2018-12-14 04:56:39</td>\n",
       "      <td>303898.534518</td>\n",
       "      <td>2.661770e+06</td>\n",
       "      <td>17.7</td>\n",
       "      <td>3.5</td>\n",
       "      <td>ETLH</td>\n",
       "      <td>Xibao</td>\n",
       "      <td>298756.774779</td>\n",
       "      <td>2.678364e+06</td>\n",
       "      <td>16.64</td>\n",
       "      <td>164.09</td>\n",
       "      <td>6.89</td>\n",
       "      <td>8.04</td>\n",
       "      <td>8.04</td>\n",
       "      <td>17372.811019</td>\n",
       "      <td>8.04</td>\n",
       "      <td>13.294935</td>\n",
       "    </tr>\n",
       "  </tbody>\n",
       "</table>\n",
       "</div>"
      ],
      "text/plain": [
       "   event             datetime            lon           lat  depth  intensity  \\\n",
       "0      0  2018-12-14 04:56:39  303898.534518  2.661770e+06   17.7        3.5   \n",
       "1      0  2018-12-14 04:56:39  303898.534518  2.661770e+06   17.7        3.5   \n",
       "2      0  2018-12-14 04:56:39  303898.534518  2.661770e+06   17.7        3.5   \n",
       "3      0  2018-12-14 04:56:39  303898.534518  2.661770e+06   17.7        3.5   \n",
       "4      0  2018-12-14 04:56:39  303898.534518  2.661770e+06   17.7        3.5   \n",
       "\n",
       "  station_id station_name    station_lon   station_lat  distance      az  \\\n",
       "0        TWD       Xiulin  311007.912765  2.664013e+06      8.22  255.19   \n",
       "1        ETM      Tongmen  299865.343998  2.651787e+06     11.26   17.81   \n",
       "2        HWA  HualienCity  312072.754264  2.652942e+06     13.09  317.56   \n",
       "3        ETL       Taroko  313002.380630  2.672882e+06     14.44  222.69   \n",
       "4       ETLH        Xibao  298756.774779  2.678364e+06     16.64  164.09   \n",
       "\n",
       "   pga_v  pga_ns  pga_ew             d  pga_max        pga  \n",
       "0   8.24    5.79    8.24   7455.018061     8.24  13.012275  \n",
       "1  27.06   53.78   53.78  10766.259718    53.78  80.726826  \n",
       "2  15.05   14.58   15.05  12030.634070    15.05  25.798864  \n",
       "3   5.94   19.33   19.33  14365.702485    19.33  27.974656  \n",
       "4   6.89    8.04    8.04  17372.811019     8.04  13.294935  "
      ]
     },
     "execution_count": 2,
     "metadata": {},
     "output_type": "execute_result"
    }
   ],
   "source": [
    "df = PD.read_csv('./data/earthquaketw.csv')\n",
    "df.head()"
   ]
  },
  {
   "cell_type": "code",
   "execution_count": 3,
   "metadata": {},
   "outputs": [
    {
     "name": "stdout",
     "output_type": "stream",
     "text": [
      "1699 548 2191\n"
     ]
    }
   ],
   "source": [
    "NP.random.seed(0)\n",
    "test_idxes = NP.random.choice(a=df.index, size=int(NP.round(len(df)/4)))\n",
    "train_idxes = NP.array(list(set(df.index).difference(set(test_idxes))))\n",
    "tw_test = df.loc[test_idxes,:].copy()\n",
    "tw_train = df.loc[train_idxes,:].copy()\n",
    "print(len(tw_train), len(tw_test), len(df))"
   ]
  },
  {
   "cell_type": "markdown",
   "metadata": {},
   "source": [
    "## 2. Evaluation with training and test data"
   ]
  },
  {
   "cell_type": "markdown",
   "metadata": {},
   "source": [
    "### 2.1. Check shape of variogram with training data\n",
    "Since each event is independent, the calculation of variogram has to be done separately."
   ]
  },
  {
   "cell_type": "code",
   "execution_count": 4,
   "metadata": {},
   "outputs": [
    {
     "name": "stderr",
     "output_type": "stream",
     "text": [
      "100%|██████████| 58/58 [00:00<00:00, 433.77it/s]\n"
     ]
    },
    {
     "data": {
      "text/plain": [
       "<Figure size 720x432 with 0 Axes>"
      ]
     },
     "metadata": {},
     "output_type": "display_data"
    },
    {
     "data": {
      "image/png": "[encoded data removed]",
      "text/plain": [
       "<Figure size 720x432 with 2 Axes>"
      ]
     },
     "metadata": {
      "needs_background": "light"
     },
     "output_type": "display_data"
    }
   ],
   "source": [
    "var_tw = VARIOGRAM(lag=10)\n",
    "events = TQDM(df['event'].unique())\n",
    "for evt in events:\n",
    "    event = tw_train.query('event == %d'%evt)\n",
    "    if len(event) == 0 : continue\n",
    "    X = event[['station_lon', 'station_lat']].values/1000\n",
    "    y = event['pga'].values\n",
    "    var_tw.calculate(X, y)\n",
    "PLT.figure(figsize=[10,6])\n",
    "var_tw.plot()"
   ]
  },
  {
   "cell_type": "markdown",
   "metadata": {},
   "source": [
    "### 2.2. Fit variogram with expolantional function"
   ]
  },
  {
   "cell_type": "code",
   "execution_count": null,
   "metadata": {},
   "outputs": [],
   "source": [
    "## Functions\n",
    "def variogram_exponential(d, pars):\n",
    "    \"\"\"Exponential model, pars[3] = [psill, range, nugget]\n",
    "                           d     \n",
    "                      - ( --- )  \n",
    "                          [1]    \n",
    "    y = [0] * ( 1 - e^         ) + [2]\n",
    "    \"\"\"\n",
    "    psill = float(pars[0])\n",
    "    prange = float(pars[1])\n",
    "    pnugget = float(pars[2])\n",
    "    return psill * (1. - NP.exp(-d/(prange))) + pnugget"
   ]
  },
  {
   "cell_type": "code",
   "execution_count": null,
   "metadata": {},
   "outputs": [
    {
     "data": {
      "text/plain": [
       "<Figure size 720x432 with 0 Axes>"
      ]
     },
     "metadata": {},
     "output_type": "display_data"
    },
    {
     "data": {
      "image/png": "[encoded data removed]",
      "text/plain": [
       "<Figure size 720x432 with 2 Axes>"
      ]
     },
     "metadata": {
      "needs_background": "light"
     },
     "output_type": "display_data"
    },
    {
     "name": "stdout",
     "output_type": "stream",
     "text": [
      "Sill 7803.577195\n",
      "Range 107.064293\n",
      "Nugget 73.111411\n",
      "Fit chi2/ndf 0.064220\n",
      "Fit r2 0.852284\n"
     ]
    }
   ],
   "source": [
    "var_tw.model = variogram_exponential\n",
    "var_tw.update_fit(fit_range=[0,200])\n",
    "PLT.figure(figsize=[10,6])\n",
    "var_tw.plot()\n",
    "var_tw.summary()"
   ]
  },
  {
   "cell_type": "markdown",
   "metadata": {},
   "source": [
    "### 2.3. Trianing Kriging prediction\n",
    "Since each event is independent, the prediction and neighbors have to be in the same event. "
   ]
  },
  {
   "cell_type": "code",
   "execution_count": null,
   "metadata": {},
   "outputs": [
    {
     "name": "stderr",
     "output_type": "stream",
     "text": [
      "100%|██████████| 58/58 [00:00<00:00, 83.82it/s]\n"
     ]
    }
   ],
   "source": [
    "## Create ordinary kriging object with input variogram\n",
    "ok_tw = OK(var_tw)\n",
    "\n",
    "## Evaluate event by event\n",
    "events = TQDM(df['event'].unique())\n",
    "for evt in events:\n",
    "    msk_test  = tw_test['event'] == evt\n",
    "    msk_train = tw_train['event'] == evt\n",
    "    \n",
    "    X_test  = tw_test.loc[msk_test, ['station_lon', 'station_lat']].values/1000\n",
    "    X_train = tw_train.loc[msk_train, ['station_lon', 'station_lat']].values/1000\n",
    "    y_train = tw_train.loc[msk_train, 'pga'].values\n",
    "    \n",
    "    ## Load train data point\n",
    "    if len(X_train) == 0: \n",
    "        continue\n",
    "    else:\n",
    "        ok_tw.fit(X_train, y_train)\n",
    "        tw_train.loc[msk_train, 'pga_predict'] = ok_tw.predict(X_train)[0]\n",
    "        \n",
    "    ## Load test data point\n",
    "    if len(X_test) == 0:\n",
    "        continue\n",
    "    else:\n",
    "        tw_test.loc[msk_test, 'pga_predict'] = ok_tw.predict(X_test)[0]\n",
    "        \n",
    "## obtain residual\n",
    "tw_train['residual'] = tw_train['pga_predict'] - tw_train['pga']\n",
    "tw_test['residual'] = tw_test['pga_predict'] - tw_test['pga']"
   ]
  },
  {
   "cell_type": "code",
   "execution_count": null,
   "metadata": {},
   "outputs": [
    {
     "data": {
      "image/png": "[encoded data removed]",
      "text/plain": [
       "<Figure size 432x432 with 4 Axes>"
      ]
     },
     "metadata": {
      "needs_background": "light"
     },
     "output_type": "display_data"
    }
   ],
   "source": [
    "## visulization\n",
    "pga_limit = 100\n",
    "PLT.figure(figsize=(6,6))\n",
    "PLT.subplot(221)\n",
    "PLT.plot(tw_train['pga_predict'], tw_train['pga'], '.')\n",
    "PLT.title('Training: pred vs obs')\n",
    "PLT.xlabel('Predictions')\n",
    "PLT.ylabel('True value')\n",
    "PLT.plot([0,pga_limit], [0,pga_limit], 'g--')\n",
    "PLT.ylim(0,pga_limit)\n",
    "PLT.xlim(0,pga_limit)\n",
    "PLT.subplot(222)\n",
    "tw_train['residual'].hist()\n",
    "PLT.title('Hist training res\\nMedian absolute error: {:.1f}'.format(NP.median(NP.abs(tw_train['residual']))))\n",
    "PLT.subplot(223)\n",
    "PLT.plot(tw_test['pga_predict'], tw_test['pga'], '.')\n",
    "PLT.plot([0,pga_limit], [0,pga_limit], 'g--')\n",
    "PLT.title('Test: pred vs obs')\n",
    "PLT.xlabel('Predictions')\n",
    "PLT.ylabel('True value')\n",
    "PLT.ylim(0,pga_limit)\n",
    "PLT.xlim(0,pga_limit)\n",
    "PLT.subplot(224)\n",
    "tw_test['residual'].hist()\n",
    "PLT.title('Hist test res\\nMedian absolute error: {:.1f}'.format(NP.median(NP.abs(tw_test['residual']))))\n",
    "PLT.tight_layout()"
   ]
  },
  {
   "cell_type": "markdown",
   "metadata": {},
   "source": [
    "## 3. Generate raster data for visulization"
   ]
  },
  {
   "cell_type": "markdown",
   "metadata": {},
   "source": [
    "### 3.1. Input all data for variogram and kriging"
   ]
  },
  {
   "cell_type": "code",
   "execution_count": null,
   "metadata": {},
   "outputs": [
    {
     "name": "stderr",
     "output_type": "stream",
     "text": [
      "100%|██████████| 58/58 [00:00<00:00, 272.51it/s]\n"
     ]
    }
   ],
   "source": [
    "var_tw = VARIOGRAM(10, model=variogram_exponential)\n",
    "events = TQDM(df['event'].unique())\n",
    "for evt in events:\n",
    "    event = df.query('event == %d'%evt)\n",
    "    X = event[['station_lon', 'station_lat']].values/1000\n",
    "    y = event['pga'].values\n",
    "    var_tw.calculate(X, y)\n",
    "var_tw.update_fit(fit_range=[0,200])"
   ]
  },
  {
   "cell_type": "code",
   "execution_count": null,
   "metadata": {},
   "outputs": [],
   "source": [
    "ok_tw = OK(var_tw)"
   ]
  },
  {
   "cell_type": "markdown",
   "metadata": {},
   "source": [
    "### 3.2. Make grids in the interseted region"
   ]
  },
  {
   "cell_type": "code",
   "execution_count": null,
   "metadata": {},
   "outputs": [
    {
     "name": "stdout",
     "output_type": "stream",
     "text": [
      ">> Interpolating 3311 cells (43, 77)....\n"
     ]
    }
   ],
   "source": [
    "cellsize = 5000 # [m]\n",
    "xmin = 145541\n",
    "xmax = 355210\n",
    "ymin = 2421543\n",
    "ymax = 2800785\n",
    "# * Create 2D extent and grid\n",
    "## Grid is from top-left to bottom-right\n",
    "X, Y = NP.meshgrid( NP.arange(xmin, xmax+cellsize, cellsize),\n",
    "                    NP.arange(ymin, ymax+cellsize, cellsize))\n",
    "## set prediction location is in the central of grid\n",
    "xy = NP.concatenate(( X.flatten()[:, NP.newaxis] + cellsize/2,\n",
    "                      Y.flatten()[:, NP.newaxis] - cellsize/2),\n",
    "                      axis=1)\n",
    "## Define variables\n",
    "xbins = X.shape[1]\n",
    "ybins = Y.shape[0]\n",
    "transform = from_origin(X.min(), Y.max(), cellsize, cellsize) # Set raster left-top's coordinates\n",
    "print(\">> Interpolating %d cells (%d, %d)....\"%(len(xy), xbins, ybins))"
   ]
  },
  {
   "cell_type": "markdown",
   "metadata": {},
   "source": [
    "### 3.3. Prediction and generate .tif event by event"
   ]
  },
  {
   "cell_type": "code",
   "execution_count": null,
   "metadata": {},
   "outputs": [
    {
     "name": "stderr",
     "output_type": "stream",
     "text": [
      " 12%|█▏        | 7/58 [00:04<00:23,  2.13it/s]"
     ]
    }
   ],
   "source": [
    "## Predict\n",
    "events = TQDM(df['event'].unique())\n",
    "for evt in events:\n",
    "    ## Select event\n",
    "    event = df.query('event == %d'%evt).reset_index(drop=True)\n",
    "    X = event[['station_lon', 'station_lat']].values/1000\n",
    "    y = event['pga'].values\n",
    "    name = event['datetime'].values[0].split()[0]\n",
    "    \n",
    "    ## ordinary prediction\n",
    "    ok_tw.fit(X, y)\n",
    "    prediction = ok_tw.predict(xy/1000.)\n",
    "    #prediction = ok_tw.predict(xy/1000., radius=var_tw.range)\n",
    "    \n",
    "    ## raster data .tif\n",
    "    raster = RAST.open('./data/pga_prediction_%d_%s.tif'%(evt, name),  \n",
    "                   'w',\n",
    "                    driver='GTiff',\n",
    "                    height=ybins,\n",
    "                    width=xbins,\n",
    "                    count=1,\n",
    "                    dtype=prediction[0].dtype,\n",
    "                    crs='epsg:3826',\n",
    "                    transform=transform )\n",
    "    raster.write(NP.flip(prediction[0].reshape(ybins,xbins), 0), 1)\n",
    "    raster.close()\n",
    "    \n",
    "    raster = RAST.open('./data/pga_prediction_error_%d_%s.tif'%(evt,name),                   \n",
    "                   'w',\n",
    "                    driver='GTiff',\n",
    "                    height=ybins,\n",
    "                    width=xbins,\n",
    "                    count=1,\n",
    "                    dtype=prediction[1].dtype,\n",
    "                    crs='epsg:3826',\n",
    "                    transform=transform )\n",
    "    raster.write(NP.flip(prediction[1].reshape(ybins,xbins), 0), 1)\n",
    "    raster.close()\n",
    "    \n",
    "    ## Create .shp file of events\n",
    "    event['geom'] = event[['station_lon', 'station_lat']].apply(lambda x: Point(x), axis=1)\n",
    "    event = GPD.GeoDataFrame(event[['event', 'depth', 'intensity', 'station_id', 'distance', 'az', 'pga_v', 'pga_ns', 'pga_ew', 'd', 'pga_max', 'pga', 'geom']], geometry='geom')\n",
    "    event.crs={'init' :'epsg:3826'}\n",
    "    event.to_file('./data/earthquaketw_%d_%s.shp'%(evt,name), driver='ESRI Shapefile', encoding = 'utf-8')"
   ]
  }
 ],
 "metadata": {
  "kernelspec": {
   "display_name": "Python 3",
   "language": "python",
   "name": "python3"
  },
  "language_info": {
   "codemirror_mode": {
    "name": "ipython",
    "version": 3
   },
   "file_extension": ".py",
   "mimetype": "text/x-python",
   "name": "python",
   "nbconvert_exporter": "python",
   "pygments_lexer": "ipython3",
   "version": "3.6.5"
  }
 },
 "nbformat": 4,
 "nbformat_minor": 2
}
